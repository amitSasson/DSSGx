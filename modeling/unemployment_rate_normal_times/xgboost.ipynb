{
 "cells": [
  {
   "cell_type": "markdown",
   "metadata": {},
   "source": [
    "1. sort by time, split by time, but we have multiple rows for one single time\n",
    "2. integrate stationary data with time series model\n",
    "3. interpolate / backcast nan"
   ]
  },
  {
   "cell_type": "markdown",
   "metadata": {},
   "source": [
    "to see logging results, go to the directory of this folder and run `mlflow ui` in terminal. the server will be at http://127.0.0.1:5000."
   ]
  },
  {
   "cell_type": "code",
   "execution_count": 1,
   "metadata": {},
   "outputs": [],
   "source": [
    "# Import necessary libraries\n",
    "import os\n",
    "import pandas as pd\n",
    "import numpy as np\n",
    "import datetime\n",
    "\n",
    "# Mlflow\n",
    "import mlflow\n",
    "import mlflow.sklearn\n",
    "import mlflow.xgboost\n",
    "\n",
    "# Visualisation\n",
    "import seaborn as sns\n",
    "import matplotlib.pyplot as plt\n",
    "\n",
    "# Machine Learning\n",
    "import xgboost as xgb\n",
    "from xgboost import plot_importance, plot_tree\n",
    "\n",
    "# Model Evaluiation\n",
    "from sklearn.metrics import mean_squared_error, r2_score\n",
    "from sklearn.model_selection import train_test_split"
   ]
  },
  {
   "cell_type": "code",
   "execution_count": 2,
   "metadata": {},
   "outputs": [],
   "source": [
    "df1 = pd.read_csv('../../final_dfs/for_modeling/df_final_date_wide_2007.csv', index_col=0)\n",
    "df2 = pd.read_csv('../../final_dfs/for_modeling/df_final_stationery.csv')"
   ]
  },
  {
   "cell_type": "code",
   "execution_count": 3,
   "metadata": {},
   "outputs": [
    {
     "data": {
      "text/plain": [
       "(65363, 40)"
      ]
     },
     "execution_count": 3,
     "metadata": {},
     "output_type": "execute_result"
    }
   ],
   "source": [
    "df1.shape"
   ]
  },
  {
   "cell_type": "code",
   "execution_count": 4,
   "metadata": {},
   "outputs": [
    {
     "data": {
      "text/html": [
       "<div>\n",
       "<style scoped>\n",
       "    .dataframe tbody tr th:only-of-type {\n",
       "        vertical-align: middle;\n",
       "    }\n",
       "\n",
       "    .dataframe tbody tr th {\n",
       "        vertical-align: top;\n",
       "    }\n",
       "\n",
       "    .dataframe thead th {\n",
       "        text-align: right;\n",
       "    }\n",
       "</style>\n",
       "<table border=\"1\" class=\"dataframe\">\n",
       "  <thead>\n",
       "    <tr style=\"text-align: right;\">\n",
       "      <th></th>\n",
       "      <th>ags2</th>\n",
       "      <th>ags5</th>\n",
       "      <th>date</th>\n",
       "      <th>number_of_company_deletions</th>\n",
       "      <th>number_of_company_liquidations</th>\n",
       "      <th>number_of_start_ups</th>\n",
       "      <th>number_of_companies_administration</th>\n",
       "      <th>number_of_companies_agriculture</th>\n",
       "      <th>number_of_companies_arts_entertainment</th>\n",
       "      <th>number_of_companies_communication</th>\n",
       "      <th>...</th>\n",
       "      <th>realized_short_time_work_companies</th>\n",
       "      <th>realized_short_time_work_people</th>\n",
       "      <th>underemployment_without_short_time _work</th>\n",
       "      <th>unemployment_benefit_entitled</th>\n",
       "      <th>unemployment_benefit_recipients</th>\n",
       "      <th>unemployment_rate</th>\n",
       "      <th>registerd_jobs</th>\n",
       "      <th>unemployed</th>\n",
       "      <th>employees_social_security_at_work</th>\n",
       "      <th>employees_social_security_at_residence</th>\n",
       "    </tr>\n",
       "  </thead>\n",
       "  <tbody>\n",
       "    <tr>\n",
       "      <th>0</th>\n",
       "      <td>1</td>\n",
       "      <td>1001</td>\n",
       "      <td>2007-05-01</td>\n",
       "      <td>4.0</td>\n",
       "      <td>2.0</td>\n",
       "      <td>21.0</td>\n",
       "      <td>NaN</td>\n",
       "      <td>NaN</td>\n",
       "      <td>NaN</td>\n",
       "      <td>NaN</td>\n",
       "      <td>...</td>\n",
       "      <td>NaN</td>\n",
       "      <td>NaN</td>\n",
       "      <td>NaN</td>\n",
       "      <td>NaN</td>\n",
       "      <td>NaN</td>\n",
       "      <td>12.7</td>\n",
       "      <td>784</td>\n",
       "      <td>5559</td>\n",
       "      <td>38319</td>\n",
       "      <td>24519</td>\n",
       "    </tr>\n",
       "    <tr>\n",
       "      <th>1</th>\n",
       "      <td>1</td>\n",
       "      <td>1001</td>\n",
       "      <td>2007-06-01</td>\n",
       "      <td>8.0</td>\n",
       "      <td>6.0</td>\n",
       "      <td>18.0</td>\n",
       "      <td>NaN</td>\n",
       "      <td>NaN</td>\n",
       "      <td>NaN</td>\n",
       "      <td>NaN</td>\n",
       "      <td>...</td>\n",
       "      <td>NaN</td>\n",
       "      <td>NaN</td>\n",
       "      <td>NaN</td>\n",
       "      <td>NaN</td>\n",
       "      <td>NaN</td>\n",
       "      <td>12.2</td>\n",
       "      <td>932</td>\n",
       "      <td>5323</td>\n",
       "      <td>38266</td>\n",
       "      <td>24560</td>\n",
       "    </tr>\n",
       "  </tbody>\n",
       "</table>\n",
       "<p>2 rows × 40 columns</p>\n",
       "</div>"
      ],
      "text/plain": [
       "   ags2  ags5        date  number_of_company_deletions  \\\n",
       "0     1  1001  2007-05-01                          4.0   \n",
       "1     1  1001  2007-06-01                          8.0   \n",
       "\n",
       "   number_of_company_liquidations  number_of_start_ups  \\\n",
       "0                             2.0                 21.0   \n",
       "1                             6.0                 18.0   \n",
       "\n",
       "   number_of_companies_administration  number_of_companies_agriculture  \\\n",
       "0                                 NaN                              NaN   \n",
       "1                                 NaN                              NaN   \n",
       "\n",
       "   number_of_companies_arts_entertainment  number_of_companies_communication  \\\n",
       "0                                     NaN                                NaN   \n",
       "1                                     NaN                                NaN   \n",
       "\n",
       "   ...  realized_short_time_work_companies  realized_short_time_work_people  \\\n",
       "0  ...                                 NaN                              NaN   \n",
       "1  ...                                 NaN                              NaN   \n",
       "\n",
       "   underemployment_without_short_time _work  unemployment_benefit_entitled  \\\n",
       "0                                       NaN                            NaN   \n",
       "1                                       NaN                            NaN   \n",
       "\n",
       "   unemployment_benefit_recipients  unemployment_rate  registerd_jobs  \\\n",
       "0                              NaN               12.7             784   \n",
       "1                              NaN               12.2             932   \n",
       "\n",
       "   unemployed  employees_social_security_at_work  \\\n",
       "0        5559                              38319   \n",
       "1        5323                              38266   \n",
       "\n",
       "   employees_social_security_at_residence  \n",
       "0                                   24519  \n",
       "1                                   24560  \n",
       "\n",
       "[2 rows x 40 columns]"
      ]
     },
     "execution_count": 4,
     "metadata": {},
     "output_type": "execute_result"
    }
   ],
   "source": [
    "df1.head(2)"
   ]
  },
  {
   "cell_type": "code",
   "execution_count": null,
   "metadata": {},
   "outputs": [],
   "source": []
  },
  {
   "cell_type": "markdown",
   "metadata": {},
   "source": [
    "### prelim data cleaning"
   ]
  },
  {
   "cell_type": "code",
   "execution_count": 5,
   "metadata": {},
   "outputs": [],
   "source": [
    "#df1.isna().sum()"
   ]
  },
  {
   "cell_type": "code",
   "execution_count": 6,
   "metadata": {},
   "outputs": [],
   "source": [
    "#df1 = df1.replace({'0':np.nan, 0:np.nan})"
   ]
  },
  {
   "cell_type": "code",
   "execution_count": 7,
   "metadata": {},
   "outputs": [],
   "source": [
    "#df1.isna().sum()"
   ]
  },
  {
   "cell_type": "code",
   "execution_count": 8,
   "metadata": {
    "scrolled": true
   },
   "outputs": [],
   "source": [
    "#df1.columns"
   ]
  },
  {
   "cell_type": "code",
   "execution_count": 9,
   "metadata": {},
   "outputs": [],
   "source": [
    "na_cols = ['number_of_companies_administration', 'number_of_companies_agriculture',\n",
    "       'number_of_companies_arts_entertainment',\n",
    "       'number_of_companies_communication', 'number_of_companies_construction',\n",
    "       'number_of_companies_domestic_staff',\n",
    "       'number_of_companies_economic_services',\n",
    "       'number_of_companies_education', 'number_of_companies_energy',\n",
    "       'number_of_companies_extraterritorial',\n",
    "       'number_of_companies_financial_and_insurance',\n",
    "       'number_of_companies_health_and_social_services',\n",
    "       'number_of_companies_hospitality', 'number_of_companies_manufacturing',\n",
    "       'number_of_companies_mining', 'number_of_companies_real_estat',\n",
    "       'number_of_companies_rendering_other_services',\n",
    "       'number_of_companies_repair_motor_vehicles',\n",
    "       'number_of_companies_technical_services',\n",
    "       'number_of_companies_transport', 'number_of_companies_unknown_sector',\n",
    "       'number_of_companies_water_and_sewage',\n",
    "       'displayed_short_time_work_companies',\n",
    "       'displayed_short_time_work_people',\n",
    "       'realized_short_time_work_companies', 'realized_short_time_work_people',\n",
    "       'underemployment_without_short_time _work',\n",
    "       'unemployment_benefit_entitled', 'unemployment_benefit_recipients']"
   ]
  },
  {
   "cell_type": "code",
   "execution_count": 10,
   "metadata": {},
   "outputs": [],
   "source": [
    "#df1[na_cols] = df1[na_cols].replace({'0':np.nan, 0:np.nan})"
   ]
  },
  {
   "cell_type": "code",
   "execution_count": 11,
   "metadata": {
    "scrolled": true
   },
   "outputs": [],
   "source": [
    "#df1.isna().sum()"
   ]
  },
  {
   "cell_type": "code",
   "execution_count": 12,
   "metadata": {},
   "outputs": [],
   "source": [
    "df1 = df1.dropna(axis='columns')"
   ]
  },
  {
   "cell_type": "code",
   "execution_count": 13,
   "metadata": {},
   "outputs": [
    {
     "data": {
      "text/plain": [
       "(65363, 11)"
      ]
     },
     "execution_count": 13,
     "metadata": {},
     "output_type": "execute_result"
    }
   ],
   "source": [
    "df1.shape"
   ]
  },
  {
   "cell_type": "code",
   "execution_count": null,
   "metadata": {},
   "outputs": [],
   "source": []
  },
  {
   "cell_type": "markdown",
   "metadata": {},
   "source": [
    "converting data to datetime and extracting time to fit in model"
   ]
  },
  {
   "cell_type": "code",
   "execution_count": 14,
   "metadata": {},
   "outputs": [
    {
     "data": {
      "text/plain": [
       "dtype('O')"
      ]
     },
     "execution_count": 14,
     "metadata": {},
     "output_type": "execute_result"
    }
   ],
   "source": [
    "df1.dtypes['date'] #object"
   ]
  },
  {
   "cell_type": "code",
   "execution_count": 15,
   "metadata": {},
   "outputs": [],
   "source": [
    "df1['date'] = pd.to_datetime(df1['date'], format='%Y-%m-%d', errors='ignore')"
   ]
  },
  {
   "cell_type": "code",
   "execution_count": 16,
   "metadata": {},
   "outputs": [
    {
     "data": {
      "text/plain": [
       "dtype('<M8[ns]')"
      ]
     },
     "execution_count": 16,
     "metadata": {},
     "output_type": "execute_result"
    }
   ],
   "source": [
    "df1.dtypes['date'] #datetime64[ns]"
   ]
  },
  {
   "cell_type": "code",
   "execution_count": 17,
   "metadata": {},
   "outputs": [],
   "source": [
    "# sort date to split by time\n",
    "df1 = df1.sort_values(by=['date', 'ags5'])"
   ]
  },
  {
   "cell_type": "code",
   "execution_count": 18,
   "metadata": {},
   "outputs": [],
   "source": [
    "df1 = df1.reset_index(drop=True)"
   ]
  },
  {
   "cell_type": "code",
   "execution_count": 19,
   "metadata": {},
   "outputs": [],
   "source": [
    "df1['year'] = df1['date'].dt.year\n",
    "df1['month'] = df1['date'].dt.month"
   ]
  },
  {
   "cell_type": "code",
   "execution_count": 20,
   "metadata": {},
   "outputs": [],
   "source": [
    "#df1.dtypes"
   ]
  },
  {
   "cell_type": "code",
   "execution_count": null,
   "metadata": {},
   "outputs": [],
   "source": []
  },
  {
   "cell_type": "markdown",
   "metadata": {},
   "source": [
    "### training function"
   ]
  },
  {
   "cell_type": "code",
   "execution_count": 21,
   "metadata": {},
   "outputs": [],
   "source": [
    "def train_xgb(X_train, X_test, y_train, y_test, params, run_name='xgb_model_run'):\n",
    "    with mlflow.start_run(run_name=run_name):\n",
    "\n",
    "        reg = xgb.XGBRegressor(**params)\n",
    "        reg.fit(X_train, y_train)\n",
    "        y_pred = reg.predict(X_test)\n",
    "        \n",
    "        # evaluation metrics\n",
    "        rmse = mean_squared_error(y_test, y_pred, squared=False)\n",
    "        r2 = r2_score(y_test, y_pred)\n",
    "        \n",
    "        print(\"Model Run Statistics\")\n",
    "        print(f\"RMSE: {rmse}\")\n",
    "        print(f\"R2 Score: {r2}\")\n",
    "        \n",
    "        # parameters\n",
    "        mlflow.log_params(params)\n",
    "        mlflow.log_param('X_vars', str(list(X.columns)))\n",
    "        \n",
    "        # metrics\n",
    "        mlflow.log_metric(\"rmse\", rmse)\n",
    "        mlflow.log_metric(\"r2\", r2)\n",
    "        \n",
    "        # important features\n",
    "        imp_features = pd.DataFrame({\n",
    "            'features':X.columns, \n",
    "            'importance':reg.feature_importances_\n",
    "        })\n",
    "        imp_features.sort_values(by='importance', ascending=False, inplace=True)\n",
    "        print(imp_features.head(20))\n",
    "        \n",
    "        mlflow.log_param('imp_features', str(list(imp_features.head(20)['features'].values)))\n",
    "\n",
    "        mlflow.xgboost.log_model(reg, \"model\")\n",
    "        \n",
    "        # Return the model\n",
    "        return reg"
   ]
  },
  {
   "cell_type": "code",
   "execution_count": 22,
   "metadata": {},
   "outputs": [],
   "source": [
    "params_1 = {'n_estimators': 500,\n",
    "            'max_depth':4, \n",
    "            'min_samples_split':5,\n",
    "            'learning_rate': 0.01, \n",
    "            'loss':'ls', \n",
    "            'verbosity':1}"
   ]
  },
  {
   "cell_type": "code",
   "execution_count": 23,
   "metadata": {},
   "outputs": [],
   "source": [
    "params_2 = {'n_estimators': 1000,\n",
    "            'max_depth': 6, \n",
    "            'min_samples_split': 5,\n",
    "            'learning_rate': 0.01, \n",
    "            'loss':'ls', \n",
    "            'verbosity':1}"
   ]
  },
  {
   "cell_type": "code",
   "execution_count": null,
   "metadata": {},
   "outputs": [],
   "source": []
  },
  {
   "cell_type": "markdown",
   "metadata": {},
   "source": [
    "### lag variables"
   ]
  },
  {
   "cell_type": "code",
   "execution_count": 24,
   "metadata": {},
   "outputs": [],
   "source": [
    "alq = df1[df1['ags5']==1001]['unemployment_rate'].shift(-1)"
   ]
  },
  {
   "cell_type": "code",
   "execution_count": 25,
   "metadata": {},
   "outputs": [
    {
     "name": "stderr",
     "output_type": "stream",
     "text": [
      "<ipython-input-25-0da157962df7>:2: SettingWithCopyWarning: \n",
      "A value is trying to be set on a copy of a slice from a DataFrame.\n",
      "Try using .loc[row_indexer,col_indexer] = value instead\n",
      "\n",
      "See the caveats in the documentation: https://pandas.pydata.org/pandas-docs/stable/user_guide/indexing.html#returning-a-view-versus-a-copy\n",
      "  k1001['ur_lag'] = alq\n",
      "<ipython-input-25-0da157962df7>:3: SettingWithCopyWarning: \n",
      "A value is trying to be set on a copy of a slice from a DataFrame\n",
      "\n",
      "See the caveats in the documentation: https://pandas.pydata.org/pandas-docs/stable/user_guide/indexing.html#returning-a-view-versus-a-copy\n",
      "  k1001.dropna(inplace=True)\n"
     ]
    }
   ],
   "source": [
    "k1001 = df1[df1['ags5']==1001]\n",
    "k1001['ur_lag'] = alq\n",
    "k1001.dropna(inplace=True)"
   ]
  },
  {
   "cell_type": "code",
   "execution_count": 26,
   "metadata": {},
   "outputs": [],
   "source": [
    "# filter to normal time\n",
    "k1001 = k1001[(k1001['date']>datetime.datetime(2010,1,1)) \n",
    "          & (k1001['date']<datetime.datetime(2019,12,31))] "
   ]
  },
  {
   "cell_type": "code",
   "execution_count": null,
   "metadata": {},
   "outputs": [],
   "source": []
  },
  {
   "cell_type": "markdown",
   "metadata": {},
   "source": [
    "### model v1"
   ]
  },
  {
   "cell_type": "code",
   "execution_count": 27,
   "metadata": {},
   "outputs": [],
   "source": [
    "# Create X and y \n",
    "#X = df1.drop(na_cols, axis=1)\n",
    "X = k1001.drop(['ags5', 'ags2', 'date', 'unemployment_rate', 'ur_lag'], axis=1) \n",
    "y = k1001['ur_lag']"
   ]
  },
  {
   "cell_type": "code",
   "execution_count": 28,
   "metadata": {},
   "outputs": [],
   "source": [
    "# split time-series data\n",
    "train_size = int(len(X)*0.8)\n",
    "#train_size = int(len(X)/401*0.8)*401 #so that data is split in time\n",
    "X_train, X_test = X[0:train_size], X[train_size:len(X)]\n",
    "y_train, y_test = y[0:train_size], y[train_size:len(X)]"
   ]
  },
  {
   "cell_type": "code",
   "execution_count": 29,
   "metadata": {},
   "outputs": [
    {
     "name": "stdout",
     "output_type": "stream",
     "text": [
      "[19:42:22] WARNING: /Users/travis/build/dmlc/xgboost/src/learner.cc:573: \n",
      "Parameters: { \"loss\", \"min_samples_split\" } might not be used.\n",
      "\n",
      "  This may not be accurate due to some parameters are only used in language bindings but\n",
      "  passed down to XGBoost core.  Or some parameters are not used but slip through this\n",
      "  verification. Please open an issue if you find above cases.\n",
      "\n",
      "\n",
      "Model Run Statistics\n",
      "RMSE: 0.7066496047003094\n",
      "R2 Score: -1.3684758758408067\n",
      "                                 features  importance\n",
      "6  employees_social_security_at_residence    0.635686\n",
      "5       employees_social_security_at_work    0.141658\n",
      "4                              unemployed    0.096770\n",
      "3                          registerd_jobs    0.061028\n",
      "7                                    year    0.031959\n",
      "8                                   month    0.016881\n",
      "1          number_of_company_liquidations    0.006235\n",
      "2                     number_of_start_ups    0.006080\n",
      "0             number_of_company_deletions    0.003703\n",
      "[19:42:23] WARNING: /Users/travis/build/dmlc/xgboost/src/learner.cc:573: \n",
      "Parameters: { \"loss\", \"min_samples_split\" } might not be used.\n",
      "\n",
      "  This may not be accurate due to some parameters are only used in language bindings but\n",
      "  passed down to XGBoost core.  Or some parameters are not used but slip through this\n",
      "  verification. Please open an issue if you find above cases.\n",
      "\n",
      "\n",
      "Model Run Statistics\n",
      "RMSE: 0.7173400513837882\n",
      "R2 Score: -1.4406802339255136\n",
      "                                 features  importance\n",
      "6  employees_social_security_at_residence    0.770427\n",
      "5       employees_social_security_at_work    0.105752\n",
      "4                              unemployed    0.045007\n",
      "3                          registerd_jobs    0.033122\n",
      "7                                    year    0.029712\n",
      "8                                   month    0.010363\n",
      "1          number_of_company_liquidations    0.001990\n",
      "2                     number_of_start_ups    0.001924\n",
      "0             number_of_company_deletions    0.001703\n"
     ]
    }
   ],
   "source": [
    "model1_1 = train_xgb(X_train, X_test, y_train, y_test, params_1, run_name='v1.1')\n",
    "model1_2 = train_xgb(X_train, X_test, y_train, y_test, params_2, run_name='v1.2')"
   ]
  },
  {
   "cell_type": "code",
   "execution_count": null,
   "metadata": {},
   "outputs": [],
   "source": []
  },
  {
   "cell_type": "code",
   "execution_count": null,
   "metadata": {},
   "outputs": [],
   "source": []
  }
 ],
 "metadata": {
  "kernelspec": {
   "display_name": "Python 3",
   "language": "python",
   "name": "python3"
  },
  "language_info": {
   "codemirror_mode": {
    "name": "ipython",
    "version": 3
   },
   "file_extension": ".py",
   "mimetype": "text/x-python",
   "name": "python",
   "nbconvert_exporter": "python",
   "pygments_lexer": "ipython3",
   "version": "3.8.5"
  }
 },
 "nbformat": 4,
 "nbformat_minor": 4
}
