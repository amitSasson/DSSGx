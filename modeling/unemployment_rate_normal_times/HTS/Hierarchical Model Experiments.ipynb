{
 "cells": [
  {
   "cell_type": "code",
   "execution_count": 3,
   "id": "8f5902d6",
   "metadata": {},
   "outputs": [],
   "source": [
    "# Import libraries \n",
    "import os\n",
    "import pandas as pd\n",
    "import numpy as np\n",
    "import json\n",
    "\n",
    "import mlflow\n",
    "\n",
    "import matplotlib.pyplot as plt\n",
    "import seaborn as sns; sns.set()\n",
    "\n",
    "from pathlib import Path\n",
    "from functools import reduce\n",
    "\n",
    "from datetime import datetime\n",
    "from hts import HTSRegressor\n",
    "import hts.functions\n",
    "import collections\n",
    "from hts.hierarchy import HierarchyTree\n",
    "from sklearn.metrics import mean_squared_error\n",
    "\n",
    "import warnings\n",
    "warnings.simplefilter(\"ignore\")\n",
    "\n",
    "# settings\n",
    "plt.style.use('seaborn')\n",
    "plt.rcParams[\"figure.figsize\"] = (20, 8)"
   ]
  },
  {
   "cell_type": "markdown",
   "id": "2a5dfd0e",
   "metadata": {},
   "source": [
    "## Utility functions "
   ]
  },
  {
   "cell_type": "code",
   "execution_count": 34,
   "id": "4a43fa49",
   "metadata": {},
   "outputs": [],
   "source": [
    "# function to fix the ags \n",
    "def fix_ags5(x):\n",
    "    if len((str(x))) == 4:\n",
    "        return '0' + str(x)\n",
    "    else: \n",
    "        return x"
   ]
  },
  {
   "cell_type": "code",
   "execution_count": 83,
   "id": "836ae6dc",
   "metadata": {},
   "outputs": [],
   "source": [
    "# Function to add the column to the main data\n",
    "def add_column_to_main_data(data, cluster_data, col_name):\n",
    "    \n",
    "    cluster_data['ags5'] = cluster_data['ags5'].apply(fix_ags5)\n",
    "    \n",
    "    # Get the cluster and ags 5 and set ags 5 as index \n",
    "    cluster_info = cluster_data.set_index('ags5').to_dict()[col_name]\n",
    "    \n",
    "    data['cluster'] = '0'\n",
    "    data['cluster'] = data['ags5'].map(cluster_info)\n",
    "\n",
    "    # check if the cluster have been allotted correctly \n",
    "    print(\"original cluster data\")\n",
    "    print(cluster_data[col_name].value_counts())\n",
    "    print(\"New data\")\n",
    "    print(data.drop_duplicates(subset=['ags5'])['cluster'].value_counts())\n",
    "    \n",
    "    return data "
   ]
  },
  {
   "cell_type": "markdown",
   "id": "610e5fab",
   "metadata": {},
   "source": [
    "## Read the data"
   ]
  },
  {
   "cell_type": "code",
   "execution_count": 74,
   "id": "7f5ea4b7",
   "metadata": {},
   "outputs": [
    {
     "data": {
      "text/plain": [
       "(48120, 3)"
      ]
     },
     "execution_count": 74,
     "metadata": {},
     "output_type": "execute_result"
    }
   ],
   "source": [
    "# Read the data\n",
    "df = pd.read_csv('data_from_2010_to_2019_unemployment_rate.csv', converters={'ags2': str, 'ags5': str})\n",
    "df.shape"
   ]
  },
  {
   "cell_type": "code",
   "execution_count": 75,
   "id": "1306da75",
   "metadata": {},
   "outputs": [
    {
     "data": {
      "text/html": [
       "<div>\n",
       "<style scoped>\n",
       "    .dataframe tbody tr th:only-of-type {\n",
       "        vertical-align: middle;\n",
       "    }\n",
       "\n",
       "    .dataframe tbody tr th {\n",
       "        vertical-align: top;\n",
       "    }\n",
       "\n",
       "    .dataframe thead th {\n",
       "        text-align: right;\n",
       "    }\n",
       "</style>\n",
       "<table border=\"1\" class=\"dataframe\">\n",
       "  <thead>\n",
       "    <tr style=\"text-align: right;\">\n",
       "      <th></th>\n",
       "      <th>ags5</th>\n",
       "      <th>date</th>\n",
       "      <th>unemployment_rate</th>\n",
       "    </tr>\n",
       "  </thead>\n",
       "  <tbody>\n",
       "    <tr>\n",
       "      <th>0</th>\n",
       "      <td>01001</td>\n",
       "      <td>2010-01-31</td>\n",
       "      <td>13.7</td>\n",
       "    </tr>\n",
       "    <tr>\n",
       "      <th>1</th>\n",
       "      <td>01001</td>\n",
       "      <td>2010-02-28</td>\n",
       "      <td>14.1</td>\n",
       "    </tr>\n",
       "    <tr>\n",
       "      <th>2</th>\n",
       "      <td>01001</td>\n",
       "      <td>2010-03-31</td>\n",
       "      <td>13.6</td>\n",
       "    </tr>\n",
       "    <tr>\n",
       "      <th>3</th>\n",
       "      <td>01001</td>\n",
       "      <td>2010-04-30</td>\n",
       "      <td>13.1</td>\n",
       "    </tr>\n",
       "    <tr>\n",
       "      <th>4</th>\n",
       "      <td>01001</td>\n",
       "      <td>2010-05-31</td>\n",
       "      <td>12.5</td>\n",
       "    </tr>\n",
       "  </tbody>\n",
       "</table>\n",
       "</div>"
      ],
      "text/plain": [
       "    ags5        date  unemployment_rate\n",
       "0  01001  2010-01-31               13.7\n",
       "1  01001  2010-02-28               14.1\n",
       "2  01001  2010-03-31               13.6\n",
       "3  01001  2010-04-30               13.1\n",
       "4  01001  2010-05-31               12.5"
      ]
     },
     "execution_count": 75,
     "metadata": {},
     "output_type": "execute_result"
    }
   ],
   "source": [
    "df.head()"
   ]
  },
  {
   "cell_type": "code",
   "execution_count": 76,
   "id": "43f15c1e",
   "metadata": {},
   "outputs": [
    {
     "data": {
      "text/html": [
       "<div>\n",
       "<style scoped>\n",
       "    .dataframe tbody tr th:only-of-type {\n",
       "        vertical-align: middle;\n",
       "    }\n",
       "\n",
       "    .dataframe tbody tr th {\n",
       "        vertical-align: top;\n",
       "    }\n",
       "\n",
       "    .dataframe thead th {\n",
       "        text-align: right;\n",
       "    }\n",
       "</style>\n",
       "<table border=\"1\" class=\"dataframe\">\n",
       "  <thead>\n",
       "    <tr style=\"text-align: right;\">\n",
       "      <th></th>\n",
       "      <th>ags5</th>\n",
       "      <th>date</th>\n",
       "      <th>unemployment_rate</th>\n",
       "    </tr>\n",
       "  </thead>\n",
       "  <tbody>\n",
       "    <tr>\n",
       "      <th>48115</th>\n",
       "      <td>16077</td>\n",
       "      <td>2019-08-31</td>\n",
       "      <td>7.0</td>\n",
       "    </tr>\n",
       "    <tr>\n",
       "      <th>48116</th>\n",
       "      <td>16077</td>\n",
       "      <td>2019-09-30</td>\n",
       "      <td>6.5</td>\n",
       "    </tr>\n",
       "    <tr>\n",
       "      <th>48117</th>\n",
       "      <td>16077</td>\n",
       "      <td>2019-10-31</td>\n",
       "      <td>6.5</td>\n",
       "    </tr>\n",
       "    <tr>\n",
       "      <th>48118</th>\n",
       "      <td>16077</td>\n",
       "      <td>2019-11-30</td>\n",
       "      <td>6.3</td>\n",
       "    </tr>\n",
       "    <tr>\n",
       "      <th>48119</th>\n",
       "      <td>16077</td>\n",
       "      <td>2019-12-31</td>\n",
       "      <td>6.5</td>\n",
       "    </tr>\n",
       "  </tbody>\n",
       "</table>\n",
       "</div>"
      ],
      "text/plain": [
       "        ags5        date  unemployment_rate\n",
       "48115  16077  2019-08-31                7.0\n",
       "48116  16077  2019-09-30                6.5\n",
       "48117  16077  2019-10-31                6.5\n",
       "48118  16077  2019-11-30                6.3\n",
       "48119  16077  2019-12-31                6.5"
      ]
     },
     "execution_count": 76,
     "metadata": {},
     "output_type": "execute_result"
    }
   ],
   "source": [
    "df.tail()"
   ]
  },
  {
   "cell_type": "markdown",
   "id": "9167cc97",
   "metadata": {},
   "source": [
    "## Data Preparation"
   ]
  },
  {
   "cell_type": "code",
   "execution_count": 77,
   "id": "6f7836a1",
   "metadata": {},
   "outputs": [
    {
     "data": {
      "text/html": [
       "<div>\n",
       "<style scoped>\n",
       "    .dataframe tbody tr th:only-of-type {\n",
       "        vertical-align: middle;\n",
       "    }\n",
       "\n",
       "    .dataframe tbody tr th {\n",
       "        vertical-align: top;\n",
       "    }\n",
       "\n",
       "    .dataframe thead th {\n",
       "        text-align: right;\n",
       "    }\n",
       "</style>\n",
       "<table border=\"1\" class=\"dataframe\">\n",
       "  <thead>\n",
       "    <tr style=\"text-align: right;\">\n",
       "      <th></th>\n",
       "      <th>ags5</th>\n",
       "      <th>date</th>\n",
       "      <th>unemployment_rate</th>\n",
       "      <th>ags2</th>\n",
       "    </tr>\n",
       "  </thead>\n",
       "  <tbody>\n",
       "    <tr>\n",
       "      <th>0</th>\n",
       "      <td>01001</td>\n",
       "      <td>2010-01-31</td>\n",
       "      <td>13.7</td>\n",
       "      <td>01</td>\n",
       "    </tr>\n",
       "    <tr>\n",
       "      <th>1</th>\n",
       "      <td>01001</td>\n",
       "      <td>2010-02-28</td>\n",
       "      <td>14.1</td>\n",
       "      <td>01</td>\n",
       "    </tr>\n",
       "    <tr>\n",
       "      <th>2</th>\n",
       "      <td>01001</td>\n",
       "      <td>2010-03-31</td>\n",
       "      <td>13.6</td>\n",
       "      <td>01</td>\n",
       "    </tr>\n",
       "    <tr>\n",
       "      <th>3</th>\n",
       "      <td>01001</td>\n",
       "      <td>2010-04-30</td>\n",
       "      <td>13.1</td>\n",
       "      <td>01</td>\n",
       "    </tr>\n",
       "    <tr>\n",
       "      <th>4</th>\n",
       "      <td>01001</td>\n",
       "      <td>2010-05-31</td>\n",
       "      <td>12.5</td>\n",
       "      <td>01</td>\n",
       "    </tr>\n",
       "  </tbody>\n",
       "</table>\n",
       "</div>"
      ],
      "text/plain": [
       "    ags5        date  unemployment_rate ags2\n",
       "0  01001  2010-01-31               13.7   01\n",
       "1  01001  2010-02-28               14.1   01\n",
       "2  01001  2010-03-31               13.6   01\n",
       "3  01001  2010-04-30               13.1   01\n",
       "4  01001  2010-05-31               12.5   01"
      ]
     },
     "execution_count": 77,
     "metadata": {},
     "output_type": "execute_result"
    }
   ],
   "source": [
    "# Add AGS 2\n",
    "def get_ags2(x):\n",
    "    return x[0:2]\n",
    "\n",
    "df['ags2'] = df['ags5'].apply(get_ags2)\n",
    "df.head()"
   ]
  },
  {
   "cell_type": "markdown",
   "id": "4e72b195",
   "metadata": {},
   "source": [
    "## ML Flow Experiment Setup "
   ]
  },
  {
   "cell_type": "code",
   "execution_count": 78,
   "id": "2ead061a",
   "metadata": {},
   "outputs": [],
   "source": [
    "def train_heirarchical_cluster_model(data, agregate_col, params, cluster_type=\"ags2\"):\n",
    "    \n",
    "    ''' Generate a run name '''\n",
    "    run_name = 'hierarchical_' + '_'.join(list(params.values())[0:2])\n",
    "    \n",
    "    with mlflow.start_run(run_name=run_name):\n",
    "        \n",
    "        # Create a list of kreis\n",
    "        kreis_list = list(data['ags5'].unique())\n",
    "        \n",
    "        ''' Generate the dataset from the cluster with the ags and total summation '''\n",
    "        print(\"Generating the hierarchical dataset...\")\n",
    "    \n",
    "        # Filter Data by relevant columns \n",
    "        relevant_cols = ['ags5', 'unemployment_rate', 'date']\n",
    "        relevant_cols.append(agregate_col)\n",
    "        df = data[relevant_cols]\n",
    "    \n",
    "        # Get bottom level data - ags5\n",
    "        df_ags5 = df.pivot(index=\"date\", columns=\"ags5\", values=\"unemployment_rate\")\n",
    "        \n",
    "        # Get middle level data - aggregate_col\n",
    "        df_middle = df.groupby([\"date\", agregate_col]).sum().reset_index(drop=False).pivot(index=\"date\", \n",
    "                                                                           columns=agregate_col, \n",
    "                                                                           values=\"unemployment_rate\")\n",
    "        \n",
    "        print(f\"Got {df_middle.shape[1]} clusters..\")\n",
    "        \n",
    "        # Get the top level data\n",
    "        df_total = df.groupby(\"date\")[\"unemployment_rate\"].sum().to_frame().rename(columns={\"unemployment_rate\": \"total\"})\n",
    "        \n",
    "        # Join the data frames\n",
    "        hdf = df_ags5.join(df_middle).join(df_total)\n",
    "\n",
    "        # Set the index in datetime format\n",
    "        hdf.index = pd.to_datetime(hdf.index)\n",
    "        \n",
    "        print(\"The dataset size is\", hdf.shape)\n",
    "        \n",
    "        # Create the hierarchical cluster set \n",
    "        cluster_set = df.groupby(agregate_col)['ags5'].apply(lambda x: list(set(x))).to_dict()\n",
    "        \n",
    "        # Add total to the dictionary\n",
    "        cluster_set['total'] = list(cluster_set.keys())\n",
    "    \n",
    "        ''' Model Fitting '''\n",
    "        \n",
    "        # Get the params\n",
    "        model_type = params['model']\n",
    "        rev_type = params['revision_method']\n",
    "        time_steps = params['time_steps']\n",
    "        internal_params = params['model_params']\n",
    "        \n",
    "        # Divide the data into train and test sets\n",
    "        train_hdf = hdf.head(len(hdf) - time_steps)\n",
    "        test_hdf = hdf.tail(time_steps)\n",
    "        \n",
    "        print(f\"Fitting the model {model_type} with revision method {rev_type}.\")\n",
    "        \n",
    "        # Fit the model \n",
    "        hts_model = HTSRegressor(model=model_type, revision_method=rev_type, n_jobs=0, **internal_params)\n",
    "        hts_model.fit(train_hdf, cluster_set)\n",
    "        \n",
    "        print(f\"Predicting for the next {time_steps} time steps.\")\n",
    "        \n",
    "        # Get the predictions \n",
    "        preds = hts_model.predict(steps_ahead=time_steps)\n",
    "        \n",
    "        ''' Model Evaluation '''\n",
    "        \n",
    "        # Get the predicted vales \n",
    "        actual_preds = preds.tail(time_steps)\n",
    "        \n",
    "        # Check if there are negative values in the predictions \n",
    "        negative_pred = (actual_preds < 0).values.any()\n",
    "        if negative_pred:\n",
    "            print(\"There are negative values in the predictions.\")\n",
    "        else: \n",
    "            print(\"No negative values found in the predictions\")\n",
    "            \n",
    "        # Check if the prediction and test have the same size\n",
    "        assert actual_preds.shape[0] == test_hdf.shape[0]\n",
    "        \n",
    "        # Calculate the mse for each kreis\n",
    "        total_mse = 0\n",
    "        total_rmse = 0\n",
    "        for kreis in kreis_list: \n",
    "            total_mse  += mean_squared_error(y_pred=actual_preds[kreis].values, y_true=test_hdf[kreis].values, squared=True)\n",
    "            total_rmse += mean_squared_error(y_pred=actual_preds[kreis].values, y_true=test_hdf[kreis].values, squared=False)\n",
    "#             print(total_mse, total_rmse)\n",
    "        \n",
    "        # Calculate average mse \n",
    "        average_mse = total_mse/len(kreis_list)\n",
    "        average_rmse = total_rmse/len(kreis_list)\n",
    "        print(\"The average error is:\", average_mse)\n",
    "        \n",
    "        \n",
    "        ''' Log experiment details in ML Flow '''\n",
    "        # Log params\n",
    "        mlflow.log_params(params)\n",
    "        mlflow.log_params(internal_params)\n",
    "        mlflow.log_param(\"Cluster Type\", cluster_type)\n",
    "        mlflow.log_param(\"Cluster Set\", cluster_set)\n",
    "        \n",
    "        # Log metrics\n",
    "        mlflow.log_metric(\"mse\", average_mse)\n",
    "        mlflow.log_metric(\"rmse\", average_rmse)\n",
    "        \n",
    "        negative_pred = 1 if negative_pred else 0 \n",
    "        mlflow.log_metric(\"negative_preds\", negative_pred)        \n",
    "        \n",
    "        return preds\n",
    "        \n",
    "        \n",
    "        "
   ]
  },
  {
   "cell_type": "markdown",
   "id": "1778f395",
   "metadata": {},
   "source": [
    "## Model Testing and Parameter tuning"
   ]
  },
  {
   "cell_type": "code",
   "execution_count": 65,
   "id": "bb576cef",
   "metadata": {
    "scrolled": true
   },
   "outputs": [
    {
     "name": "stdout",
     "output_type": "stream",
     "text": [
      "Generating the hierarchical dataset...\n",
      "Got 16 clusters..\n",
      "The dataset size is (120, 418)\n",
      "Fitting the model sarimax with revision method BU.\n"
     ]
    },
    {
     "name": "stderr",
     "output_type": "stream",
     "text": [
      "Fitting models: 100%|████████████████████████████████████████████████████████████████| 418/418 [02:24<00:00,  2.90it/s]\n",
      "Fitting models:   8%|████▉                                                           | 32/418 [00:00<00:02, 163.91it/s]"
     ]
    },
    {
     "name": "stdout",
     "output_type": "stream",
     "text": [
      "Predicting for the next 12 time steps.\n"
     ]
    },
    {
     "name": "stderr",
     "output_type": "stream",
     "text": [
      "Fitting models: 100%|███████████████████████████████████████████████████████████████| 418/418 [00:02<00:00, 183.24it/s]\n"
     ]
    },
    {
     "name": "stdout",
     "output_type": "stream",
     "text": [
      "No negative values found in the predictions\n",
      "The average error is: 0.7136935475057907\n"
     ]
    }
   ],
   "source": [
    "# Set the params \n",
    "params = {\n",
    "    'model':'sarimax',\n",
    "    'revision_method':'BU',\n",
    "    'time_steps': 12,\n",
    "    'model_params': {\n",
    "        'order': (2, 2, 2)\n",
    "    }\n",
    "}\n",
    "\n",
    "# Run the function \n",
    "predictions = train_heirarchical_cluster_model(data=df,\n",
    "                                 agregate_col='ags2', \n",
    "                                 params=params,\n",
    "                                 cluster_type=\"ags2\")"
   ]
  },
  {
   "cell_type": "markdown",
   "id": "5202ecbe",
   "metadata": {},
   "source": [
    "Revision types to the model.\n",
    "\n",
    "* **AHP** — average historical proportions (top-down approach),\n",
    "* **PHA** — proportions of historical averages (top-down approach),\n",
    "* **FP** — the forecasted proportions (top-down approach),\n",
    "* **OLS** — the optimal combination using OLS,\n",
    "* **WLSS** - optimal combination using structurally weighted OLS,\n",
    "* **WLSV** - optimal combination using variance-weighted OLS."
   ]
  },
  {
   "cell_type": "markdown",
   "id": "d6f5d9cb",
   "metadata": {},
   "source": [
    "### Run revision iterations"
   ]
  },
  {
   "cell_type": "code",
   "execution_count": 63,
   "id": "6c62b270",
   "metadata": {
    "scrolled": true
   },
   "outputs": [
    {
     "name": "stdout",
     "output_type": "stream",
     "text": [
      "Model: sarimax and Revision: BU\n",
      "Generating the hierarchical dataset...\n",
      "Got 16 clusters..\n",
      "The dataset size is (120, 418)\n",
      "Fitting the model sarimax with revision method BU.\n"
     ]
    },
    {
     "name": "stderr",
     "output_type": "stream",
     "text": [
      "Fitting models: 100%|████████████████████████████████████████████████████████████████| 418/418 [01:59<00:00,  3.49it/s]\n",
      "Fitting models:   5%|███▏                                                            | 21/418 [00:00<00:02, 188.54it/s]"
     ]
    },
    {
     "name": "stdout",
     "output_type": "stream",
     "text": [
      "Predicting for the next 12 time steps.\n"
     ]
    },
    {
     "name": "stderr",
     "output_type": "stream",
     "text": [
      "Fitting models: 100%|███████████████████████████████████████████████████████████████| 418/418 [00:02<00:00, 148.26it/s]\n"
     ]
    },
    {
     "name": "stdout",
     "output_type": "stream",
     "text": [
      "No negative values found in the predictions\n",
      "The average error is: 0.14641924858639638\n",
      "Model: sarimax and Revision: AHP\n",
      "Generating the hierarchical dataset...\n",
      "Got 16 clusters..\n",
      "The dataset size is (120, 418)\n",
      "Fitting the model sarimax with revision method AHP.\n"
     ]
    },
    {
     "name": "stderr",
     "output_type": "stream",
     "text": [
      "Fitting models: 100%|████████████████████████████████████████████████████████████████| 418/418 [02:35<00:00,  2.69it/s]\n",
      "Fitting models:   3%|█▉                                                              | 13/418 [00:00<00:03, 118.30it/s]"
     ]
    },
    {
     "name": "stdout",
     "output_type": "stream",
     "text": [
      "Predicting for the next 12 time steps.\n"
     ]
    },
    {
     "name": "stderr",
     "output_type": "stream",
     "text": [
      "Fitting models: 100%|███████████████████████████████████████████████████████████████| 418/418 [00:03<00:00, 134.95it/s]\n"
     ]
    },
    {
     "name": "stdout",
     "output_type": "stream",
     "text": [
      "No negative values found in the predictions\n",
      "The average error is: 0.4131294997850292\n",
      "Model: sarimax and Revision: PHA\n",
      "Generating the hierarchical dataset...\n",
      "Got 16 clusters..\n",
      "The dataset size is (120, 418)\n",
      "Fitting the model sarimax with revision method PHA.\n"
     ]
    },
    {
     "name": "stderr",
     "output_type": "stream",
     "text": [
      "Fitting models: 100%|████████████████████████████████████████████████████████████████| 418/418 [02:48<00:00,  2.49it/s]\n",
      "Fitting models:   6%|███▌                                                            | 23/418 [00:00<00:01, 223.80it/s]"
     ]
    },
    {
     "name": "stdout",
     "output_type": "stream",
     "text": [
      "Predicting for the next 12 time steps.\n"
     ]
    },
    {
     "name": "stderr",
     "output_type": "stream",
     "text": [
      "Fitting models: 100%|███████████████████████████████████████████████████████████████| 418/418 [00:02<00:00, 196.82it/s]\n"
     ]
    },
    {
     "name": "stdout",
     "output_type": "stream",
     "text": [
      "No negative values found in the predictions\n",
      "The average error is: 0.4528342008754722\n",
      "Model: sarimax and Revision: FP\n",
      "Generating the hierarchical dataset...\n",
      "Got 16 clusters..\n",
      "The dataset size is (120, 418)\n",
      "Fitting the model sarimax with revision method FP.\n"
     ]
    },
    {
     "name": "stderr",
     "output_type": "stream",
     "text": [
      "Fitting models: 100%|████████████████████████████████████████████████████████████████| 418/418 [02:31<00:00,  2.76it/s]\n",
      "Fitting models:   5%|███                                                             | 20/418 [00:00<00:02, 195.49it/s]"
     ]
    },
    {
     "name": "stdout",
     "output_type": "stream",
     "text": [
      "Predicting for the next 12 time steps.\n"
     ]
    },
    {
     "name": "stderr",
     "output_type": "stream",
     "text": [
      "Fitting models: 100%|███████████████████████████████████████████████████████████████| 418/418 [00:02<00:00, 158.64it/s]\n"
     ]
    },
    {
     "name": "stdout",
     "output_type": "stream",
     "text": [
      "(16, 120)\n",
      "No negative values found in the predictions\n",
      "The average error is: 26.527558187863697\n",
      "Model: sarimax and Revision: OLS\n",
      "Generating the hierarchical dataset...\n",
      "Got 16 clusters..\n",
      "The dataset size is (120, 418)\n",
      "Fitting the model sarimax with revision method OLS.\n"
     ]
    },
    {
     "name": "stderr",
     "output_type": "stream",
     "text": [
      "Fitting models: 100%|████████████████████████████████████████████████████████████████| 418/418 [02:51<00:00,  2.44it/s]\n",
      "Fitting models:  11%|██████▋                                                         | 44/418 [00:00<00:01, 215.32it/s]"
     ]
    },
    {
     "name": "stdout",
     "output_type": "stream",
     "text": [
      "Predicting for the next 12 time steps.\n"
     ]
    },
    {
     "name": "stderr",
     "output_type": "stream",
     "text": [
      "Fitting models: 100%|███████████████████████████████████████████████████████████████| 418/418 [00:02<00:00, 202.81it/s]\n"
     ]
    },
    {
     "name": "stdout",
     "output_type": "stream",
     "text": [
      "There are negative values in the predictions.\n",
      "The average error is: 87.64391731569015\n",
      "Model: sarimax and Revision: WLSS\n",
      "Generating the hierarchical dataset...\n",
      "Got 16 clusters..\n",
      "The dataset size is (120, 418)\n",
      "Fitting the model sarimax with revision method WLSS.\n"
     ]
    },
    {
     "name": "stderr",
     "output_type": "stream",
     "text": [
      "Fitting models: 100%|████████████████████████████████████████████████████████████████| 418/418 [03:00<00:00,  2.32it/s]\n",
      "Fitting models:   5%|██▉                                                             | 19/418 [00:00<00:02, 184.46it/s]"
     ]
    },
    {
     "name": "stdout",
     "output_type": "stream",
     "text": [
      "Predicting for the next 12 time steps.\n"
     ]
    },
    {
     "name": "stderr",
     "output_type": "stream",
     "text": [
      "Fitting models: 100%|███████████████████████████████████████████████████████████████| 418/418 [00:02<00:00, 162.99it/s]\n"
     ]
    },
    {
     "name": "stdout",
     "output_type": "stream",
     "text": [
      "There are negative values in the predictions.\n",
      "The average error is: 4.829053266776892\n",
      "Model: sarimax and Revision: WLSV\n",
      "Generating the hierarchical dataset...\n",
      "Got 16 clusters..\n",
      "The dataset size is (120, 418)\n",
      "Fitting the model sarimax with revision method WLSV.\n"
     ]
    },
    {
     "name": "stderr",
     "output_type": "stream",
     "text": [
      "Fitting models: 100%|████████████████████████████████████████████████████████████████| 418/418 [02:28<00:00,  2.82it/s]\n",
      "Fitting models:  10%|██████▌                                                         | 43/418 [00:00<00:01, 214.60it/s]"
     ]
    },
    {
     "name": "stdout",
     "output_type": "stream",
     "text": [
      "Predicting for the next 12 time steps.\n"
     ]
    },
    {
     "name": "stderr",
     "output_type": "stream",
     "text": [
      "Fitting models: 100%|███████████████████████████████████████████████████████████████| 418/418 [00:01<00:00, 230.29it/s]\n"
     ]
    },
    {
     "name": "stdout",
     "output_type": "stream",
     "text": [
      "There are negative values in the predictions.\n",
      "The average error is: 108.12431593973784\n"
     ]
    }
   ],
   "source": [
    "# Run all combinations for models \n",
    "model_types = ['sarimax']\n",
    "revisions = ['BU', 'AHP', 'PHA', 'FP', 'OLS', 'WLSS', 'WLSV']\n",
    "\n",
    "# Set the params \n",
    "params = {\n",
    "    'model':'sarimax',\n",
    "    'revision_method':'BU',\n",
    "    'time_steps': 12,\n",
    "    'model_params': {\n",
    "        'order': (2, 1, 2)\n",
    "    }\n",
    "}\n",
    "\n",
    "for m in model_types:\n",
    "    for r in revisions:\n",
    "        print(f\"Model: {m} and Revision: {r}\")\n",
    "        \n",
    "        # Change params \n",
    "        params['model'] = m\n",
    "        params['revision_method'] = r\n",
    "        \n",
    "        # Run the prediction model  \n",
    "        predictions = train_heirarchical_cluster_model(data=df,\n",
    "                                         agregate_col='ags2', \n",
    "                                         params=params)"
   ]
  },
  {
   "cell_type": "markdown",
   "id": "def31bee",
   "metadata": {},
   "source": [
    "## Models with custom clusters"
   ]
  },
  {
   "cell_type": "code",
   "execution_count": 89,
   "id": "9b378cbf",
   "metadata": {},
   "outputs": [
    {
     "name": "stdout",
     "output_type": "stream",
     "text": [
      "original cluster data\n",
      "0    332\n",
      "2     67\n",
      "1      2\n",
      "Name: cluster, dtype: int64\n",
      "New data\n",
      "0    332\n",
      "2     67\n",
      "1      2\n",
      "Name: cluster, dtype: int64\n"
     ]
    }
   ],
   "source": [
    "# read the pca clusters by Amit \n",
    "cluster1 = pd.read_csv('df_final_stationary.csv', converters={'ags5':str, 'cluster':str})\n",
    "cluster1_input = add_column_to_main_data(df, cluster1, 'cluster')"
   ]
  },
  {
   "cell_type": "code",
   "execution_count": 90,
   "id": "07423124",
   "metadata": {
    "scrolled": true
   },
   "outputs": [
    {
     "name": "stdout",
     "output_type": "stream",
     "text": [
      "Model: sarimax and Revision: BU\n",
      "Generating the hierarchical dataset...\n",
      "Got 3 clusters..\n",
      "The dataset size is (120, 405)\n",
      "Fitting the model sarimax with revision method BU.\n"
     ]
    },
    {
     "name": "stderr",
     "output_type": "stream",
     "text": [
      "Fitting models: 100%|████████████████████████████████████████████████████████████████| 405/405 [01:59<00:00,  3.40it/s]\n",
      "Fitting models:   9%|██████                                                          | 38/405 [00:00<00:01, 189.69it/s]"
     ]
    },
    {
     "name": "stdout",
     "output_type": "stream",
     "text": [
      "Predicting for the next 12 time steps.\n"
     ]
    },
    {
     "name": "stderr",
     "output_type": "stream",
     "text": [
      "Fitting models: 100%|███████████████████████████████████████████████████████████████| 405/405 [00:01<00:00, 209.39it/s]\n"
     ]
    },
    {
     "name": "stdout",
     "output_type": "stream",
     "text": [
      "No negative values found in the predictions\n",
      "The average error is: 0.14641924858639638\n",
      "Model: sarimax and Revision: AHP\n",
      "Generating the hierarchical dataset...\n",
      "Got 3 clusters..\n",
      "The dataset size is (120, 405)\n",
      "Fitting the model sarimax with revision method AHP.\n"
     ]
    },
    {
     "name": "stderr",
     "output_type": "stream",
     "text": [
      "Fitting models: 100%|████████████████████████████████████████████████████████████████| 405/405 [02:12<00:00,  3.07it/s]\n",
      "Fitting models:   6%|████                                                            | 26/405 [00:00<00:01, 252.15it/s]"
     ]
    },
    {
     "name": "stdout",
     "output_type": "stream",
     "text": [
      "Predicting for the next 12 time steps.\n"
     ]
    },
    {
     "name": "stderr",
     "output_type": "stream",
     "text": [
      "Fitting models: 100%|███████████████████████████████████████████████████████████████| 405/405 [00:01<00:00, 225.90it/s]\n"
     ]
    },
    {
     "name": "stdout",
     "output_type": "stream",
     "text": [
      "No negative values found in the predictions\n",
      "The average error is: 0.4131294997850292\n",
      "Model: sarimax and Revision: PHA\n",
      "Generating the hierarchical dataset...\n",
      "Got 3 clusters..\n",
      "The dataset size is (120, 405)\n",
      "Fitting the model sarimax with revision method PHA.\n"
     ]
    },
    {
     "name": "stderr",
     "output_type": "stream",
     "text": [
      "Fitting models: 100%|████████████████████████████████████████████████████████████████| 405/405 [02:07<00:00,  3.19it/s]\n",
      "Fitting models:   4%|██▌                                                             | 16/405 [00:00<00:02, 150.10it/s]"
     ]
    },
    {
     "name": "stdout",
     "output_type": "stream",
     "text": [
      "Predicting for the next 12 time steps.\n"
     ]
    },
    {
     "name": "stderr",
     "output_type": "stream",
     "text": [
      "Fitting models: 100%|███████████████████████████████████████████████████████████████| 405/405 [00:02<00:00, 194.15it/s]\n"
     ]
    },
    {
     "name": "stdout",
     "output_type": "stream",
     "text": [
      "No negative values found in the predictions\n",
      "The average error is: 0.4528342008754722\n",
      "Model: sarimax and Revision: FP\n",
      "Generating the hierarchical dataset...\n",
      "Got 3 clusters..\n",
      "The dataset size is (120, 405)\n",
      "Fitting the model sarimax with revision method FP.\n"
     ]
    },
    {
     "name": "stderr",
     "output_type": "stream",
     "text": [
      "Fitting models: 100%|████████████████████████████████████████████████████████████████| 405/405 [02:08<00:00,  3.16it/s]\n",
      "Fitting models:   2%|█▍                                                                | 9/405 [00:00<00:04, 87.03it/s]"
     ]
    },
    {
     "name": "stdout",
     "output_type": "stream",
     "text": [
      "Predicting for the next 12 time steps.\n"
     ]
    },
    {
     "name": "stderr",
     "output_type": "stream",
     "text": [
      "Fitting models: 100%|███████████████████████████████████████████████████████████████| 405/405 [00:02<00:00, 153.85it/s]\n"
     ]
    },
    {
     "name": "stdout",
     "output_type": "stream",
     "text": [
      "(3, 120)\n",
      "No negative values found in the predictions\n",
      "The average error is: 26.527558187863697\n",
      "Model: sarimax and Revision: OLS\n",
      "Generating the hierarchical dataset...\n",
      "Got 3 clusters..\n",
      "The dataset size is (120, 405)\n",
      "Fitting the model sarimax with revision method OLS.\n"
     ]
    },
    {
     "name": "stderr",
     "output_type": "stream",
     "text": [
      "Fitting models: 100%|████████████████████████████████████████████████████████████████| 405/405 [01:54<00:00,  3.53it/s]\n",
      "Fitting models:   6%|███▉                                                            | 25/405 [00:00<00:01, 249.18it/s]"
     ]
    },
    {
     "name": "stdout",
     "output_type": "stream",
     "text": [
      "Predicting for the next 12 time steps.\n"
     ]
    },
    {
     "name": "stderr",
     "output_type": "stream",
     "text": [
      "Fitting models: 100%|███████████████████████████████████████████████████████████████| 405/405 [00:01<00:00, 262.21it/s]\n"
     ]
    },
    {
     "name": "stdout",
     "output_type": "stream",
     "text": [
      "There are negative values in the predictions.\n",
      "The average error is: 373.3821404417998\n",
      "Model: sarimax and Revision: WLSS\n",
      "Generating the hierarchical dataset...\n",
      "Got 3 clusters..\n",
      "The dataset size is (120, 405)\n",
      "Fitting the model sarimax with revision method WLSS.\n"
     ]
    },
    {
     "name": "stderr",
     "output_type": "stream",
     "text": [
      "Fitting models: 100%|████████████████████████████████████████████████████████████████| 405/405 [02:38<00:00,  2.56it/s]\n",
      "Fitting models:   6%|███▋                                                            | 23/405 [00:00<00:01, 224.74it/s]"
     ]
    },
    {
     "name": "stdout",
     "output_type": "stream",
     "text": [
      "Predicting for the next 12 time steps.\n"
     ]
    },
    {
     "name": "stderr",
     "output_type": "stream",
     "text": [
      "Fitting models: 100%|███████████████████████████████████████████████████████████████| 405/405 [00:02<00:00, 186.33it/s]\n"
     ]
    },
    {
     "name": "stdout",
     "output_type": "stream",
     "text": [
      "There are negative values in the predictions.\n",
      "The average error is: 9.014238244241934\n",
      "Model: sarimax and Revision: WLSV\n",
      "Generating the hierarchical dataset...\n",
      "Got 3 clusters..\n",
      "The dataset size is (120, 405)\n",
      "Fitting the model sarimax with revision method WLSV.\n"
     ]
    },
    {
     "name": "stderr",
     "output_type": "stream",
     "text": [
      "Fitting models: 100%|████████████████████████████████████████████████████████████████| 405/405 [02:37<00:00,  2.57it/s]\n",
      "Fitting models:   5%|███▎                                                            | 21/405 [00:00<00:01, 204.62it/s]"
     ]
    },
    {
     "name": "stdout",
     "output_type": "stream",
     "text": [
      "Predicting for the next 12 time steps.\n"
     ]
    },
    {
     "name": "stderr",
     "output_type": "stream",
     "text": [
      "Fitting models: 100%|███████████████████████████████████████████████████████████████| 405/405 [00:01<00:00, 210.70it/s]\n"
     ]
    },
    {
     "name": "stdout",
     "output_type": "stream",
     "text": [
      "There are negative values in the predictions.\n",
      "The average error is: 9721.030155019933\n"
     ]
    }
   ],
   "source": [
    "# Run the code for hts\n",
    "\n",
    "# Run all combinations for models \n",
    "model_types = ['sarimax']\n",
    "revisions = ['BU', 'AHP', 'PHA', 'FP', 'OLS', 'WLSS', 'WLSV']\n",
    "\n",
    "# Set the params \n",
    "params = {\n",
    "    'model':'sarimax',\n",
    "    'revision_method':'BU',\n",
    "    'time_steps': 12,\n",
    "    'model_params': {\n",
    "        'order': (2, 1, 2)\n",
    "    }\n",
    "}\n",
    "\n",
    "for m in model_types:\n",
    "    for r in revisions:\n",
    "        print(f\"Model: {m} and Revision: {r}\")\n",
    "        \n",
    "        # Change params \n",
    "        params['model'] = m\n",
    "        params['revision_method'] = r\n",
    "        \n",
    "        # Run the prediction model  \n",
    "        predictions = train_heirarchical_cluster_model(data=cluster1_input,\n",
    "                                         agregate_col='cluster', \n",
    "                                         params=params,\n",
    "                                         cluster_type=\"clusters by Amit\")"
   ]
  },
  {
   "cell_type": "markdown",
   "id": "e33e0509",
   "metadata": {},
   "source": [
    "### Cluster 2: k-Modes Clusters"
   ]
  },
  {
   "cell_type": "code",
   "execution_count": 91,
   "id": "57d4e70f",
   "metadata": {},
   "outputs": [
    {
     "name": "stdout",
     "output_type": "stream",
     "text": [
      "(401, 3)\n"
     ]
    },
    {
     "data": {
      "text/html": [
       "<div>\n",
       "<style scoped>\n",
       "    .dataframe tbody tr th:only-of-type {\n",
       "        vertical-align: middle;\n",
       "    }\n",
       "\n",
       "    .dataframe tbody tr th {\n",
       "        vertical-align: top;\n",
       "    }\n",
       "\n",
       "    .dataframe thead th {\n",
       "        text-align: right;\n",
       "    }\n",
       "</style>\n",
       "<table border=\"1\" class=\"dataframe\">\n",
       "  <thead>\n",
       "    <tr style=\"text-align: right;\">\n",
       "      <th></th>\n",
       "      <th>kreis</th>\n",
       "      <th>ags5</th>\n",
       "      <th>cluster</th>\n",
       "    </tr>\n",
       "  </thead>\n",
       "  <tbody>\n",
       "    <tr>\n",
       "      <th>0</th>\n",
       "      <td>Flensburg, Stadt</td>\n",
       "      <td>1001</td>\n",
       "      <td>1</td>\n",
       "    </tr>\n",
       "    <tr>\n",
       "      <th>1</th>\n",
       "      <td>Kiel, Landeshauptstadt</td>\n",
       "      <td>1002</td>\n",
       "      <td>2</td>\n",
       "    </tr>\n",
       "    <tr>\n",
       "      <th>2</th>\n",
       "      <td>Lübeck, Hansestadt</td>\n",
       "      <td>1003</td>\n",
       "      <td>2</td>\n",
       "    </tr>\n",
       "    <tr>\n",
       "      <th>3</th>\n",
       "      <td>Neumünster, Stadt</td>\n",
       "      <td>1004</td>\n",
       "      <td>0</td>\n",
       "    </tr>\n",
       "    <tr>\n",
       "      <th>4</th>\n",
       "      <td>Dithmarschen</td>\n",
       "      <td>1051</td>\n",
       "      <td>1</td>\n",
       "    </tr>\n",
       "  </tbody>\n",
       "</table>\n",
       "</div>"
      ],
      "text/plain": [
       "                    kreis  ags5 cluster\n",
       "0        Flensburg, Stadt  1001       1\n",
       "1  Kiel, Landeshauptstadt  1002       2\n",
       "2      Lübeck, Hansestadt  1003       2\n",
       "3       Neumünster, Stadt  1004       0\n",
       "4            Dithmarschen  1051       1"
      ]
     },
     "execution_count": 91,
     "metadata": {},
     "output_type": "execute_result"
    }
   ],
   "source": [
    "# Read the data \n",
    "cluster2 = pd.read_csv('kmodes3.csv', converters={'ags5':str, 'cluster':str})\n",
    "print(cluster2.shape)\n",
    "cluster2.head()"
   ]
  },
  {
   "cell_type": "code",
   "execution_count": 92,
   "id": "4e5d3a67",
   "metadata": {},
   "outputs": [
    {
     "name": "stdout",
     "output_type": "stream",
     "text": [
      "original cluster data\n",
      "2    190\n",
      "0    114\n",
      "1     97\n",
      "Name: cluster, dtype: int64\n",
      "New data\n",
      "2    190\n",
      "0    114\n",
      "1     97\n",
      "Name: cluster, dtype: int64\n"
     ]
    }
   ],
   "source": [
    "cluster2_input = add_column_to_main_data(df, cluster2, 'cluster')"
   ]
  },
  {
   "cell_type": "code",
   "execution_count": 94,
   "id": "7d921d04",
   "metadata": {
    "scrolled": true
   },
   "outputs": [
    {
     "name": "stdout",
     "output_type": "stream",
     "text": [
      "Model: sarimax and Revision: BU\n",
      "Generating the hierarchical dataset...\n",
      "Got 3 clusters..\n",
      "The dataset size is (120, 405)\n",
      "Fitting the model sarimax with revision method BU.\n"
     ]
    },
    {
     "name": "stderr",
     "output_type": "stream",
     "text": [
      "Fitting models: 100%|████████████████████████████████████████████████████████████████| 405/405 [03:07<00:00,  2.16it/s]\n",
      "Fitting models:  10%|██████▍                                                         | 41/405 [00:00<00:01, 200.22it/s]"
     ]
    },
    {
     "name": "stdout",
     "output_type": "stream",
     "text": [
      "Predicting for the next 12 time steps.\n"
     ]
    },
    {
     "name": "stderr",
     "output_type": "stream",
     "text": [
      "Fitting models: 100%|███████████████████████████████████████████████████████████████| 405/405 [00:01<00:00, 206.12it/s]\n"
     ]
    },
    {
     "name": "stdout",
     "output_type": "stream",
     "text": [
      "No negative values found in the predictions\n",
      "The average error is: 0.14641924858639638\n",
      "Model: sarimax and Revision: AHP\n",
      "Generating the hierarchical dataset...\n",
      "Got 3 clusters..\n",
      "The dataset size is (120, 405)\n",
      "Fitting the model sarimax with revision method AHP.\n"
     ]
    },
    {
     "name": "stderr",
     "output_type": "stream",
     "text": [
      "Fitting models: 100%|████████████████████████████████████████████████████████████████| 405/405 [02:49<00:00,  2.39it/s]\n",
      "Fitting models:   6%|███▋                                                            | 23/405 [00:00<00:01, 225.61it/s]"
     ]
    },
    {
     "name": "stdout",
     "output_type": "stream",
     "text": [
      "Predicting for the next 12 time steps.\n"
     ]
    },
    {
     "name": "stderr",
     "output_type": "stream",
     "text": [
      "Fitting models: 100%|███████████████████████████████████████████████████████████████| 405/405 [00:01<00:00, 213.18it/s]\n"
     ]
    },
    {
     "name": "stdout",
     "output_type": "stream",
     "text": [
      "No negative values found in the predictions\n",
      "The average error is: 0.4131294997850292\n",
      "Model: sarimax and Revision: PHA\n",
      "Generating the hierarchical dataset...\n",
      "Got 3 clusters..\n",
      "The dataset size is (120, 405)\n",
      "Fitting the model sarimax with revision method PHA.\n"
     ]
    },
    {
     "name": "stderr",
     "output_type": "stream",
     "text": [
      "Fitting models: 100%|████████████████████████████████████████████████████████████████| 405/405 [03:31<00:00,  1.92it/s]\n",
      "Fitting models:   2%|█▌                                                               | 10/405 [00:00<00:03, 99.02it/s]"
     ]
    },
    {
     "name": "stdout",
     "output_type": "stream",
     "text": [
      "Predicting for the next 12 time steps.\n"
     ]
    },
    {
     "name": "stderr",
     "output_type": "stream",
     "text": [
      "Fitting models: 100%|███████████████████████████████████████████████████████████████| 405/405 [00:02<00:00, 146.27it/s]\n"
     ]
    },
    {
     "name": "stdout",
     "output_type": "stream",
     "text": [
      "No negative values found in the predictions\n",
      "The average error is: 0.4528342008754722\n",
      "Model: sarimax and Revision: FP\n",
      "Generating the hierarchical dataset...\n",
      "Got 3 clusters..\n",
      "The dataset size is (120, 405)\n",
      "Fitting the model sarimax with revision method FP.\n"
     ]
    },
    {
     "name": "stderr",
     "output_type": "stream",
     "text": [
      "Fitting models: 100%|████████████████████████████████████████████████████████████████| 405/405 [02:49<00:00,  2.39it/s]\n",
      "Fitting models:   6%|███▊                                                            | 24/405 [00:00<00:01, 236.97it/s]"
     ]
    },
    {
     "name": "stdout",
     "output_type": "stream",
     "text": [
      "Predicting for the next 12 time steps.\n"
     ]
    },
    {
     "name": "stderr",
     "output_type": "stream",
     "text": [
      "Fitting models: 100%|███████████████████████████████████████████████████████████████| 405/405 [00:01<00:00, 263.26it/s]\n"
     ]
    },
    {
     "name": "stdout",
     "output_type": "stream",
     "text": [
      "(3, 120)\n",
      "No negative values found in the predictions\n",
      "The average error is: 26.527558187863697\n",
      "Model: sarimax and Revision: OLS\n",
      "Generating the hierarchical dataset...\n",
      "Got 3 clusters..\n",
      "The dataset size is (120, 405)\n",
      "Fitting the model sarimax with revision method OLS.\n"
     ]
    },
    {
     "name": "stderr",
     "output_type": "stream",
     "text": [
      "Fitting models: 100%|████████████████████████████████████████████████████████████████| 405/405 [02:10<00:00,  3.10it/s]\n",
      "Fitting models:   6%|███▉                                                            | 25/405 [00:00<00:01, 242.55it/s]"
     ]
    },
    {
     "name": "stdout",
     "output_type": "stream",
     "text": [
      "Predicting for the next 12 time steps.\n"
     ]
    },
    {
     "name": "stderr",
     "output_type": "stream",
     "text": [
      "Fitting models: 100%|███████████████████████████████████████████████████████████████| 405/405 [00:02<00:00, 176.87it/s]\n"
     ]
    },
    {
     "name": "stdout",
     "output_type": "stream",
     "text": [
      "There are negative values in the predictions.\n",
      "The average error is: 148.35508389347328\n",
      "Model: sarimax and Revision: WLSS\n",
      "Generating the hierarchical dataset...\n",
      "Got 3 clusters..\n",
      "The dataset size is (120, 405)\n",
      "Fitting the model sarimax with revision method WLSS.\n"
     ]
    },
    {
     "name": "stderr",
     "output_type": "stream",
     "text": [
      "Fitting models: 100%|████████████████████████████████████████████████████████████████| 405/405 [02:55<00:00,  2.31it/s]\n",
      "Fitting models:   5%|███                                                             | 19/405 [00:00<00:02, 187.87it/s]"
     ]
    },
    {
     "name": "stdout",
     "output_type": "stream",
     "text": [
      "Predicting for the next 12 time steps.\n"
     ]
    },
    {
     "name": "stderr",
     "output_type": "stream",
     "text": [
      "Fitting models: 100%|███████████████████████████████████████████████████████████████| 405/405 [00:01<00:00, 203.87it/s]\n"
     ]
    },
    {
     "name": "stdout",
     "output_type": "stream",
     "text": [
      "There are negative values in the predictions.\n",
      "The average error is: 1.7256816016677556\n",
      "Model: sarimax and Revision: WLSV\n",
      "Generating the hierarchical dataset...\n",
      "Got 3 clusters..\n",
      "The dataset size is (120, 405)\n",
      "Fitting the model sarimax with revision method WLSV.\n"
     ]
    },
    {
     "name": "stderr",
     "output_type": "stream",
     "text": [
      "Fitting models: 100%|████████████████████████████████████████████████████████████████| 405/405 [02:19<00:00,  2.91it/s]\n",
      "Fitting models:   5%|███▎                                                            | 21/405 [00:00<00:01, 209.29it/s]"
     ]
    },
    {
     "name": "stdout",
     "output_type": "stream",
     "text": [
      "Predicting for the next 12 time steps.\n"
     ]
    },
    {
     "name": "stderr",
     "output_type": "stream",
     "text": [
      "Fitting models: 100%|███████████████████████████████████████████████████████████████| 405/405 [00:01<00:00, 225.78it/s]\n"
     ]
    },
    {
     "name": "stdout",
     "output_type": "stream",
     "text": [
      "There are negative values in the predictions.\n",
      "The average error is: 1460.5643121908786\n"
     ]
    }
   ],
   "source": [
    "# Run the code for hts\n",
    "\n",
    "# Run all combinations for models \n",
    "model_types = ['sarimax']\n",
    "revisions = ['BU', 'AHP', 'PHA', 'FP', 'OLS', 'WLSS', 'WLSV']\n",
    "\n",
    "# Set the params \n",
    "params = {\n",
    "    'model':'sarimax',\n",
    "    'revision_method':'BU',\n",
    "    'time_steps': 12,\n",
    "    'model_params': {\n",
    "        'order': (2, 1, 2)\n",
    "    }\n",
    "}\n",
    "\n",
    "for m in model_types:\n",
    "    for r in revisions:\n",
    "        print(f\"Model: {m} and Revision: {r}\")\n",
    "        \n",
    "        # Change params \n",
    "        params['model'] = m\n",
    "        params['revision_method'] = r\n",
    "        \n",
    "        # Run the prediction model  \n",
    "        predictions = train_heirarchical_cluster_model(data=cluster2_input,\n",
    "                                         agregate_col='cluster', \n",
    "                                         params=params,\n",
    "                                         cluster_type=\"clusters by Cinny kModes\")"
   ]
  },
  {
   "cell_type": "markdown",
   "id": "57b285ad",
   "metadata": {},
   "source": [
    "## Cluster 3 - tsne"
   ]
  },
  {
   "cell_type": "code",
   "execution_count": null,
   "id": "e453dd1b",
   "metadata": {},
   "outputs": [],
   "source": [
    "# Read the tsne data\n",
    "cluster3 = pd.read_csv('kmodes3.csv', converters={'ags5':str, 'cluster':str})\n",
    "print(cluster3.shape)\n",
    "cluster3.head()"
   ]
  }
 ],
 "metadata": {
  "kernelspec": {
   "display_name": "Python 3",
   "language": "python",
   "name": "python3"
  },
  "language_info": {
   "codemirror_mode": {
    "name": "ipython",
    "version": 3
   },
   "file_extension": ".py",
   "mimetype": "text/x-python",
   "name": "python",
   "nbconvert_exporter": "python",
   "pygments_lexer": "ipython3",
   "version": "3.8.2"
  }
 },
 "nbformat": 4,
 "nbformat_minor": 5
}
