{
 "cells": [
  {
   "cell_type": "code",
   "execution_count": 2,
   "id": "970af153",
   "metadata": {},
   "outputs": [],
   "source": [
    "import pandas as pd\n",
    "import numpy as np\n",
    "\n",
    "import matplotlib.pyplot as plt\n",
    "import seaborn as sns; sns.set()\n",
    "\n",
    "from pathlib import Path\n",
    "from functools import reduce\n",
    "\n",
    "from sklearn.decomposition import PCA\n",
    "from sklearn.cluster import KMeans\n",
    "from sklearn.preprocessing import StandardScaler"
   ]
  },
  {
   "cell_type": "code",
   "execution_count": 5,
   "id": "5c4beb60",
   "metadata": {},
   "outputs": [
    {
     "data": {
      "text/html": [
       "<div>\n",
       "<style scoped>\n",
       "    .dataframe tbody tr th:only-of-type {\n",
       "        vertical-align: middle;\n",
       "    }\n",
       "\n",
       "    .dataframe tbody tr th {\n",
       "        vertical-align: top;\n",
       "    }\n",
       "\n",
       "    .dataframe thead th {\n",
       "        text-align: right;\n",
       "    }\n",
       "</style>\n",
       "<table border=\"1\" class=\"dataframe\">\n",
       "  <thead>\n",
       "    <tr style=\"text-align: right;\">\n",
       "      <th></th>\n",
       "      <th>kreis</th>\n",
       "      <th>ags5</th>\n",
       "      <th>ags2</th>\n",
       "      <th>supermarkets_population</th>\n",
       "      <th>supermarkets_average_distance</th>\n",
       "      <th>public_transport_availability</th>\n",
       "      <th>average_distance_bus_stop</th>\n",
       "      <th>average_distance_train_station</th>\n",
       "      <th>average_distance_public_transport</th>\n",
       "      <th>Unnamed:_0</th>\n",
       "      <th>...</th>\n",
       "      <th>median_income</th>\n",
       "      <th>purchasing_power_per_household</th>\n",
       "      <th>purchasing_power_per_person</th>\n",
       "      <th>debtor_quota</th>\n",
       "      <th>household_in_income_calss_1</th>\n",
       "      <th>household_in_income_calss_2</th>\n",
       "      <th>household_in_income_calss_3</th>\n",
       "      <th>household_in_income_calss_4</th>\n",
       "      <th>household_in_income_calss_5</th>\n",
       "      <th>household_in_income_calss_6</th>\n",
       "    </tr>\n",
       "  </thead>\n",
       "  <tbody>\n",
       "    <tr>\n",
       "      <th>0</th>\n",
       "      <td>Flensburg, Stadt</td>\n",
       "      <td>1001</td>\n",
       "      <td>1</td>\n",
       "      <td>92</td>\n",
       "      <td>500</td>\n",
       "      <td>35</td>\n",
       "      <td>240</td>\n",
       "      <td>2901</td>\n",
       "      <td>240</td>\n",
       "      <td>0</td>\n",
       "      <td>...</td>\n",
       "      <td>2986</td>\n",
       "      <td>34496</td>\n",
       "      <td>19556</td>\n",
       "      <td>16.0</td>\n",
       "      <td>13209</td>\n",
       "      <td>12385</td>\n",
       "      <td>13092</td>\n",
       "      <td>5441</td>\n",
       "      <td>3096</td>\n",
       "      <td>3497</td>\n",
       "    </tr>\n",
       "    <tr>\n",
       "      <th>1</th>\n",
       "      <td>Kiel, Landeshauptstadt</td>\n",
       "      <td>1002</td>\n",
       "      <td>1</td>\n",
       "      <td>92</td>\n",
       "      <td>460</td>\n",
       "      <td>37</td>\n",
       "      <td>268</td>\n",
       "      <td>2037</td>\n",
       "      <td>265</td>\n",
       "      <td>1</td>\n",
       "      <td>...</td>\n",
       "      <td>3304</td>\n",
       "      <td>35246</td>\n",
       "      <td>19612</td>\n",
       "      <td>12.1</td>\n",
       "      <td>22126</td>\n",
       "      <td>38523</td>\n",
       "      <td>39483</td>\n",
       "      <td>18567</td>\n",
       "      <td>11162</td>\n",
       "      <td>7841</td>\n",
       "    </tr>\n",
       "    <tr>\n",
       "      <th>2</th>\n",
       "      <td>Lübeck, Hansestadt</td>\n",
       "      <td>1003</td>\n",
       "      <td>1</td>\n",
       "      <td>90</td>\n",
       "      <td>532</td>\n",
       "      <td>37</td>\n",
       "      <td>297</td>\n",
       "      <td>1927</td>\n",
       "      <td>294</td>\n",
       "      <td>2</td>\n",
       "      <td>...</td>\n",
       "      <td>3036</td>\n",
       "      <td>37219</td>\n",
       "      <td>20820</td>\n",
       "      <td>15.1</td>\n",
       "      <td>22881</td>\n",
       "      <td>30159</td>\n",
       "      <td>32571</td>\n",
       "      <td>15805</td>\n",
       "      <td>10999</td>\n",
       "      <td>9039</td>\n",
       "    </tr>\n",
       "    <tr>\n",
       "      <th>3</th>\n",
       "      <td>Neumünster, Stadt</td>\n",
       "      <td>1004</td>\n",
       "      <td>1</td>\n",
       "      <td>85</td>\n",
       "      <td>588</td>\n",
       "      <td>37</td>\n",
       "      <td>316</td>\n",
       "      <td>1648</td>\n",
       "      <td>313</td>\n",
       "      <td>3</td>\n",
       "      <td>...</td>\n",
       "      <td>2842</td>\n",
       "      <td>38141</td>\n",
       "      <td>19561</td>\n",
       "      <td>17.9</td>\n",
       "      <td>7208</td>\n",
       "      <td>13291</td>\n",
       "      <td>10435</td>\n",
       "      <td>3812</td>\n",
       "      <td>3201</td>\n",
       "      <td>2805</td>\n",
       "    </tr>\n",
       "    <tr>\n",
       "      <th>4</th>\n",
       "      <td>Dithmarschen</td>\n",
       "      <td>1051</td>\n",
       "      <td>1</td>\n",
       "      <td>51</td>\n",
       "      <td>1864</td>\n",
       "      <td>35</td>\n",
       "      <td>448</td>\n",
       "      <td>3517</td>\n",
       "      <td>443</td>\n",
       "      <td>4</td>\n",
       "      <td>...</td>\n",
       "      <td>2914</td>\n",
       "      <td>46945</td>\n",
       "      <td>23486</td>\n",
       "      <td>12.8</td>\n",
       "      <td>11806</td>\n",
       "      <td>11575</td>\n",
       "      <td>17816</td>\n",
       "      <td>9873</td>\n",
       "      <td>7834</td>\n",
       "      <td>7676</td>\n",
       "    </tr>\n",
       "    <tr>\n",
       "      <th>...</th>\n",
       "      <td>...</td>\n",
       "      <td>...</td>\n",
       "      <td>...</td>\n",
       "      <td>...</td>\n",
       "      <td>...</td>\n",
       "      <td>...</td>\n",
       "      <td>...</td>\n",
       "      <td>...</td>\n",
       "      <td>...</td>\n",
       "      <td>...</td>\n",
       "      <td>...</td>\n",
       "      <td>...</td>\n",
       "      <td>...</td>\n",
       "      <td>...</td>\n",
       "      <td>...</td>\n",
       "      <td>...</td>\n",
       "      <td>...</td>\n",
       "      <td>...</td>\n",
       "      <td>...</td>\n",
       "      <td>...</td>\n",
       "      <td>...</td>\n",
       "    </tr>\n",
       "    <tr>\n",
       "      <th>396</th>\n",
       "      <td>Saalfeld-Rudolstadt</td>\n",
       "      <td>16073</td>\n",
       "      <td>16</td>\n",
       "      <td>62</td>\n",
       "      <td>1423</td>\n",
       "      <td>37</td>\n",
       "      <td>341</td>\n",
       "      <td>2492</td>\n",
       "      <td>322</td>\n",
       "      <td>396</td>\n",
       "      <td>...</td>\n",
       "      <td>2466</td>\n",
       "      <td>39242</td>\n",
       "      <td>20959</td>\n",
       "      <td>8.3</td>\n",
       "      <td>12237</td>\n",
       "      <td>13267</td>\n",
       "      <td>19810</td>\n",
       "      <td>5653</td>\n",
       "      <td>3271</td>\n",
       "      <td>2547</td>\n",
       "    </tr>\n",
       "    <tr>\n",
       "      <th>397</th>\n",
       "      <td>Saale-Holzland-Kreis</td>\n",
       "      <td>16074</td>\n",
       "      <td>16</td>\n",
       "      <td>54</td>\n",
       "      <td>1677</td>\n",
       "      <td>38</td>\n",
       "      <td>343</td>\n",
       "      <td>3419</td>\n",
       "      <td>340</td>\n",
       "      <td>397</td>\n",
       "      <td>...</td>\n",
       "      <td>2288</td>\n",
       "      <td>42956</td>\n",
       "      <td>20631</td>\n",
       "      <td>7.6</td>\n",
       "      <td>5131</td>\n",
       "      <td>9216</td>\n",
       "      <td>14445</td>\n",
       "      <td>5254</td>\n",
       "      <td>3446</td>\n",
       "      <td>2379</td>\n",
       "    </tr>\n",
       "    <tr>\n",
       "      <th>398</th>\n",
       "      <td>Saale-Orla-Kreis</td>\n",
       "      <td>16075</td>\n",
       "      <td>16</td>\n",
       "      <td>54</td>\n",
       "      <td>1686</td>\n",
       "      <td>35</td>\n",
       "      <td>449</td>\n",
       "      <td>3172</td>\n",
       "      <td>444</td>\n",
       "      <td>398</td>\n",
       "      <td>...</td>\n",
       "      <td>2253</td>\n",
       "      <td>40511</td>\n",
       "      <td>20610</td>\n",
       "      <td>7.6</td>\n",
       "      <td>7388</td>\n",
       "      <td>7994</td>\n",
       "      <td>17082</td>\n",
       "      <td>4532</td>\n",
       "      <td>2501</td>\n",
       "      <td>1632</td>\n",
       "    </tr>\n",
       "    <tr>\n",
       "      <th>399</th>\n",
       "      <td>Greiz</td>\n",
       "      <td>16076</td>\n",
       "      <td>16</td>\n",
       "      <td>55</td>\n",
       "      <td>1654</td>\n",
       "      <td>38</td>\n",
       "      <td>608</td>\n",
       "      <td>2779</td>\n",
       "      <td>563</td>\n",
       "      <td>399</td>\n",
       "      <td>...</td>\n",
       "      <td>2233</td>\n",
       "      <td>40784</td>\n",
       "      <td>21275</td>\n",
       "      <td>7.8</td>\n",
       "      <td>11098</td>\n",
       "      <td>10354</td>\n",
       "      <td>18760</td>\n",
       "      <td>5324</td>\n",
       "      <td>3370</td>\n",
       "      <td>2287</td>\n",
       "    </tr>\n",
       "    <tr>\n",
       "      <th>400</th>\n",
       "      <td>Altenburger Land</td>\n",
       "      <td>16077</td>\n",
       "      <td>16</td>\n",
       "      <td>62</td>\n",
       "      <td>1458</td>\n",
       "      <td>35</td>\n",
       "      <td>584</td>\n",
       "      <td>3628</td>\n",
       "      <td>574</td>\n",
       "      <td>400</td>\n",
       "      <td>...</td>\n",
       "      <td>2218</td>\n",
       "      <td>38560</td>\n",
       "      <td>20571</td>\n",
       "      <td>9.0</td>\n",
       "      <td>10621</td>\n",
       "      <td>9561</td>\n",
       "      <td>20085</td>\n",
       "      <td>3862</td>\n",
       "      <td>2322</td>\n",
       "      <td>1607</td>\n",
       "    </tr>\n",
       "  </tbody>\n",
       "</table>\n",
       "<p>401 rows × 169 columns</p>\n",
       "</div>"
      ],
      "text/plain": [
       "                      kreis   ags5  ags2  supermarkets_population  \\\n",
       "0          Flensburg, Stadt   1001     1                       92   \n",
       "1    Kiel, Landeshauptstadt   1002     1                       92   \n",
       "2        Lübeck, Hansestadt   1003     1                       90   \n",
       "3         Neumünster, Stadt   1004     1                       85   \n",
       "4              Dithmarschen   1051     1                       51   \n",
       "..                      ...    ...   ...                      ...   \n",
       "396     Saalfeld-Rudolstadt  16073    16                       62   \n",
       "397    Saale-Holzland-Kreis  16074    16                       54   \n",
       "398        Saale-Orla-Kreis  16075    16                       54   \n",
       "399                   Greiz  16076    16                       55   \n",
       "400        Altenburger Land  16077    16                       62   \n",
       "\n",
       "     supermarkets_average_distance  public_transport_availability  \\\n",
       "0                              500                             35   \n",
       "1                              460                             37   \n",
       "2                              532                             37   \n",
       "3                              588                             37   \n",
       "4                             1864                             35   \n",
       "..                             ...                            ...   \n",
       "396                           1423                             37   \n",
       "397                           1677                             38   \n",
       "398                           1686                             35   \n",
       "399                           1654                             38   \n",
       "400                           1458                             35   \n",
       "\n",
       "     average_distance_bus_stop  average_distance_train_station  \\\n",
       "0                          240                            2901   \n",
       "1                          268                            2037   \n",
       "2                          297                            1927   \n",
       "3                          316                            1648   \n",
       "4                          448                            3517   \n",
       "..                         ...                             ...   \n",
       "396                        341                            2492   \n",
       "397                        343                            3419   \n",
       "398                        449                            3172   \n",
       "399                        608                            2779   \n",
       "400                        584                            3628   \n",
       "\n",
       "     average_distance_public_transport  Unnamed:_0  ...  median_income  \\\n",
       "0                                  240           0  ...           2986   \n",
       "1                                  265           1  ...           3304   \n",
       "2                                  294           2  ...           3036   \n",
       "3                                  313           3  ...           2842   \n",
       "4                                  443           4  ...           2914   \n",
       "..                                 ...         ...  ...            ...   \n",
       "396                                322         396  ...           2466   \n",
       "397                                340         397  ...           2288   \n",
       "398                                444         398  ...           2253   \n",
       "399                                563         399  ...           2233   \n",
       "400                                574         400  ...           2218   \n",
       "\n",
       "     purchasing_power_per_household  purchasing_power_per_person  \\\n",
       "0                             34496                        19556   \n",
       "1                             35246                        19612   \n",
       "2                             37219                        20820   \n",
       "3                             38141                        19561   \n",
       "4                             46945                        23486   \n",
       "..                              ...                          ...   \n",
       "396                           39242                        20959   \n",
       "397                           42956                        20631   \n",
       "398                           40511                        20610   \n",
       "399                           40784                        21275   \n",
       "400                           38560                        20571   \n",
       "\n",
       "     debtor_quota  household_in_income_calss_1  household_in_income_calss_2  \\\n",
       "0            16.0                        13209                        12385   \n",
       "1            12.1                        22126                        38523   \n",
       "2            15.1                        22881                        30159   \n",
       "3            17.9                         7208                        13291   \n",
       "4            12.8                        11806                        11575   \n",
       "..            ...                          ...                          ...   \n",
       "396           8.3                        12237                        13267   \n",
       "397           7.6                         5131                         9216   \n",
       "398           7.6                         7388                         7994   \n",
       "399           7.8                        11098                        10354   \n",
       "400           9.0                        10621                         9561   \n",
       "\n",
       "     household_in_income_calss_3  household_in_income_calss_4  \\\n",
       "0                          13092                         5441   \n",
       "1                          39483                        18567   \n",
       "2                          32571                        15805   \n",
       "3                          10435                         3812   \n",
       "4                          17816                         9873   \n",
       "..                           ...                          ...   \n",
       "396                        19810                         5653   \n",
       "397                        14445                         5254   \n",
       "398                        17082                         4532   \n",
       "399                        18760                         5324   \n",
       "400                        20085                         3862   \n",
       "\n",
       "     household_in_income_calss_5  household_in_income_calss_6  \n",
       "0                           3096                         3497  \n",
       "1                          11162                         7841  \n",
       "2                          10999                         9039  \n",
       "3                           3201                         2805  \n",
       "4                           7834                         7676  \n",
       "..                           ...                          ...  \n",
       "396                         3271                         2547  \n",
       "397                         3446                         2379  \n",
       "398                         2501                         1632  \n",
       "399                         3370                         2287  \n",
       "400                         2322                         1607  \n",
       "\n",
       "[401 rows x 169 columns]"
      ]
     },
     "execution_count": 5,
     "metadata": {},
     "output_type": "execute_result"
    }
   ],
   "source": [
    "df = pd.read_csv('./../final_dfs/df_final.csv') \n",
    "df"
   ]
  },
  {
   "cell_type": "code",
   "execution_count": null,
   "id": "0c505703",
   "metadata": {},
   "outputs": [],
   "source": [
    "df = pd.read_csv('./corona_data_sets_modified/df_final.csv') \n",
    "df[df[\"kreis\"]==\"München\"]"
   ]
  },
  {
   "cell_type": "code",
   "execution_count": null,
   "id": "12f98d65",
   "metadata": {},
   "outputs": [],
   "source": [
    "df "
   ]
  },
  {
   "cell_type": "code",
   "execution_count": null,
   "id": "d7e7cbb3",
   "metadata": {},
   "outputs": [],
   "source": [
    "print(', '.join(df.columns.to_numpy()))"
   ]
  },
  {
   "cell_type": "markdown",
   "id": "36f52cfb",
   "metadata": {},
   "source": [
    "### Scaling the data"
   ]
  },
  {
   "cell_type": "code",
   "execution_count": null,
   "id": "69c212fc",
   "metadata": {},
   "outputs": [],
   "source": [
    "X = df.drop([\"ags2\",\"ags5\",\"kreis\"], 1)\n",
    "scaler = StandardScaler()\n",
    "scaler.fit(X)\n",
    "scaled_data = scaler.transform(X)\n",
    "X = pd.DataFrame(scaled_data, columns = X.columns)"
   ]
  },
  {
   "cell_type": "markdown",
   "id": "7856ef5b",
   "metadata": {},
   "source": [
    "## PCA"
   ]
  },
  {
   "cell_type": "code",
   "execution_count": null,
   "id": "84a1c3fa",
   "metadata": {},
   "outputs": [],
   "source": [
    "pca = PCA(n_components=3)"
   ]
  },
  {
   "cell_type": "code",
   "execution_count": null,
   "id": "fe4a1c92",
   "metadata": {},
   "outputs": [],
   "source": [
    "pca.fit(X)"
   ]
  },
  {
   "cell_type": "code",
   "execution_count": null,
   "id": "9ef3e4f9",
   "metadata": {},
   "outputs": [],
   "source": [
    "per_var = np.round(pca.explained_variance_ratio_* 100, decimals=1)\n",
    "labels = ['PC' + str(x) for x in range(1, len(per_var)+1)]\n",
    " \n",
    "plt.bar(x=range(1,len(per_var)+1), height=per_var, tick_label=labels)\n",
    "plt.ylabel('Percentage of Explained Variance')\n",
    "plt.xlabel('Principal Component')\n",
    "plt.title('Scree Plot')\n",
    "for index,data in enumerate(per_var):\n",
    "    plt.text(x=index+0.9 , y =data+1 , s=f\"{data}%\" , fontdict=dict(fontsize=10))\n",
    "plt.show()\n",
    "\n"
   ]
  },
  {
   "cell_type": "code",
   "execution_count": null,
   "id": "832e4bb7",
   "metadata": {},
   "outputs": [],
   "source": [
    "principalComponents = pca.fit_transform(scaled_data)\n",
    "PCA_components = pd.DataFrame(principalComponents)\n",
    "PCA_components"
   ]
  },
  {
   "cell_type": "code",
   "execution_count": null,
   "id": "4602f763",
   "metadata": {},
   "outputs": [],
   "source": []
  },
  {
   "cell_type": "markdown",
   "id": "3a1b4c6c",
   "metadata": {},
   "source": [
    "### Importance of each feature"
   ]
  },
  {
   "cell_type": "code",
   "execution_count": null,
   "id": "ae2721cf",
   "metadata": {},
   "outputs": [],
   "source": [
    "pca_param = pd.DataFrame(pca.components_,columns=X.columns,index = ['PC-1','PC-2','PC-3'])\n",
    "pca_param = pca_param.T\n"
   ]
  },
  {
   "cell_type": "code",
   "execution_count": null,
   "id": "d93ea74d",
   "metadata": {},
   "outputs": [],
   "source": [
    "pca_param['total'] = 0.71*pca_param['PC-1'] + 0.114*pca_param['PC-2'] + 0.047*pca_param['PC-3']\n",
    "pca_param.sort_values(['PC-1'], ascending=[False]).head(20)"
   ]
  },
  {
   "cell_type": "code",
   "execution_count": 469,
   "id": "235ac948",
   "metadata": {},
   "outputs": [
    {
     "data": {
      "text/plain": [
       "Text(0, 0.5, 'PCA 2')"
      ]
     },
     "execution_count": 469,
     "metadata": {},
     "output_type": "execute_result"
    },
    {
     "data": {
      "image/png": "[encoded data removed]",
      "text/plain": [
       "<Figure size 432x288 with 1 Axes>"
      ]
     },
     "metadata": {},
     "output_type": "display_data"
    }
   ],
   "source": [
    "plt.scatter(PCA_components[0], PCA_components[1], alpha=.1, color='black')\n",
    "plt.xlabel('PCA 1')\n",
    "plt.ylabel('PCA 2')"
   ]
  },
  {
   "cell_type": "code",
   "execution_count": 483,
   "id": "ac83c8d3",
   "metadata": {},
   "outputs": [
    {
     "data": {
      "image/png": "[encoded data removed]",
      "text/plain": [
       "<Figure size 432x288 with 1 Axes>"
      ]
     },
     "metadata": {},
     "output_type": "display_data"
    }
   ],
   "source": [
    "ax = plt.axes(projection='3d')\n",
    "\n",
    "# Data for three-dimensional scattered points\n",
    "ax.scatter3D(PCA_components[0], PCA_components[1], PCA_components[2],  alpha=.4, cmap='Greens');"
   ]
  },
  {
   "cell_type": "markdown",
   "id": "d3b28b56",
   "metadata": {},
   "source": [
    "## Clustering "
   ]
  },
  {
   "cell_type": "code",
   "execution_count": 470,
   "id": "1711b212",
   "metadata": {},
   "outputs": [
    {
     "data": {
      "image/png": "[encoded data removed]",
      "text/plain": [
       "<Figure size 432x288 with 1 Axes>"
      ]
     },
     "metadata": {},
     "output_type": "display_data"
    }
   ],
   "source": [
    "ks = range(1, 10)\n",
    "inertias = []\n",
    "for k in ks:\n",
    "    # Create a KMeans instance with k clusters: model\n",
    "    model = KMeans(n_clusters=k)\n",
    "    \n",
    "    # Fit model to samples\n",
    "    model.fit(PCA_components.iloc[:,:3])\n",
    "    \n",
    "    # Append the inertia to the list of inertias\n",
    "    inertias.append(model.inertia_)\n",
    "    \n",
    "plt.plot(ks, inertias, '-o', color='black')\n",
    "plt.xlabel('number of clusters, k')\n",
    "plt.ylabel('inertia')\n",
    "plt.xticks(ks)\n",
    "plt.show()"
   ]
  },
  {
   "cell_type": "code",
   "execution_count": 471,
   "id": "3ee2d36a",
   "metadata": {},
   "outputs": [],
   "source": [
    "km = KMeans(n_clusters=3).fit(X)\n",
    "\n",
    "cluster_map = pd.DataFrame()\n",
    "cluster_map['data_index'] = df.index.values\n",
    "cluster_map['cluster'] = km.labels_\n",
    "df = cluster_map.merge(df, left_on='data_index', right_index=True)"
   ]
  },
  {
   "cell_type": "code",
   "execution_count": null,
   "id": "d039c449",
   "metadata": {},
   "outputs": [],
   "source": []
  },
  {
   "cell_type": "code",
   "execution_count": null,
   "id": "ea497fef",
   "metadata": {},
   "outputs": [],
   "source": []
  },
  {
   "cell_type": "code",
   "execution_count": null,
   "id": "0c5e9780",
   "metadata": {
    "scrolled": true
   },
   "outputs": [],
   "source": []
  },
  {
   "cell_type": "markdown",
   "id": "0b338815",
   "metadata": {},
   "source": [
    "### Looking at the clusters"
   ]
  },
  {
   "cell_type": "code",
   "execution_count": 472,
   "id": "da06c7da",
   "metadata": {},
   "outputs": [
    {
     "name": "stdout",
     "output_type": "stream",
     "text": [
      "Kiel, Landeshauptstadt, Lübeck, Hansestadt, Braunschweig, Hannover, Bremen, Bremerhaven, Düsseldorf, Duisburg, Essen, Krefeld, Mönchengladbach, Oberhausen, Wuppertal, Mettmann, Rhein-Kreis Neuss, Wesel, Bonn, Köln, Aachen, Rhein-Erft-Kreis, Rhein-Sieg-Kreis, Gelsenkirchen, Münster, Borken, Recklinghausen, Steinfurt, Bielefeld, Gütersloh, Bochum, Dortmund, Herne, Ennepe-Ruhr-Kreis, Märkischer Kreis, Unna, Kreisfreie Stadt Darmstadt, Kreisfreie Stadt Frankfurt am Main, Kreisfreie Stadt Offenbach am Main, Landeshauptstadt Wiesbaden, Groß-Gerau, Main-Kinzig, Offenbach, Kreisfreie Stadt Kassel, Stadt Ludwigshafen a. Rh., Stadt Mainz, Stuttgart, Böblingen, Esslingen, Ludwigsburg, Rems-Murr-Kreis, Karlsruhe, Stadt, Karlsruhe, Kreis, Heidelberg, Mannheim, Rhein-Neckar-Kreis, Freiburg im Breisgau, Ortenaukreis, München, Landeshauptstadt, Rosenheim, Stadt, München, Kreis, Regensburg, Stadt, Nürnberg, Augsburg, Stadt, Regionalverband Saarbrücken, Dresden, Leipzig, Stadt, Halle (Saale), Magdeburg, Erfurt\n"
     ]
    }
   ],
   "source": [
    "print(', '.join(df.loc[df['cluster'] == 0]['kreis'].to_numpy()))"
   ]
  },
  {
   "cell_type": "code",
   "execution_count": 473,
   "id": "1e406bee",
   "metadata": {},
   "outputs": [
    {
     "data": {
      "text/html": [
       "<div>\n",
       "<style scoped>\n",
       "    .dataframe tbody tr th:only-of-type {\n",
       "        vertical-align: middle;\n",
       "    }\n",
       "\n",
       "    .dataframe tbody tr th {\n",
       "        vertical-align: top;\n",
       "    }\n",
       "\n",
       "    .dataframe thead tr th {\n",
       "        text-align: left;\n",
       "    }\n",
       "\n",
       "    .dataframe thead tr:last-of-type th {\n",
       "        text-align: right;\n",
       "    }\n",
       "</style>\n",
       "<table border=\"1\" class=\"dataframe\">\n",
       "  <thead>\n",
       "    <tr>\n",
       "      <th></th>\n",
       "      <th>ags5</th>\n",
       "    </tr>\n",
       "    <tr>\n",
       "      <th></th>\n",
       "      <th>count</th>\n",
       "    </tr>\n",
       "    <tr>\n",
       "      <th>cluster</th>\n",
       "      <th></th>\n",
       "    </tr>\n",
       "  </thead>\n",
       "  <tbody>\n",
       "    <tr>\n",
       "      <th>0</th>\n",
       "      <td>68</td>\n",
       "    </tr>\n",
       "    <tr>\n",
       "      <th>1</th>\n",
       "      <td>2</td>\n",
       "    </tr>\n",
       "    <tr>\n",
       "      <th>2</th>\n",
       "      <td>331</td>\n",
       "    </tr>\n",
       "  </tbody>\n",
       "</table>\n",
       "</div>"
      ],
      "text/plain": [
       "         ags5\n",
       "        count\n",
       "cluster      \n",
       "0          68\n",
       "1           2\n",
       "2         331"
      ]
     },
     "execution_count": 473,
     "metadata": {},
     "output_type": "execute_result"
    }
   ],
   "source": [
    "df[['cluster', 'ags5']].groupby(['cluster']).agg(['count'])\n"
   ]
  },
  {
   "cell_type": "code",
   "execution_count": 474,
   "id": "b183adac",
   "metadata": {},
   "outputs": [
    {
     "data": {
      "text/plain": [
       "array(['Hamburg', 'Berlin'], dtype=object)"
      ]
     },
     "execution_count": 474,
     "metadata": {},
     "output_type": "execute_result"
    }
   ],
   "source": [
    "df.loc[df['cluster'] == 1]['kreis'].to_numpy()"
   ]
  },
  {
   "cell_type": "code",
   "execution_count": 475,
   "id": "8c685475",
   "metadata": {},
   "outputs": [
    {
     "name": "stdout",
     "output_type": "stream",
     "text": [
      "Flensburg, Stadt, Neumünster, Stadt, Dithmarschen, Herzogtum Lauenburg, Nordfriesland, Ostholstein, Pinneberg, Plön, Rendsburg-Eckernförde, Schleswig-Flensburg, Segeberg, Steinburg, Stormarn, Salzgitter, Wolfsburg, Gifhorn, Goslar, Helmstedt, Northeim, Peine, Wolfenbüttel, Göttingen, Diepholz, Hameln-Pyrmont, Hildesheim, Holzminden, Nienburg/Weser, Schaumburg, Celle, Cuxhaven, Harburg, Lüchow-Dannenberg, Lüneburg, Osterholz, Rotenburg (Wümme), Heidekreis, Stade, Uelzen, Verden, Delmenhorst, Emden, Oldenburg, Stadt, Osnabrück, Stadt, Wilhelmshaven, Ammerland, Aurich, Cloppenburg, Emsland, Friesland, Grafschaft Bentheim, Leer, Oldenburg, Kreis, Osnabrück, Kreis, Vechta, Wesermarsch, Wittmund, Mülheim an der Ruhr, Remscheid, Solingen, Kleve, Viersen, Leverkusen, Düren, Euskirchen, Heinsberg, Oberbergischer Kreis, Rheinisch-Bergischer Kreis, Bottrop, Coesfeld, Warendorf, Herford, Höxter, Lippe, Minden-Lübbecke, Paderborn, Hagen, Hamm, Hochsauerlandkreis, Olpe, Siegen-Wittgenstein, Soest, Bergstraße, Darmstadt-Dieburg, Hochtaunus, Main-Taunus, Odenwaldkreis, Rheingau-Taunus, Wetterau, Gießen, Lahn-Dill, Limburg-Weilburg, Marburg-Biedenkopf, Vogelsberg, Fulda, Hersfeld-Rotenburg, Kassel, Schwalm-Eder, Waldeck-Frankenberg, Werra-Meißner, Stadt Koblenz, Ahrweiler, Altenkirchen (Ww), Bad Kreuznach, Birkenfeld, Cochem-Zell, Mayen-Koblenz, Neuwied, Rhein-Hunsrück-Kreis, Rhein-Lahn-Kreis, Westerwaldkreis, Stadt Trier, Bernkastel-Wittlich, Eifelkreis Bitburg-Prüm, Vulkaneifel, Trier-Saarburg, Stadt Frankenthal (Pfalz), Stadt Kaiserslautern, Stadt Landau in der Pfalz, Stadt Neustadt a.d. W., Stadt Pirmasens, Stadt Speyer, Stadt Worms, Stadt Zweibrücken, Alzey-Worms, Bad Dürkheim, Donnersbergkreis, Germersheim, Kaiserslautern, Kusel, Südliche Weinstraße, Rhein-Pfalz-Kreis, Mainz-Bingen, Südwestpfalz, Göppingen, Heilbronn, Stadt, Heilbronn, Kreis, Hohenlohekreis, Schwäbisch Hall, Main-Tauber-Kreis, Heidenheim, Ostalbkreis, Baden-Baden, Rastatt, Neckar-Odenwald-Kreis, Pforzheim, Calw, Enzkreis, Freudenstadt, Breisgau-Hochschwarzwald, Emmendingen, Rottweil, Schwarzwald-Baar-Kreis, Tuttlingen, Konstanz, Lörrach, Waldshut, Reutlingen, Tübingen, Zollernalbkreis, Ulm, Alb-Donau-Kreis, Biberach, Bodenseekreis, Ravensburg, Sigmaringen, Ingolstadt, Altötting, Berchtesgadener Land, Bad Tölz-Wolfratshausen, Dachau, Ebersberg, Eichstätt, Erding, Freising, Fürstenfeldbruck, Garmisch-Partenkirchen, Landsberg am Lech, Miesbach, Mühldorf a.Inn, Neuburg-Schrobenhausen, Pfaffenhofen a.d.Ilm, Rosenheim, Kreis, Starnberg, Traunstein, Weilheim-Schongau, Landshut, Stadt, Passau, Stadt, Straubing, Deggendorf, Freyung-Grafenau, Kelheim, Landshut, Kreis, Passau, Kreis, Regen, Rottal-Inn, Straubing-Bogen, Dingolfing-Landau, Amberg, Weiden i.d.OPf., Amberg-Sulzbach, Cham, Neumarkt i.d.OPf., Neustadt a.d.Waldnaab, Regensburg, Kreis, Schwandorf, Tirschenreuth, Bamberg, Stadt, Bayreuth, Stadt, Coburg, Stadt, Hof, Stadt, Bamberg, Kreis, Bayreuth, Kreis, Coburg, Kreis, Forchheim, Hof, Kreis, Kronach, Kulmbach, Lichtenfels, Wunsiedel i.Fichtelgebirge, Ansbach, Stadt, Erlangen, Fürth, Stadt, Schwabach, Ansbach, Kreis, Erlangen-Höchstadt, Fürth, Kreis, Nürnberger Land, Neustadt a.d.Aisch-Bad Windsheim, Roth, Weißenburg-Gunzenhausen, Aschaffenburg, Stadt, Schweinfurt, Stadt, Würzburg, Stadt, Aschaffenburg, Kreis, Bad Kissingen, Rhön-Grabfeld, Haßberge, Kitzingen, Miltenberg, Main-Spessart, Schweinfurt, Kreis, Würzburg, Kreis, Kaufbeuren, Kempten (Allgäu), Memmingen, Aichach-Friedberg, Augsburg, Kreis, Dillingen a.d.Donau, Günzburg, Neu-Ulm, Lindau (Bodensee), Ostallgäu, Unterallgäu, Donau-Ries, Oberallgäu, Landkreis Merzig-Wadern, Landkreis Neunkirchen, Landkreis Saarlouis, Saarpfalz-Kreis, Landkreis St. Wendel, Brandenburg an der Havel, Cottbus, Frankfurt (Oder), Potsdam, Barnim, Dahme-Spreewald, Elbe-Elster, Havelland, Märkisch-Oderland, Oberhavel, Oberspreewald-Lausitz, Oder-Spree, Ostprignitz-Ruppin, Potsdam-Mittelmark, Prignitz, Spree-Neiße, Teltow-Fläming, Uckermark, Rostock, Hansestadt, Schwerin, Landeshauptstadt, Mecklenburgische Seenplatte, Landkreis Rostock, Vorpommern-Rügen, Nordwestmecklenburg, Vorpommern-Greifswald, Ludwigslust-Parchim, Chemnitz, Erzgebirgskreis, Mittelsachsen, Vogtlandkreis, Zwickau, Bautzen, Görlitz, Meißen, Sächsische Schweiz-Osterzgebirge, Leipzig, Kreis, Nordsachsen, Dessau-Roßlau, Altmarkkreis Salzwedel, Anhalt-Bitterfeld, Börde, Burgenlandkreis, Harz, Jerichower Land, Mansfeld-Südharz, Saalekreis, Salzlandkreis, Stendal, Wittenberg, Gera, Jena, Suhl, Weimar, Eisenach, Eichsfeld, Nordhausen, Wartburgkreis, Unstrut-Hainich-Kreis, Kyffhäuserkreis, Schmalkalden-Meiningen, Gotha, Sömmerda, Hildburghausen, Ilm-Kreis, Weimarer Land, Sonneberg, Saalfeld-Rudolstadt, Saale-Holzland-Kreis, Saale-Orla-Kreis, Greiz, Altenburger Land\n"
     ]
    }
   ],
   "source": [
    "print(', '.join(df.loc[df['cluster'] == 2]['kreis'].to_numpy()))"
   ]
  },
  {
   "cell_type": "code",
   "execution_count": null,
   "id": "b52f5dd6",
   "metadata": {},
   "outputs": [],
   "source": []
  },
  {
   "cell_type": "code",
   "execution_count": 476,
   "id": "eb2e8a66",
   "metadata": {},
   "outputs": [],
   "source": [
    "df.to_csv('./corona_data_sets_modified/df_final_with_clusters.csv')"
   ]
  }
 ],
 "metadata": {
  "kernelspec": {
   "display_name": "Python 3",
   "language": "python",
   "name": "python3"
  },
  "language_info": {
   "codemirror_mode": {
    "name": "ipython",
    "version": 3
   },
   "file_extension": ".py",
   "mimetype": "text/x-python",
   "name": "python",
   "nbconvert_exporter": "python",
   "pygments_lexer": "ipython3",
   "version": "3.8.2"
  }
 },
 "nbformat": 4,
 "nbformat_minor": 5
}
