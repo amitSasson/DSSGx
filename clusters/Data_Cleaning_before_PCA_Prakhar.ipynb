{
 "cells": [
  {
   "cell_type": "code",
   "execution_count": 1,
   "metadata": {},
   "outputs": [],
   "source": [
    "# Import libraries\n",
    "import os\n",
    "import pandas as pd\n",
    "import numpy as np"
   ]
  },
  {
   "cell_type": "code",
   "execution_count": 2,
   "metadata": {},
   "outputs": [],
   "source": [
    "# Read the datasets by defining the path\n",
    "commuter_path = 'raw_data/commuter.csv'\n",
    "reachability_path = 'raw_data/reachability.csv'\n",
    "tourism_path = 'raw_data/tourism.csv'\n",
    "\n",
    "commuter_data = pd.read_csv('raw_data/commuter.csv', encoding='latin_1')\n",
    "reachability_data = pd.read_csv('raw_data/reachability.csv', encoding='latin_1')\n",
    "tourism_data = pd.read_csv('raw_data/tourism.csv', encoding='latin_1')"
   ]
  },
  {
   "cell_type": "markdown",
   "metadata": {},
   "source": [
    "## Commuter Data Fixing\n",
    "\n",
    "The date columns can be dropped towards the end. "
   ]
  },
  {
   "cell_type": "code",
   "execution_count": 3,
   "metadata": {},
   "outputs": [
    {
     "data": {
      "text/plain": [
       "Index(['ags2', 'bundesland', 'ags5', 'kreis', 'kr_ep', 'kr_ap', 'kr_sp',\n",
       "       'kr_ep_svb', 'kr_ap_svb', 'kr_sp_svb', 'kr_pen_50', 'kr_pen_150',\n",
       "       'kr_pen_300', 'kr_pen_202001', 'kr_pen_202002', 'kr_pen_202003',\n",
       "       'kr_pen_202004', 'kr_pen_202005', 'kr_pen_202006', 'kr_pen_202007',\n",
       "       'kr_pen_202008', 'kr_pen_202009', 'kr_pen_202010', 'kr_pen_202011'],\n",
       "      dtype='object')"
      ]
     },
     "execution_count": 3,
     "metadata": {},
     "output_type": "execute_result"
    }
   ],
   "source": [
    "# Columns in the data\n",
    "commuter_data.columns"
   ]
  },
  {
   "cell_type": "code",
   "execution_count": 4,
   "metadata": {
    "scrolled": true
   },
   "outputs": [
    {
     "data": {
      "text/html": [
       "<div>\n",
       "<style scoped>\n",
       "    .dataframe tbody tr th:only-of-type {\n",
       "        vertical-align: middle;\n",
       "    }\n",
       "\n",
       "    .dataframe tbody tr th {\n",
       "        vertical-align: top;\n",
       "    }\n",
       "\n",
       "    .dataframe thead th {\n",
       "        text-align: right;\n",
       "    }\n",
       "</style>\n",
       "<table border=\"1\" class=\"dataframe\">\n",
       "  <thead>\n",
       "    <tr style=\"text-align: right;\">\n",
       "      <th></th>\n",
       "      <th>ags2</th>\n",
       "      <th>bundesland</th>\n",
       "      <th>ags5</th>\n",
       "      <th>kreis</th>\n",
       "      <th>kr_ep</th>\n",
       "      <th>kr_ap</th>\n",
       "      <th>kr_sp</th>\n",
       "      <th>kr_ep_svb</th>\n",
       "      <th>kr_ap_svb</th>\n",
       "      <th>kr_sp_svb</th>\n",
       "      <th>...</th>\n",
       "      <th>kr_pen_202002</th>\n",
       "      <th>kr_pen_202003</th>\n",
       "      <th>kr_pen_202004</th>\n",
       "      <th>kr_pen_202005</th>\n",
       "      <th>kr_pen_202006</th>\n",
       "      <th>kr_pen_202007</th>\n",
       "      <th>kr_pen_202008</th>\n",
       "      <th>kr_pen_202009</th>\n",
       "      <th>kr_pen_202010</th>\n",
       "      <th>kr_pen_202011</th>\n",
       "    </tr>\n",
       "  </thead>\n",
       "  <tbody>\n",
       "    <tr>\n",
       "      <th>0</th>\n",
       "      <td>1</td>\n",
       "      <td>Schleswig-Holstein</td>\n",
       "      <td>1001</td>\n",
       "      <td>Flensburg, Stadt</td>\n",
       "      <td>23363</td>\n",
       "      <td>11096</td>\n",
       "      <td>12267</td>\n",
       "      <td>52.4</td>\n",
       "      <td>34.2</td>\n",
       "      <td>27.7</td>\n",
       "      <td>...</td>\n",
       "      <td>9</td>\n",
       "      <td>-16</td>\n",
       "      <td>-42</td>\n",
       "      <td>-34</td>\n",
       "      <td>8</td>\n",
       "      <td>9</td>\n",
       "      <td>18</td>\n",
       "      <td>13</td>\n",
       "      <td>-3</td>\n",
       "      <td>-8</td>\n",
       "    </tr>\n",
       "    <tr>\n",
       "      <th>1</th>\n",
       "      <td>1</td>\n",
       "      <td>Schleswig-Holstein</td>\n",
       "      <td>1002</td>\n",
       "      <td>Kiel, Landeshauptstadt</td>\n",
       "      <td>61487</td>\n",
       "      <td>27950</td>\n",
       "      <td>33537</td>\n",
       "      <td>49.1</td>\n",
       "      <td>30.3</td>\n",
       "      <td>27.1</td>\n",
       "      <td>...</td>\n",
       "      <td>2</td>\n",
       "      <td>-17</td>\n",
       "      <td>-44</td>\n",
       "      <td>-35</td>\n",
       "      <td>-7</td>\n",
       "      <td>-11</td>\n",
       "      <td>0</td>\n",
       "      <td>3</td>\n",
       "      <td>-13</td>\n",
       "      <td>-10</td>\n",
       "    </tr>\n",
       "    <tr>\n",
       "      <th>2</th>\n",
       "      <td>1</td>\n",
       "      <td>Schleswig-Holstein</td>\n",
       "      <td>1003</td>\n",
       "      <td>LÃ¼beck, Hansestadt</td>\n",
       "      <td>43805</td>\n",
       "      <td>24823</td>\n",
       "      <td>18982</td>\n",
       "      <td>43.6</td>\n",
       "      <td>31.3</td>\n",
       "      <td>17.9</td>\n",
       "      <td>...</td>\n",
       "      <td>6</td>\n",
       "      <td>-12</td>\n",
       "      <td>-36</td>\n",
       "      <td>-28</td>\n",
       "      <td>3</td>\n",
       "      <td>-5</td>\n",
       "      <td>5</td>\n",
       "      <td>6</td>\n",
       "      <td>-9</td>\n",
       "      <td>-7</td>\n",
       "    </tr>\n",
       "    <tr>\n",
       "      <th>3</th>\n",
       "      <td>1</td>\n",
       "      <td>Schleswig-Holstein</td>\n",
       "      <td>1004</td>\n",
       "      <td>NeumÃ¼nster, Stadt</td>\n",
       "      <td>22314</td>\n",
       "      <td>11699</td>\n",
       "      <td>10615</td>\n",
       "      <td>54.5</td>\n",
       "      <td>38.6</td>\n",
       "      <td>25.9</td>\n",
       "      <td>...</td>\n",
       "      <td>6</td>\n",
       "      <td>-10</td>\n",
       "      <td>-33</td>\n",
       "      <td>-28</td>\n",
       "      <td>1</td>\n",
       "      <td>-8</td>\n",
       "      <td>2</td>\n",
       "      <td>2</td>\n",
       "      <td>-8</td>\n",
       "      <td>2</td>\n",
       "    </tr>\n",
       "    <tr>\n",
       "      <th>4</th>\n",
       "      <td>1</td>\n",
       "      <td>Schleswig-Holstein</td>\n",
       "      <td>1051</td>\n",
       "      <td>Dithmarschen</td>\n",
       "      <td>6825</td>\n",
       "      <td>12991</td>\n",
       "      <td>6166</td>\n",
       "      <td>70.8</td>\n",
       "      <td>73.5</td>\n",
       "      <td>-15.8</td>\n",
       "      <td>...</td>\n",
       "      <td>-4</td>\n",
       "      <td>-7</td>\n",
       "      <td>-31</td>\n",
       "      <td>-19</td>\n",
       "      <td>27</td>\n",
       "      <td>19</td>\n",
       "      <td>38</td>\n",
       "      <td>39</td>\n",
       "      <td>20</td>\n",
       "      <td>16</td>\n",
       "    </tr>\n",
       "  </tbody>\n",
       "</table>\n",
       "<p>5 rows × 24 columns</p>\n",
       "</div>"
      ],
      "text/plain": [
       "   ags2          bundesland  ags5                   kreis  kr_ep  kr_ap  \\\n",
       "0     1  Schleswig-Holstein  1001        Flensburg, Stadt  23363  11096   \n",
       "1     1  Schleswig-Holstein  1002  Kiel, Landeshauptstadt  61487  27950   \n",
       "2     1  Schleswig-Holstein  1003     LÃ¼beck, Hansestadt  43805  24823   \n",
       "3     1  Schleswig-Holstein  1004      NeumÃ¼nster, Stadt  22314  11699   \n",
       "4     1  Schleswig-Holstein  1051            Dithmarschen   6825  12991   \n",
       "\n",
       "   kr_sp  kr_ep_svb  kr_ap_svb  kr_sp_svb  ...  kr_pen_202002  kr_pen_202003  \\\n",
       "0  12267       52.4       34.2       27.7  ...              9            -16   \n",
       "1  33537       49.1       30.3       27.1  ...              2            -17   \n",
       "2  18982       43.6       31.3       17.9  ...              6            -12   \n",
       "3  10615       54.5       38.6       25.9  ...              6            -10   \n",
       "4   6166       70.8       73.5      -15.8  ...             -4             -7   \n",
       "\n",
       "   kr_pen_202004  kr_pen_202005  kr_pen_202006  kr_pen_202007  kr_pen_202008  \\\n",
       "0            -42            -34              8              9             18   \n",
       "1            -44            -35             -7            -11              0   \n",
       "2            -36            -28              3             -5              5   \n",
       "3            -33            -28              1             -8              2   \n",
       "4            -31            -19             27             19             38   \n",
       "\n",
       "   kr_pen_202009  kr_pen_202010  kr_pen_202011  \n",
       "0             13             -3             -8  \n",
       "1              3            -13            -10  \n",
       "2              6             -9             -7  \n",
       "3              2             -8              2  \n",
       "4             39             20             16  \n",
       "\n",
       "[5 rows x 24 columns]"
      ]
     },
     "execution_count": 4,
     "metadata": {},
     "output_type": "execute_result"
    }
   ],
   "source": [
    "commuter_data.head()"
   ]
  },
  {
   "cell_type": "code",
   "execution_count": 5,
   "metadata": {
    "scrolled": true
   },
   "outputs": [
    {
     "name": "stdout",
     "output_type": "stream",
     "text": [
      "<class 'pandas.core.frame.DataFrame'>\n",
      "RangeIndex: 401 entries, 0 to 400\n",
      "Data columns (total 24 columns):\n",
      " #   Column         Non-Null Count  Dtype  \n",
      "---  ------         --------------  -----  \n",
      " 0   ags2           401 non-null    int64  \n",
      " 1   bundesland     401 non-null    object \n",
      " 2   ags5           401 non-null    int64  \n",
      " 3   kreis          401 non-null    object \n",
      " 4   kr_ep          401 non-null    int64  \n",
      " 5   kr_ap          401 non-null    int64  \n",
      " 6   kr_sp          401 non-null    int64  \n",
      " 7   kr_ep_svb      401 non-null    float64\n",
      " 8   kr_ap_svb      401 non-null    float64\n",
      " 9   kr_sp_svb      401 non-null    float64\n",
      " 10  kr_pen_50      401 non-null    float64\n",
      " 11  kr_pen_150     401 non-null    float64\n",
      " 12  kr_pen_300     401 non-null    float64\n",
      " 13  kr_pen_202001  401 non-null    int64  \n",
      " 14  kr_pen_202002  401 non-null    int64  \n",
      " 15  kr_pen_202003  401 non-null    int64  \n",
      " 16  kr_pen_202004  401 non-null    int64  \n",
      " 17  kr_pen_202005  401 non-null    int64  \n",
      " 18  kr_pen_202006  401 non-null    int64  \n",
      " 19  kr_pen_202007  401 non-null    int64  \n",
      " 20  kr_pen_202008  401 non-null    int64  \n",
      " 21  kr_pen_202009  401 non-null    int64  \n",
      " 22  kr_pen_202010  401 non-null    int64  \n",
      " 23  kr_pen_202011  401 non-null    int64  \n",
      "dtypes: float64(6), int64(16), object(2)\n",
      "memory usage: 75.3+ KB\n"
     ]
    }
   ],
   "source": [
    "commuter_data.info()"
   ]
  },
  {
   "cell_type": "code",
   "execution_count": 6,
   "metadata": {},
   "outputs": [
    {
     "data": {
      "text/plain": [
       "ags2             0\n",
       "bundesland       0\n",
       "ags5             0\n",
       "kreis            0\n",
       "kr_ep            0\n",
       "kr_ap            0\n",
       "kr_sp            0\n",
       "kr_ep_svb        0\n",
       "kr_ap_svb        0\n",
       "kr_sp_svb        0\n",
       "kr_pen_50        0\n",
       "kr_pen_150       0\n",
       "kr_pen_300       0\n",
       "kr_pen_202001    0\n",
       "kr_pen_202002    0\n",
       "kr_pen_202003    0\n",
       "kr_pen_202004    0\n",
       "kr_pen_202005    0\n",
       "kr_pen_202006    0\n",
       "kr_pen_202007    0\n",
       "kr_pen_202008    0\n",
       "kr_pen_202009    0\n",
       "kr_pen_202010    0\n",
       "kr_pen_202011    0\n",
       "dtype: int64"
      ]
     },
     "execution_count": 6,
     "metadata": {},
     "output_type": "execute_result"
    }
   ],
   "source": [
    "# Check for missing values\n",
    "commuter_data.isnull().sum()"
   ]
  },
  {
   "cell_type": "code",
   "execution_count": 7,
   "metadata": {},
   "outputs": [],
   "source": [
    "# List of columns to be dropped\n",
    "to_be_dropped = ['bundesland', 'kr_pen_202001', 'kr_pen_202002', 'kr_pen_202003',\n",
    "       'kr_pen_202004', 'kr_pen_202005', 'kr_pen_202006', 'kr_pen_202007',\n",
    "       'kr_pen_202008', 'kr_pen_202009', 'kr_pen_202010', 'kr_pen_202011']\n",
    "# Drop columns \n",
    "commuter_data.drop(to_be_dropped, axis=1, inplace=True)"
   ]
  },
  {
   "cell_type": "code",
   "execution_count": 16,
   "metadata": {},
   "outputs": [],
   "source": [
    "# Column Name Replacement\n",
    "commuter_data.rename(columns={\n",
    "    \"kr_ep\":\"Number_of_Commuters_place_of_work\", \n",
    "    \"kr_ap\":\"Number_of_Commuters_on_place_of_residence\",\n",
    "    \"kr_sp\":\"Commuter_Balance\",\n",
    "    \"kr_ep_svb\": \"Proportion_of_in_commuters\",\n",
    "    \"kr_ap_svb\": \"Share_of_out_commuters\",\n",
    "    \"kr_sp_svb\": \"Relative Commuter Balance\", \n",
    "    \"kr_pen_50\": \"Commute_within_50km\", \n",
    "    \"kr_pen_150\": \"Commute_within_150km\", \n",
    "    \"kr_pen_300\": \"Commute_within_300km\", \n",
    "}, inplace=True)"
   ]
  },
  {
   "cell_type": "code",
   "execution_count": 17,
   "metadata": {},
   "outputs": [],
   "source": [
    "commuter_data.to_csv('commuter_data_modified.csv', index=False, encoding='latin_1')"
   ]
  },
  {
   "cell_type": "markdown",
   "metadata": {},
   "source": [
    "## Reachibility Data"
   ]
  },
  {
   "cell_type": "code",
   "execution_count": 18,
   "metadata": {},
   "outputs": [
    {
     "data": {
      "text/html": [
       "<div>\n",
       "<style scoped>\n",
       "    .dataframe tbody tr th:only-of-type {\n",
       "        vertical-align: middle;\n",
       "    }\n",
       "\n",
       "    .dataframe tbody tr th {\n",
       "        vertical-align: top;\n",
       "    }\n",
       "\n",
       "    .dataframe thead th {\n",
       "        text-align: right;\n",
       "    }\n",
       "</style>\n",
       "<table border=\"1\" class=\"dataframe\">\n",
       "  <thead>\n",
       "    <tr style=\"text-align: right;\">\n",
       "      <th></th>\n",
       "      <th>id</th>\n",
       "      <th>ags2</th>\n",
       "      <th>ags5</th>\n",
       "      <th>kreis</th>\n",
       "      <th>supermarkets_population</th>\n",
       "      <th>supermarkets_average_distance</th>\n",
       "      <th>public_transport availability</th>\n",
       "      <th>average_distance_bus_stop</th>\n",
       "      <th>average_distance_train_station</th>\n",
       "      <th>average_distance_public_transport</th>\n",
       "    </tr>\n",
       "  </thead>\n",
       "  <tbody>\n",
       "    <tr>\n",
       "      <th>0</th>\n",
       "      <td>1</td>\n",
       "      <td>1</td>\n",
       "      <td>1001</td>\n",
       "      <td>Flensburg, Stadt</td>\n",
       "      <td>92</td>\n",
       "      <td>500</td>\n",
       "      <td>35</td>\n",
       "      <td>240</td>\n",
       "      <td>2901</td>\n",
       "      <td>240</td>\n",
       "    </tr>\n",
       "    <tr>\n",
       "      <th>1</th>\n",
       "      <td>2</td>\n",
       "      <td>1</td>\n",
       "      <td>1002</td>\n",
       "      <td>Kiel, Landeshauptstadt</td>\n",
       "      <td>92</td>\n",
       "      <td>460</td>\n",
       "      <td>37</td>\n",
       "      <td>268</td>\n",
       "      <td>2037</td>\n",
       "      <td>265</td>\n",
       "    </tr>\n",
       "    <tr>\n",
       "      <th>2</th>\n",
       "      <td>3</td>\n",
       "      <td>1</td>\n",
       "      <td>1003</td>\n",
       "      <td>LÃ¼beck, Hansestadt</td>\n",
       "      <td>90</td>\n",
       "      <td>532</td>\n",
       "      <td>37</td>\n",
       "      <td>297</td>\n",
       "      <td>1927</td>\n",
       "      <td>294</td>\n",
       "    </tr>\n",
       "    <tr>\n",
       "      <th>3</th>\n",
       "      <td>4</td>\n",
       "      <td>1</td>\n",
       "      <td>1004</td>\n",
       "      <td>NeumÃ¼nster, Stadt</td>\n",
       "      <td>85</td>\n",
       "      <td>588</td>\n",
       "      <td>37</td>\n",
       "      <td>316</td>\n",
       "      <td>1648</td>\n",
       "      <td>313</td>\n",
       "    </tr>\n",
       "    <tr>\n",
       "      <th>4</th>\n",
       "      <td>5</td>\n",
       "      <td>1</td>\n",
       "      <td>1051</td>\n",
       "      <td>Dithmarschen</td>\n",
       "      <td>51</td>\n",
       "      <td>1864</td>\n",
       "      <td>35</td>\n",
       "      <td>448</td>\n",
       "      <td>3517</td>\n",
       "      <td>443</td>\n",
       "    </tr>\n",
       "  </tbody>\n",
       "</table>\n",
       "</div>"
      ],
      "text/plain": [
       "   id  ags2  ags5                   kreis  supermarkets_population  \\\n",
       "0   1     1  1001        Flensburg, Stadt                       92   \n",
       "1   2     1  1002  Kiel, Landeshauptstadt                       92   \n",
       "2   3     1  1003     LÃ¼beck, Hansestadt                       90   \n",
       "3   4     1  1004      NeumÃ¼nster, Stadt                       85   \n",
       "4   5     1  1051            Dithmarschen                       51   \n",
       "\n",
       "   supermarkets_average_distance  public_transport availability  \\\n",
       "0                            500                             35   \n",
       "1                            460                             37   \n",
       "2                            532                             37   \n",
       "3                            588                             37   \n",
       "4                           1864                             35   \n",
       "\n",
       "   average_distance_bus_stop  average_distance_train_station  \\\n",
       "0                        240                            2901   \n",
       "1                        268                            2037   \n",
       "2                        297                            1927   \n",
       "3                        316                            1648   \n",
       "4                        448                            3517   \n",
       "\n",
       "   average_distance_public_transport  \n",
       "0                                240  \n",
       "1                                265  \n",
       "2                                294  \n",
       "3                                313  \n",
       "4                                443  "
      ]
     },
     "execution_count": 18,
     "metadata": {},
     "output_type": "execute_result"
    }
   ],
   "source": [
    "reachability_data.head()"
   ]
  },
  {
   "cell_type": "code",
   "execution_count": 19,
   "metadata": {},
   "outputs": [
    {
     "name": "stdout",
     "output_type": "stream",
     "text": [
      "<class 'pandas.core.frame.DataFrame'>\n",
      "RangeIndex: 401 entries, 0 to 400\n",
      "Data columns (total 10 columns):\n",
      " #   Column                             Non-Null Count  Dtype \n",
      "---  ------                             --------------  ----- \n",
      " 0   id                                 401 non-null    int64 \n",
      " 1   ags2                               401 non-null    int64 \n",
      " 2   ags5                               401 non-null    int64 \n",
      " 3   kreis                              401 non-null    object\n",
      " 4   supermarkets_population            401 non-null    int64 \n",
      " 5   supermarkets_average_distance      401 non-null    int64 \n",
      " 6   public_transport availability      401 non-null    int64 \n",
      " 7   average_distance_bus_stop          401 non-null    int64 \n",
      " 8   average_distance_train_station     401 non-null    int64 \n",
      " 9   average_distance_public_transport  401 non-null    int64 \n",
      "dtypes: int64(9), object(1)\n",
      "memory usage: 31.5+ KB\n"
     ]
    }
   ],
   "source": [
    "reachability_data.info()"
   ]
  },
  {
   "cell_type": "code",
   "execution_count": 20,
   "metadata": {},
   "outputs": [
    {
     "data": {
      "text/plain": [
       "id                                   0\n",
       "ags2                                 0\n",
       "ags5                                 0\n",
       "kreis                                0\n",
       "supermarkets_population              0\n",
       "supermarkets_average_distance        0\n",
       "public_transport availability        0\n",
       "average_distance_bus_stop            0\n",
       "average_distance_train_station       0\n",
       "average_distance_public_transport    0\n",
       "dtype: int64"
      ]
     },
     "execution_count": 20,
     "metadata": {},
     "output_type": "execute_result"
    }
   ],
   "source": [
    "# Check null values \n",
    "reachability_data.isnull().sum()"
   ]
  },
  {
   "cell_type": "code",
   "execution_count": 21,
   "metadata": {},
   "outputs": [
    {
     "ename": "KeyError",
     "evalue": "\"['bundesland' 'kr_opnv_d' 'kr_opnv_b' 'kr_dist_ustrab'] not found in axis\"",
     "traceback": [
      "\u001b[1;31m---------------------------------------------------------------------------\u001b[0m",
      "\u001b[1;31mKeyError\u001b[0m                                  Traceback (most recent call last)",
      "\u001b[1;32m<ipython-input-21-2d34c0d07abb>\u001b[0m in \u001b[0;36m<module>\u001b[1;34m\u001b[0m\n\u001b[0;32m      1\u001b[0m \u001b[0mto_be_dropped\u001b[0m \u001b[1;33m=\u001b[0m \u001b[1;33m[\u001b[0m\u001b[1;34m\"bundesland\"\u001b[0m\u001b[1;33m,\u001b[0m \u001b[1;34m\"kr_opnv_d\"\u001b[0m\u001b[1;33m,\u001b[0m \u001b[1;34m\"kr_opnv_b\"\u001b[0m\u001b[1;33m,\u001b[0m \u001b[1;34m\"kr_dist_ustrab\"\u001b[0m\u001b[1;33m]\u001b[0m\u001b[1;33m\u001b[0m\u001b[1;33m\u001b[0m\u001b[0m\n\u001b[1;32m----> 2\u001b[1;33m \u001b[0mreachability_data\u001b[0m\u001b[1;33m.\u001b[0m\u001b[0mdrop\u001b[0m\u001b[1;33m(\u001b[0m\u001b[0mto_be_dropped\u001b[0m\u001b[1;33m,\u001b[0m \u001b[0maxis\u001b[0m\u001b[1;33m=\u001b[0m\u001b[1;36m1\u001b[0m\u001b[1;33m,\u001b[0m \u001b[0minplace\u001b[0m\u001b[1;33m=\u001b[0m\u001b[1;32mTrue\u001b[0m\u001b[1;33m)\u001b[0m\u001b[1;33m\u001b[0m\u001b[1;33m\u001b[0m\u001b[0m\n\u001b[0m",
      "\u001b[1;32mc:\\users\\91981\\appdata\\local\\programs\\python\\python38\\lib\\site-packages\\pandas\\core\\frame.py\u001b[0m in \u001b[0;36mdrop\u001b[1;34m(self, labels, axis, index, columns, level, inplace, errors)\u001b[0m\n\u001b[0;32m   4306\u001b[0m                 \u001b[0mweight\u001b[0m  \u001b[1;36m1.0\u001b[0m     \u001b[1;36m0.8\u001b[0m\u001b[1;33m\u001b[0m\u001b[1;33m\u001b[0m\u001b[0m\n\u001b[0;32m   4307\u001b[0m         \"\"\"\n\u001b[1;32m-> 4308\u001b[1;33m         return super().drop(\n\u001b[0m\u001b[0;32m   4309\u001b[0m             \u001b[0mlabels\u001b[0m\u001b[1;33m=\u001b[0m\u001b[0mlabels\u001b[0m\u001b[1;33m,\u001b[0m\u001b[1;33m\u001b[0m\u001b[1;33m\u001b[0m\u001b[0m\n\u001b[0;32m   4310\u001b[0m             \u001b[0maxis\u001b[0m\u001b[1;33m=\u001b[0m\u001b[0maxis\u001b[0m\u001b[1;33m,\u001b[0m\u001b[1;33m\u001b[0m\u001b[1;33m\u001b[0m\u001b[0m\n",
      "\u001b[1;32mc:\\users\\91981\\appdata\\local\\programs\\python\\python38\\lib\\site-packages\\pandas\\core\\generic.py\u001b[0m in \u001b[0;36mdrop\u001b[1;34m(self, labels, axis, index, columns, level, inplace, errors)\u001b[0m\n\u001b[0;32m   4151\u001b[0m         \u001b[1;32mfor\u001b[0m \u001b[0maxis\u001b[0m\u001b[1;33m,\u001b[0m \u001b[0mlabels\u001b[0m \u001b[1;32min\u001b[0m \u001b[0maxes\u001b[0m\u001b[1;33m.\u001b[0m\u001b[0mitems\u001b[0m\u001b[1;33m(\u001b[0m\u001b[1;33m)\u001b[0m\u001b[1;33m:\u001b[0m\u001b[1;33m\u001b[0m\u001b[1;33m\u001b[0m\u001b[0m\n\u001b[0;32m   4152\u001b[0m             \u001b[1;32mif\u001b[0m \u001b[0mlabels\u001b[0m \u001b[1;32mis\u001b[0m \u001b[1;32mnot\u001b[0m \u001b[1;32mNone\u001b[0m\u001b[1;33m:\u001b[0m\u001b[1;33m\u001b[0m\u001b[1;33m\u001b[0m\u001b[0m\n\u001b[1;32m-> 4153\u001b[1;33m                 \u001b[0mobj\u001b[0m \u001b[1;33m=\u001b[0m \u001b[0mobj\u001b[0m\u001b[1;33m.\u001b[0m\u001b[0m_drop_axis\u001b[0m\u001b[1;33m(\u001b[0m\u001b[0mlabels\u001b[0m\u001b[1;33m,\u001b[0m \u001b[0maxis\u001b[0m\u001b[1;33m,\u001b[0m \u001b[0mlevel\u001b[0m\u001b[1;33m=\u001b[0m\u001b[0mlevel\u001b[0m\u001b[1;33m,\u001b[0m \u001b[0merrors\u001b[0m\u001b[1;33m=\u001b[0m\u001b[0merrors\u001b[0m\u001b[1;33m)\u001b[0m\u001b[1;33m\u001b[0m\u001b[1;33m\u001b[0m\u001b[0m\n\u001b[0m\u001b[0;32m   4154\u001b[0m \u001b[1;33m\u001b[0m\u001b[0m\n\u001b[0;32m   4155\u001b[0m         \u001b[1;32mif\u001b[0m \u001b[0minplace\u001b[0m\u001b[1;33m:\u001b[0m\u001b[1;33m\u001b[0m\u001b[1;33m\u001b[0m\u001b[0m\n",
      "\u001b[1;32mc:\\users\\91981\\appdata\\local\\programs\\python\\python38\\lib\\site-packages\\pandas\\core\\generic.py\u001b[0m in \u001b[0;36m_drop_axis\u001b[1;34m(self, labels, axis, level, errors)\u001b[0m\n\u001b[0;32m   4186\u001b[0m                 \u001b[0mnew_axis\u001b[0m \u001b[1;33m=\u001b[0m \u001b[0maxis\u001b[0m\u001b[1;33m.\u001b[0m\u001b[0mdrop\u001b[0m\u001b[1;33m(\u001b[0m\u001b[0mlabels\u001b[0m\u001b[1;33m,\u001b[0m \u001b[0mlevel\u001b[0m\u001b[1;33m=\u001b[0m\u001b[0mlevel\u001b[0m\u001b[1;33m,\u001b[0m \u001b[0merrors\u001b[0m\u001b[1;33m=\u001b[0m\u001b[0merrors\u001b[0m\u001b[1;33m)\u001b[0m\u001b[1;33m\u001b[0m\u001b[1;33m\u001b[0m\u001b[0m\n\u001b[0;32m   4187\u001b[0m             \u001b[1;32melse\u001b[0m\u001b[1;33m:\u001b[0m\u001b[1;33m\u001b[0m\u001b[1;33m\u001b[0m\u001b[0m\n\u001b[1;32m-> 4188\u001b[1;33m                 \u001b[0mnew_axis\u001b[0m \u001b[1;33m=\u001b[0m \u001b[0maxis\u001b[0m\u001b[1;33m.\u001b[0m\u001b[0mdrop\u001b[0m\u001b[1;33m(\u001b[0m\u001b[0mlabels\u001b[0m\u001b[1;33m,\u001b[0m \u001b[0merrors\u001b[0m\u001b[1;33m=\u001b[0m\u001b[0merrors\u001b[0m\u001b[1;33m)\u001b[0m\u001b[1;33m\u001b[0m\u001b[1;33m\u001b[0m\u001b[0m\n\u001b[0m\u001b[0;32m   4189\u001b[0m             \u001b[0mresult\u001b[0m \u001b[1;33m=\u001b[0m \u001b[0mself\u001b[0m\u001b[1;33m.\u001b[0m\u001b[0mreindex\u001b[0m\u001b[1;33m(\u001b[0m\u001b[1;33m**\u001b[0m\u001b[1;33m{\u001b[0m\u001b[0maxis_name\u001b[0m\u001b[1;33m:\u001b[0m \u001b[0mnew_axis\u001b[0m\u001b[1;33m}\u001b[0m\u001b[1;33m)\u001b[0m\u001b[1;33m\u001b[0m\u001b[1;33m\u001b[0m\u001b[0m\n\u001b[0;32m   4190\u001b[0m \u001b[1;33m\u001b[0m\u001b[0m\n",
      "\u001b[1;32mc:\\users\\91981\\appdata\\local\\programs\\python\\python38\\lib\\site-packages\\pandas\\core\\indexes\\base.py\u001b[0m in \u001b[0;36mdrop\u001b[1;34m(self, labels, errors)\u001b[0m\n\u001b[0;32m   5589\u001b[0m         \u001b[1;32mif\u001b[0m \u001b[0mmask\u001b[0m\u001b[1;33m.\u001b[0m\u001b[0many\u001b[0m\u001b[1;33m(\u001b[0m\u001b[1;33m)\u001b[0m\u001b[1;33m:\u001b[0m\u001b[1;33m\u001b[0m\u001b[1;33m\u001b[0m\u001b[0m\n\u001b[0;32m   5590\u001b[0m             \u001b[1;32mif\u001b[0m \u001b[0merrors\u001b[0m \u001b[1;33m!=\u001b[0m \u001b[1;34m\"ignore\"\u001b[0m\u001b[1;33m:\u001b[0m\u001b[1;33m\u001b[0m\u001b[1;33m\u001b[0m\u001b[0m\n\u001b[1;32m-> 5591\u001b[1;33m                 \u001b[1;32mraise\u001b[0m \u001b[0mKeyError\u001b[0m\u001b[1;33m(\u001b[0m\u001b[1;34mf\"{labels[mask]} not found in axis\"\u001b[0m\u001b[1;33m)\u001b[0m\u001b[1;33m\u001b[0m\u001b[1;33m\u001b[0m\u001b[0m\n\u001b[0m\u001b[0;32m   5592\u001b[0m             \u001b[0mindexer\u001b[0m \u001b[1;33m=\u001b[0m \u001b[0mindexer\u001b[0m\u001b[1;33m[\u001b[0m\u001b[1;33m~\u001b[0m\u001b[0mmask\u001b[0m\u001b[1;33m]\u001b[0m\u001b[1;33m\u001b[0m\u001b[1;33m\u001b[0m\u001b[0m\n\u001b[0;32m   5593\u001b[0m         \u001b[1;32mreturn\u001b[0m \u001b[0mself\u001b[0m\u001b[1;33m.\u001b[0m\u001b[0mdelete\u001b[0m\u001b[1;33m(\u001b[0m\u001b[0mindexer\u001b[0m\u001b[1;33m)\u001b[0m\u001b[1;33m\u001b[0m\u001b[1;33m\u001b[0m\u001b[0m\n",
      "\u001b[1;31mKeyError\u001b[0m: \"['bundesland' 'kr_opnv_d' 'kr_opnv_b' 'kr_dist_ustrab'] not found in axis\""
     ],
     "output_type": "error"
    }
   ],
   "source": [
    "to_be_dropped = [\"bundesland\", \"kr_opnv_d\", \"kr_opnv_b\", \"kr_dist_ustrab\"]\n",
    "reachability_data.drop(to_be_dropped, axis=1, inplace=True)"
   ]
  },
  {
   "cell_type": "code",
   "execution_count": 14,
   "metadata": {},
   "outputs": [],
   "source": [
    "# Rename columns \n",
    "reachability_data.rename(columns={\n",
    "#     \"kr_opnv_d\":\"public_transport_average_distance\", \n",
    "#     \"kr_opnv_b\":\"public_transport_population\", \n",
    "    \"kr_sm_d\": \"supermarkets_average_distance\", \n",
    "    \"kr_sm_b\": \"supermarkets_population\", \n",
    "    \"kr_opnv_idx\": \"public_transport availability\",\n",
    "    \"kr_dist_bush\": \"average_distance_bus_stop\",\n",
    "    \"kr_dist_bhf\": \"average_distance_train_station\",\n",
    "    \"kr_dist_opnv\": \"average_distance_public_transport\",\n",
    "    # \"kr_dist_ustrab\": \"average_distance_subway\",\n",
    "}, inplace=True)"
   ]
  },
  {
   "cell_type": "code",
   "execution_count": 15,
   "metadata": {},
   "outputs": [],
   "source": [
    "reachability_data.to_csv('reachability_data_modified.csv', index=False, encoding='latin_1')"
   ]
  },
  {
   "cell_type": "markdown",
   "metadata": {},
   "source": [
    "## Tourism Data\n",
    "\n",
    "Weird thing is that kr_to_gue is less than kr_to_ga in every column. Guests staying overnight more than total guests staying? "
   ]
  },
  {
   "cell_type": "code",
   "execution_count": 22,
   "metadata": {},
   "outputs": [
    {
     "data": {
      "text/html": [
       "<div>\n",
       "<style scoped>\n",
       "    .dataframe tbody tr th:only-of-type {\n",
       "        vertical-align: middle;\n",
       "    }\n",
       "\n",
       "    .dataframe tbody tr th {\n",
       "        vertical-align: top;\n",
       "    }\n",
       "\n",
       "    .dataframe thead th {\n",
       "        text-align: right;\n",
       "    }\n",
       "</style>\n",
       "<table border=\"1\" class=\"dataframe\">\n",
       "  <thead>\n",
       "    <tr style=\"text-align: right;\">\n",
       "      <th></th>\n",
       "      <th>_id</th>\n",
       "      <th>ags2</th>\n",
       "      <th>bundesland</th>\n",
       "      <th>ags5</th>\n",
       "      <th>kreis</th>\n",
       "      <th>kr_to_be</th>\n",
       "      <th>kr_to_bett</th>\n",
       "      <th>kr_to_ga</th>\n",
       "      <th>kr_to_gue</th>\n",
       "    </tr>\n",
       "  </thead>\n",
       "  <tbody>\n",
       "    <tr>\n",
       "      <th>0</th>\n",
       "      <td>1</td>\n",
       "      <td>1</td>\n",
       "      <td>Schleswig-Holstein</td>\n",
       "      <td>1001</td>\n",
       "      <td>Flensburg, Stadt</td>\n",
       "      <td>21</td>\n",
       "      <td>1761</td>\n",
       "      <td>188390</td>\n",
       "      <td>322191</td>\n",
       "    </tr>\n",
       "    <tr>\n",
       "      <th>1</th>\n",
       "      <td>2</td>\n",
       "      <td>1</td>\n",
       "      <td>Schleswig-Holstein</td>\n",
       "      <td>1002</td>\n",
       "      <td>Kiel, Landeshauptstadt</td>\n",
       "      <td>47</td>\n",
       "      <td>4763</td>\n",
       "      <td>385648</td>\n",
       "      <td>805038</td>\n",
       "    </tr>\n",
       "    <tr>\n",
       "      <th>2</th>\n",
       "      <td>3</td>\n",
       "      <td>1</td>\n",
       "      <td>Schleswig-Holstein</td>\n",
       "      <td>1003</td>\n",
       "      <td>LÃ¼beck, Hansestadt</td>\n",
       "      <td>103</td>\n",
       "      <td>10626</td>\n",
       "      <td>754190</td>\n",
       "      <td>1825115</td>\n",
       "    </tr>\n",
       "    <tr>\n",
       "      <th>3</th>\n",
       "      <td>4</td>\n",
       "      <td>1</td>\n",
       "      <td>Schleswig-Holstein</td>\n",
       "      <td>1004</td>\n",
       "      <td>NeumÃ¼nster, Stadt</td>\n",
       "      <td>12</td>\n",
       "      <td>1097</td>\n",
       "      <td>93659</td>\n",
       "      <td>187823</td>\n",
       "    </tr>\n",
       "    <tr>\n",
       "      <th>4</th>\n",
       "      <td>5</td>\n",
       "      <td>1</td>\n",
       "      <td>Schleswig-Holstein</td>\n",
       "      <td>1051</td>\n",
       "      <td>Dithmarschen</td>\n",
       "      <td>326</td>\n",
       "      <td>11221</td>\n",
       "      <td>350821</td>\n",
       "      <td>1685871</td>\n",
       "    </tr>\n",
       "  </tbody>\n",
       "</table>\n",
       "</div>"
      ],
      "text/plain": [
       "   _id  ags2          bundesland  ags5                   kreis  kr_to_be  \\\n",
       "0    1     1  Schleswig-Holstein  1001        Flensburg, Stadt        21   \n",
       "1    2     1  Schleswig-Holstein  1002  Kiel, Landeshauptstadt        47   \n",
       "2    3     1  Schleswig-Holstein  1003     LÃ¼beck, Hansestadt       103   \n",
       "3    4     1  Schleswig-Holstein  1004      NeumÃ¼nster, Stadt        12   \n",
       "4    5     1  Schleswig-Holstein  1051            Dithmarschen       326   \n",
       "\n",
       "   kr_to_bett  kr_to_ga  kr_to_gue  \n",
       "0        1761    188390     322191  \n",
       "1        4763    385648     805038  \n",
       "2       10626    754190    1825115  \n",
       "3        1097     93659     187823  \n",
       "4       11221    350821    1685871  "
      ]
     },
     "execution_count": 22,
     "metadata": {},
     "output_type": "execute_result"
    }
   ],
   "source": [
    "tourism_data.head()"
   ]
  },
  {
   "cell_type": "code",
   "execution_count": 23,
   "metadata": {},
   "outputs": [
    {
     "name": "stdout",
     "output_type": "stream",
     "text": [
      "<class 'pandas.core.frame.DataFrame'>\n",
      "RangeIndex: 401 entries, 0 to 400\n",
      "Data columns (total 9 columns):\n",
      " #   Column      Non-Null Count  Dtype \n",
      "---  ------      --------------  ----- \n",
      " 0   _id         401 non-null    int64 \n",
      " 1   ags2        401 non-null    int64 \n",
      " 2   bundesland  401 non-null    object\n",
      " 3   ags5        401 non-null    int64 \n",
      " 4   kreis       401 non-null    object\n",
      " 5   kr_to_be    401 non-null    int64 \n",
      " 6   kr_to_bett  401 non-null    int64 \n",
      " 7   kr_to_ga    401 non-null    int64 \n",
      " 8   kr_to_gue   401 non-null    int64 \n",
      "dtypes: int64(7), object(2)\n",
      "memory usage: 28.3+ KB\n"
     ]
    }
   ],
   "source": [
    "tourism_data.info()"
   ]
  },
  {
   "cell_type": "code",
   "execution_count": 24,
   "metadata": {},
   "outputs": [
    {
     "data": {
      "text/plain": [
       "_id           0\n",
       "ags2          0\n",
       "bundesland    0\n",
       "ags5          0\n",
       "kreis         0\n",
       "kr_to_be      0\n",
       "kr_to_bett    0\n",
       "kr_to_ga      0\n",
       "kr_to_gue     0\n",
       "dtype: int64"
      ]
     },
     "execution_count": 24,
     "metadata": {},
     "output_type": "execute_result"
    }
   ],
   "source": [
    "tourism_data.isnull().sum()"
   ]
  },
  {
   "cell_type": "code",
   "execution_count": 25,
   "metadata": {},
   "outputs": [],
   "source": [
    "tourism_data.drop(['bundesland'], axis=1, inplace=True)"
   ]
  },
  {
   "cell_type": "code",
   "execution_count": 26,
   "metadata": {},
   "outputs": [],
   "source": [
    "# Rename the columns\n",
    "tourism_data.rename(columns={\n",
    "    \"kr_to_be\": \"number_accomodation_establishments\", \n",
    "    \"kr_to_bett\": \"number_of_beds\",\n",
    "    \"kr_to_ga\": \"number_of_guests\",\n",
    "    \"kr_to_gue\": \"guests_staying_overnight\"\n",
    "}, inplace=True)"
   ]
  },
  {
   "cell_type": "code",
   "execution_count": 27,
   "metadata": {},
   "outputs": [],
   "source": [
    "tourism_data.to_csv('tourism_data_modified.csv', encoding='latin_1', index=False)"
   ]
  },
  {
   "cell_type": "code",
   "execution_count": null,
   "metadata": {},
   "outputs": [],
   "source": []
  }
 ],
 "metadata": {
  "kernelspec": {
   "display_name": "Python 3",
   "language": "python",
   "name": "python3"
  },
  "language_info": {
   "codemirror_mode": {
    "name": "ipython",
    "version": 3
   },
   "file_extension": ".py",
   "mimetype": "text/x-python",
   "name": "python",
   "nbconvert_exporter": "python",
   "pygments_lexer": "ipython3",
   "version": "3.8.8"
  }
 },
 "nbformat": 4,
 "nbformat_minor": 5
}
