{
 "cells": [
  {
   "cell_type": "code",
   "execution_count": 6,
   "metadata": {
    "collapsed": true
   },
   "outputs": [],
   "source": [
    "import pandas as pd\n",
    "import seaborn as sns"
   ]
  },
  {
   "cell_type": "code",
   "execution_count": 10,
   "metadata": {},
   "outputs": [
    {
     "name": "stdout",
     "output_type": "stream",
     "text": [
      "             ags  infra  einwohner       flaeche  quantilklasse\n0        1001000     11   88519,00   56683283,00              3\n1        1002000     11  247943,00  118566437,00              3\n2        1003000     11  216318,00  214076891,00              2\n3        1004000     11   79335,00   71613727,00              3\n4        1051001     11    3717,00   17088501,00              2\n...          ...    ...        ...           ...            ...\n242844  13076040     32     467,00   29721365,00              1\n242845   7235207     32    1015,00   10080032,00              1\n242846  16051000     32  212988,00  269880581,00              2\n242847   9372165     32     952,00   20918502,00              1\n242848  13072011     32     395,00    9735573,00              2\n\n[242849 rows x 5 columns]\n"
     ]
    }
   ],
   "source": [
    "df11 = pd.read_csv(r\"/Users/amitsasson/Downloads/Gemeindedaten_IA_DE-1/20201113_IA_DE_auslastung.csv\", sep=\";\")\n",
    "df11.columns = ['ags','infra', 'einwohner', 'flaeche', 'quantilklasse']\n",
    "print(df11)"
   ]
  },
  {
   "cell_type": "code",
   "execution_count": 8,
   "metadata": {},
   "outputs": [
    {
     "name": "stdout",
     "output_type": "stream",
     "text": [
      "              ags  infra  m_id einwohner      flaeche  quantilklasse\n0         1060041     11     1    408,00   4942710,00              1\n1         1051069     11     1   2075,00   5362564,00              1\n2         1053035     11     1     67,00   5203633,00              1\n3         1057054     11     1    431,00   6473135,00              1\n4         1058038     11     1    632,00  10614689,00              1\n...           ...    ...   ...       ...          ...            ...\n1410296  16076067     32     7    132,00   3560292,00              3\n1410297  16076093     32     7   4847,00  50630369,00              3\n1410298  16077005     32     7    792,00   8790573,00              3\n1410299  16077015     32     7    821,00   2769332,00              3\n1410300  16077048     32     7   1201,00  10022749,00              3\n\n[1410301 rows x 6 columns]\n"
     ]
    }
   ],
   "source": [
    "df12 = pd.read_csv(r\"/Users/amitsasson/Downloads/Gemeindedaten_IA_DE-1/20201113_IA_DE_erreichbarkeit.csv\", sep=\";\")\n",
    "\n",
    "print(df12)"
   ]
  },
  {
   "cell_type": "code",
   "execution_count": null,
   "metadata": {},
   "outputs": [],
   "source": [
    "sns.set_theme()\n",
    "sns.relplot(\n",
    "    data=tips,\n",
    "    x=\"total_bill\", y=\"tip\", col=\"time\",\n",
    "    hue=\"smoker\", style=\"smoker\", size=\"size\",\n",
    ")\n"
   ]
  }
 ],
 "metadata": {
  "kernelspec": {
   "display_name": "Python 2",
   "language": "python",
   "name": "python2"
  },
  "language_info": {
   "codemirror_mode": {
    "name": "ipython",
    "version": 2
   },
   "file_extension": ".py",
   "mimetype": "text/x-python",
   "name": "python",
   "nbconvert_exporter": "python",
   "pygments_lexer": "ipython2",
   "version": "2.7.6"
  }
 },
 "nbformat": 4,
 "nbformat_minor": 0
}
