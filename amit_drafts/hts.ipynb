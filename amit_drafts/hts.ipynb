{
 "cells": [
  {
   "cell_type": "code",
   "execution_count": 86,
   "id": "f3a129a5",
   "metadata": {},
   "outputs": [],
   "source": [
    "import pandas as pd\n",
    "import numpy as np\n",
    "\n",
    "import matplotlib.pyplot as plt\n",
    "import seaborn as sns; sns.set()\n",
    "\n",
    "from pathlib import Path\n",
    "from functools import reduce\n",
    "\n",
    "from datetime import datetime\n",
    "from hts import HTSRegressor\n",
    "from hts.utilities.load_data import load_hierarchical_sine_data\n",
    "import hts.functions\n",
    "import collections\n",
    "from hts.hierarchy import HierarchyTree"
   ]
  },
  {
   "cell_type": "markdown",
   "id": "f7200b52",
   "metadata": {},
   "source": [
    "## "
   ]
  },
  {
   "cell_type": "code",
   "execution_count": 71,
   "id": "7e48087a",
   "metadata": {},
   "outputs": [],
   "source": [
    "df = pd.read_csv('./../final_dfs/for_modeling/df_final_date_wide.csv', converters={'ags2': str, 'ags5': str}) \n",
    "df = df[['ags2','ags5','unemployment_rate', 'date']]"
   ]
  },
  {
   "cell_type": "code",
   "execution_count": 72,
   "id": "14bfbc22",
   "metadata": {},
   "outputs": [],
   "source": [
    "d = df.groupby('ags2')['ags5'].apply(list).to_dict()"
   ]
  },
  {
   "cell_type": "code",
   "execution_count": 73,
   "id": "2ad5f89a",
   "metadata": {},
   "outputs": [],
   "source": [
    "level_names = ['ags2', 'ags5']\n",
    "hierarchy = [['ags2'], ['ags5']]\n",
    "df_wide, sum_mat, sum_mat_labels = hts.functions.get_hierarchichal_df(df,\n",
    "                                                                    level_names=level_names,\n",
    "                                                                    hierarchy=hierarchy,\n",
    "                                                                    date_colname='date',\n",
    "                                                                    val_colname='unemployment_rate')"
   ]
  },
  {
   "cell_type": "code",
   "execution_count": 74,
   "id": "8bcd6ee8",
   "metadata": {},
   "outputs": [],
   "source": [
    "df_wide['total'] = df_wide.sum(axis=1)\n",
    "for key in d.keys():\n",
    "    df_wide[key] = df_wide[[col for col in df_wide.columns if col.startswith(key)]].sum(axis=1)"
   ]
  },
  {
   "cell_type": "code",
   "execution_count": 94,
   "id": "17ef0eec",
   "metadata": {},
   "outputs": [],
   "source": [
    "df_wide.index = pd.to_datetime(df_wide.index)"
   ]
  },
  {
   "cell_type": "code",
   "execution_count": 95,
   "id": "e1a989e3",
   "metadata": {},
   "outputs": [],
   "source": [
    "d['total'] = list(d.keys())"
   ]
  },
  {
   "cell_type": "code",
   "execution_count": null,
   "id": "fdbcdef8",
   "metadata": {},
   "outputs": [],
   "source": [
    "ht = HierarchyTree.from_nodes(d, df_wide)\n",
    "print(ht)"
   ]
  },
  {
   "cell_type": "code",
   "execution_count": null,
   "id": "6273fb04",
   "metadata": {},
   "outputs": [],
   "source": [
    "hp = HTSRegressor(transform=None, freq='3H')\n",
    "hp.fit(df = df_wide, tree = ht)"
   ]
  },
  {
   "cell_type": "code",
   "execution_count": 79,
   "id": "87291761",
   "metadata": {},
   "outputs": [
    {
     "ename": "AttributeError",
     "evalue": "'HTSRegressor' object has no attribute 'predict_future'",
     "output_type": "error",
     "traceback": [
      "\u001b[0;31m---------------------------------------------------------------------------\u001b[0m",
      "\u001b[0;31mAttributeError\u001b[0m                            Traceback (most recent call last)",
      "\u001b[0;32m<ipython-input-79-c0506febbcf4>\u001b[0m in \u001b[0;36m<module>\u001b[0;34m\u001b[0m\n\u001b[0;32m----> 1\u001b[0;31m \u001b[0mpreds\u001b[0m \u001b[0;34m=\u001b[0m \u001b[0mhp\u001b[0m\u001b[0;34m.\u001b[0m\u001b[0mpredict_future\u001b[0m\u001b[0;34m(\u001b[0m\u001b[0;34m)\u001b[0m\u001b[0;34m\u001b[0m\u001b[0;34m\u001b[0m\u001b[0m\n\u001b[0m",
      "\u001b[0;31mAttributeError\u001b[0m: 'HTSRegressor' object has no attribute 'predict_future'"
     ]
    }
   ],
   "source": [
    "preds = hp.predict_future()"
   ]
  },
  {
   "cell_type": "code",
   "execution_count": 14,
   "id": "fcad5196",
   "metadata": {},
   "outputs": [
    {
     "data": {
      "text/html": [
       "<div>\n",
       "<style scoped>\n",
       "    .dataframe tbody tr th:only-of-type {\n",
       "        vertical-align: middle;\n",
       "    }\n",
       "\n",
       "    .dataframe tbody tr th {\n",
       "        vertical-align: top;\n",
       "    }\n",
       "\n",
       "    .dataframe thead th {\n",
       "        text-align: right;\n",
       "    }\n",
       "</style>\n",
       "<table border=\"1\" class=\"dataframe\">\n",
       "  <thead>\n",
       "    <tr style=\"text-align: right;\">\n",
       "      <th>ags2_ags5</th>\n",
       "      <th>01_01001</th>\n",
       "      <th>01_01002</th>\n",
       "      <th>01_01003</th>\n",
       "      <th>01_01004</th>\n",
       "      <th>01_01051</th>\n",
       "      <th>01_01053</th>\n",
       "      <th>01_01054</th>\n",
       "      <th>01_01055</th>\n",
       "      <th>01_01056</th>\n",
       "      <th>01_01057</th>\n",
       "      <th>...</th>\n",
       "      <th>16068</th>\n",
       "      <th>16069</th>\n",
       "      <th>16070</th>\n",
       "      <th>16071</th>\n",
       "      <th>16072</th>\n",
       "      <th>16073</th>\n",
       "      <th>16074</th>\n",
       "      <th>16075</th>\n",
       "      <th>16076</th>\n",
       "      <th>16077</th>\n",
       "    </tr>\n",
       "  </thead>\n",
       "  <tbody>\n",
       "    <tr>\n",
       "      <th>2020-03</th>\n",
       "      <td>8.614286</td>\n",
       "      <td>8.128571</td>\n",
       "      <td>7.864286</td>\n",
       "      <td>8.578571</td>\n",
       "      <td>5.925</td>\n",
       "      <td>5.171429</td>\n",
       "      <td>5.171429</td>\n",
       "      <td>5.339286</td>\n",
       "      <td>5.060714</td>\n",
       "      <td>4.439286</td>\n",
       "      <td>...</td>\n",
       "      <td>6.167857</td>\n",
       "      <td>3.864286</td>\n",
       "      <td>5.357143</td>\n",
       "      <td>4.403571</td>\n",
       "      <td>4.317857</td>\n",
       "      <td>5.678571</td>\n",
       "      <td>4.428571</td>\n",
       "      <td>4.825</td>\n",
       "      <td>5.028571</td>\n",
       "      <td>7.078571</td>\n",
       "    </tr>\n",
       "  </tbody>\n",
       "</table>\n",
       "<p>1 rows × 819 columns</p>\n",
       "</div>"
      ],
      "text/plain": [
       "ags2_ags5  01_01001  01_01002  01_01003  01_01004  01_01051  01_01053  \\\n",
       "2020-03    8.614286  8.128571  7.864286  8.578571     5.925  5.171429   \n",
       "\n",
       "ags2_ags5  01_01054  01_01055  01_01056  01_01057  ...     16068     16069  \\\n",
       "2020-03    5.171429  5.339286  5.060714  4.439286  ...  6.167857  3.864286   \n",
       "\n",
       "ags2_ags5     16070     16071     16072     16073     16074  16075     16076  \\\n",
       "2020-03    5.357143  4.403571  4.317857  5.678571  4.428571  4.825  5.028571   \n",
       "\n",
       "ags2_ags5     16077  \n",
       "2020-03    7.078571  \n",
       "\n",
       "[1 rows x 819 columns]"
      ]
     },
     "execution_count": 14,
     "metadata": {},
     "output_type": "execute_result"
    }
   ],
   "source": [
    "hp = HTSRegressor(transform=None, freq='3H')\n",
    "hp.fit(nodes=ht)"
   ]
  }
 ],
 "metadata": {
  "kernelspec": {
   "display_name": "Python 3",
   "language": "python",
   "name": "python3"
  },
  "language_info": {
   "codemirror_mode": {
    "name": "ipython",
    "version": 3
   },
   "file_extension": ".py",
   "mimetype": "text/x-python",
   "name": "python",
   "nbconvert_exporter": "python",
   "pygments_lexer": "ipython3",
   "version": "3.8.2"
  }
 },
 "nbformat": 4,
 "nbformat_minor": 5
}
