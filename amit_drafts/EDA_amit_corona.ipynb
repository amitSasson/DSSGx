{
 "cells": [
  {
   "cell_type": "code",
   "execution_count": 1,
   "metadata": {},
   "outputs": [],
   "source": [
    "import pandas as pd\n",
    "import seaborn as sns\n",
    "import matplotlib.pyplot as plt"
   ]
  },
  {
   "cell_type": "markdown",
   "metadata": {},
   "source": [
    "## Corona datasets "
   ]
  },
  {
   "cell_type": "markdown",
   "metadata": {},
   "source": [
    "### Training situation"
   ]
  },
  {
   "cell_type": "code",
   "execution_count": 81,
   "metadata": {},
   "outputs": [
    {
     "name": "stdout",
     "output_type": "stream",
     "text": [
      "     _id  ags2          bundesland   ags5                   kreis  kr_schuel  \\\n",
      "0      1     1  Schleswig-Holstein   1001        Flensburg, Stadt      11610   \n",
      "1      2     1  Schleswig-Holstein   1002  Kiel, Landeshauptstadt      23898   \n",
      "2      3     1  Schleswig-Holstein   1003      Lübeck, Hansestadt      20478   \n",
      "3      4     1  Schleswig-Holstein   1004       Neumünster, Stadt      10380   \n",
      "4      5     1  Schleswig-Holstein   1051            Dithmarschen      13158   \n",
      "..   ...   ...                 ...    ...                     ...        ...   \n",
      "396  397    16           Thüringen  16073     Saalfeld-Rudolstadt       8772   \n",
      "397  398    16           Thüringen  16074    Saale-Holzland-Kreis       7190   \n",
      "398  399    16           Thüringen  16075        Saale-Orla-Kreis       7441   \n",
      "399  400    16           Thüringen  16076                   Greiz       8403   \n",
      "400  401    16           Thüringen  16077        Altenburger Land       7676   \n",
      "\n",
      "     kr_schuel_vor  kr_schuel_grund  kr_schuel_haupt  kr_schuel_real  \\\n",
      "0              -99             3225              -99             -99   \n",
      "1              -99             7944              -99             -99   \n",
      "2              -99             7269              -99             -99   \n",
      "3              -99             2940              -99             -99   \n",
      "4              -99             4629              -99             -99   \n",
      "..             ...              ...              ...             ...   \n",
      "396            -99             3169              -99             -99   \n",
      "397            -99             2764              -99             -99   \n",
      "398            -99             2541              -99             -99   \n",
      "399            -99             2988              -99             -99   \n",
      "400            -99             2721              -99             -99   \n",
      "\n",
      "     kr_schuel_gym  kr_schuel_waldorf  kr_schuel_geschul  kr_schuel_abend  \\\n",
      "0             3492                435               4026               93   \n",
      "1             7215               1014               6951              105   \n",
      "2             5247                609               6753               87   \n",
      "3             3135                327               3804              -99   \n",
      "4             3717                132               4119              -99   \n",
      "..             ...                ...                ...              ...   \n",
      "396           2299                -99                949              -99   \n",
      "397           1749                -99                400              -99   \n",
      "398           1800                -99                948              -99   \n",
      "399           1976                -99                237              -99   \n",
      "400           2105                -99                297              -99   \n",
      "\n",
      "     kr_schuel_sonder  kr_schuel_orient  kr_schuel_mult  kr_schueler  \\\n",
      "0                 336               -99             -99         9829   \n",
      "1                 480               -99             192        22982   \n",
      "2                 510               -99             -99        20776   \n",
      "3                 174               -99             -99         9692   \n",
      "4                 375               -99             189        13000   \n",
      "..                ...               ...             ...          ...   \n",
      "396               281               -99            2074         8881   \n",
      "397               237               -99            2040         6704   \n",
      "398               226               -99            1926         7401   \n",
      "399               436               -99            2766         8224   \n",
      "400               302               -99            2251         7639   \n",
      "\n",
      "     kr_student  kr_azubi  \n",
      "0          7959      6627  \n",
      "1         30916     12096  \n",
      "2          8676     15427  \n",
      "3            98      7426  \n",
      "4          1547      3758  \n",
      "..          ...       ...  \n",
      "396          65      1430  \n",
      "397         631       776  \n",
      "398          52        16  \n",
      "399          62       359  \n",
      "400          25      1586  \n",
      "\n",
      "[401 rows x 20 columns]\n"
     ]
    }
   ],
   "source": [
    "training_situation = pd.read_csv(r\"/Users/amitsasson/Downloads/ausbildungssituation.csv\")\n",
    "print(training_situation)"
   ]
  },
  {
   "cell_type": "markdown",
   "metadata": {},
   "source": [
    "Number of students at the place of residence"
   ]
  },
  {
   "cell_type": "code",
   "execution_count": 82,
   "metadata": {
    "scrolled": true
   },
   "outputs": [
    {
     "data": {
      "text/plain": [
       "Text(0.5, 1.0, 'number of schools')"
      ]
     },
     "execution_count": 82,
     "metadata": {},
     "output_type": "execute_result"
    },
    {
     "data": {
      "image/png": "[encoded data removed]",
      "text/plain": [
       "<Figure size 432x288 with 1 Axes>"
      ]
     },
     "metadata": {
      "needs_background": "light"
     },
     "output_type": "display_data"
    }
   ],
   "source": [
    "sns.histplot(data=training_situation, x=\"kr_schuel\").set_title(\"number of schools\")"
   ]
  },
  {
   "cell_type": "markdown",
   "metadata": {},
   "source": [
    "### Company Changes"
   ]
  },
  {
   "cell_type": "code",
   "execution_count": 83,
   "metadata": {},
   "outputs": [
    {
     "name": "stdout",
     "output_type": "stream",
     "text": [
      "         _id  ags2          bundesland   ags5                       kreis  \\\n",
      "0          1     1  Schleswig-Holstein   1001            Flensburg, Stadt   \n",
      "1          2     1  Schleswig-Holstein   1002      Kiel, Landeshauptstadt   \n",
      "2          3     1  Schleswig-Holstein   1003          Lübeck, Hansestadt   \n",
      "3          4     1  Schleswig-Holstein   1004           Neumünster, Stadt   \n",
      "4          5     1  Schleswig-Holstein   1051                Dithmarschen   \n",
      "...      ...   ...                 ...    ...                         ...   \n",
      "10023  10024    16           Thüringen  16074        Saale-Holzland-Kreis   \n",
      "10024  10025    16           Thüringen  16075            Saale-Orla-Kreis   \n",
      "10025  10026    16           Thüringen  16076                       Greiz   \n",
      "10026  10027    16           Thüringen  16077            Altenburger Land   \n",
      "10027  10028     7     Rheinland-Pfalz   7000  Deutsch-Lux. Hoheitsgebiet   \n",
      "\n",
      "             variable  d201901  d201902  d201903  d201904  ...  d202007  \\\n",
      "0      kr_firm_br_a_m       14      -99       12        9  ...       15   \n",
      "1      kr_firm_br_a_m       36      -99       23       31  ...       34   \n",
      "2      kr_firm_br_a_m      100      -99       80       80  ...       74   \n",
      "3      kr_firm_br_a_m       30      -99       22       23  ...       28   \n",
      "4      kr_firm_br_a_m      410      -99      362      383  ...      385   \n",
      "...               ...      ...      ...      ...      ...  ...      ...   \n",
      "10023   kr_firm_liq_m        4        1        3        2  ...        1   \n",
      "10024   kr_firm_liq_m        4        2        0        2  ...        1   \n",
      "10025   kr_firm_liq_m        6        4        1        3  ...        2   \n",
      "10026   kr_firm_liq_m        4        1        1        0  ...        1   \n",
      "10027   kr_firm_liq_m        0        0        0        0  ...        0   \n",
      "\n",
      "       d202008  d202009  d202010  d202011  d202012  d202101  d202102  d202103  \\\n",
      "0           15       15       15       15       15       15       15       15   \n",
      "1           35       35       35       35       35       35       34       34   \n",
      "2           75       74       74       75       73       73       73       74   \n",
      "3           28       28       28       28       29       29       29       29   \n",
      "4          383      380      383      388      387      387      387      386   \n",
      "...        ...      ...      ...      ...      ...      ...      ...      ...   \n",
      "10023        0        2        2        0        0        8        0        3   \n",
      "10024        1        1        1        1        0        5        2        1   \n",
      "10025        3        4        3        0        3        2        2        3   \n",
      "10026        1        0        0        1        1        3        0        0   \n",
      "10027        0        0        0        0        0        0        0        0   \n",
      "\n",
      "       d202104  \n",
      "0           15  \n",
      "1           35  \n",
      "2           74  \n",
      "3           28  \n",
      "4          387  \n",
      "...        ...  \n",
      "10023        3  \n",
      "10024        3  \n",
      "10025        2  \n",
      "10026        1  \n",
      "10027        0  \n",
      "\n",
      "[10028 rows x 34 columns]\n"
     ]
    }
   ],
   "source": [
    "company_changes = pd.read_csv(r\"/Users/amitsasson/Downloads/firmenveraenderungen.csv\")\n",
    "print(company_changes)"
   ]
  },
  {
   "cell_type": "markdown",
   "metadata": {},
   "source": [
    "Focus on Company deletions by month\t"
   ]
  },
  {
   "cell_type": "code",
   "execution_count": 84,
   "metadata": {},
   "outputs": [
    {
     "data": {
      "text/html": [
       "<div>\n",
       "<style scoped>\n",
       "    .dataframe tbody tr th:only-of-type {\n",
       "        vertical-align: middle;\n",
       "    }\n",
       "\n",
       "    .dataframe tbody tr th {\n",
       "        vertical-align: top;\n",
       "    }\n",
       "\n",
       "    .dataframe thead th {\n",
       "        text-align: right;\n",
       "    }\n",
       "</style>\n",
       "<table border=\"1\" class=\"dataframe\">\n",
       "  <thead>\n",
       "    <tr style=\"text-align: right;\">\n",
       "      <th></th>\n",
       "      <th></th>\n",
       "      <th>bundesland</th>\n",
       "      <th>ags2</th>\n",
       "      <th>ags5</th>\n",
       "      <th>kreis</th>\n",
       "      <th>variable</th>\n",
       "      <th>d</th>\n",
       "    </tr>\n",
       "    <tr>\n",
       "      <th>_id</th>\n",
       "      <th>date</th>\n",
       "      <th></th>\n",
       "      <th></th>\n",
       "      <th></th>\n",
       "      <th></th>\n",
       "      <th></th>\n",
       "      <th></th>\n",
       "    </tr>\n",
       "  </thead>\n",
       "  <tbody>\n",
       "    <tr>\n",
       "      <th>9225</th>\n",
       "      <th>201901</th>\n",
       "      <td>Schleswig-Holstein</td>\n",
       "      <td>1</td>\n",
       "      <td>1001</td>\n",
       "      <td>Flensburg, Stadt</td>\n",
       "      <td>kr_firm_loesch_m</td>\n",
       "      <td>15</td>\n",
       "    </tr>\n",
       "    <tr>\n",
       "      <th>9226</th>\n",
       "      <th>201901</th>\n",
       "      <td>Schleswig-Holstein</td>\n",
       "      <td>1</td>\n",
       "      <td>1002</td>\n",
       "      <td>Kiel, Landeshauptstadt</td>\n",
       "      <td>kr_firm_loesch_m</td>\n",
       "      <td>12</td>\n",
       "    </tr>\n",
       "    <tr>\n",
       "      <th>9227</th>\n",
       "      <th>201901</th>\n",
       "      <td>Schleswig-Holstein</td>\n",
       "      <td>1</td>\n",
       "      <td>1003</td>\n",
       "      <td>Lübeck, Hansestadt</td>\n",
       "      <td>kr_firm_loesch_m</td>\n",
       "      <td>15</td>\n",
       "    </tr>\n",
       "    <tr>\n",
       "      <th>9228</th>\n",
       "      <th>201901</th>\n",
       "      <td>Schleswig-Holstein</td>\n",
       "      <td>1</td>\n",
       "      <td>1004</td>\n",
       "      <td>Neumünster, Stadt</td>\n",
       "      <td>kr_firm_loesch_m</td>\n",
       "      <td>6</td>\n",
       "    </tr>\n",
       "    <tr>\n",
       "      <th>9229</th>\n",
       "      <th>201901</th>\n",
       "      <td>Schleswig-Holstein</td>\n",
       "      <td>1</td>\n",
       "      <td>1051</td>\n",
       "      <td>Dithmarschen</td>\n",
       "      <td>kr_firm_loesch_m</td>\n",
       "      <td>6</td>\n",
       "    </tr>\n",
       "    <tr>\n",
       "      <th>...</th>\n",
       "      <th>...</th>\n",
       "      <td>...</td>\n",
       "      <td>...</td>\n",
       "      <td>...</td>\n",
       "      <td>...</td>\n",
       "      <td>...</td>\n",
       "      <td>...</td>\n",
       "    </tr>\n",
       "    <tr>\n",
       "      <th>9622</th>\n",
       "      <th>202104</th>\n",
       "      <td>Thüringen</td>\n",
       "      <td>16</td>\n",
       "      <td>16074</td>\n",
       "      <td>Saale-Holzland-Kreis</td>\n",
       "      <td>kr_firm_loesch_m</td>\n",
       "      <td>2</td>\n",
       "    </tr>\n",
       "    <tr>\n",
       "      <th>9623</th>\n",
       "      <th>202104</th>\n",
       "      <td>Thüringen</td>\n",
       "      <td>16</td>\n",
       "      <td>16075</td>\n",
       "      <td>Saale-Orla-Kreis</td>\n",
       "      <td>kr_firm_loesch_m</td>\n",
       "      <td>3</td>\n",
       "    </tr>\n",
       "    <tr>\n",
       "      <th>9624</th>\n",
       "      <th>202104</th>\n",
       "      <td>Thüringen</td>\n",
       "      <td>16</td>\n",
       "      <td>16076</td>\n",
       "      <td>Greiz</td>\n",
       "      <td>kr_firm_loesch_m</td>\n",
       "      <td>1</td>\n",
       "    </tr>\n",
       "    <tr>\n",
       "      <th>9625</th>\n",
       "      <th>202104</th>\n",
       "      <td>Thüringen</td>\n",
       "      <td>16</td>\n",
       "      <td>16077</td>\n",
       "      <td>Altenburger Land</td>\n",
       "      <td>kr_firm_loesch_m</td>\n",
       "      <td>1</td>\n",
       "    </tr>\n",
       "    <tr>\n",
       "      <th>9626</th>\n",
       "      <th>202104</th>\n",
       "      <td>Rheinland-Pfalz</td>\n",
       "      <td>7</td>\n",
       "      <td>7000</td>\n",
       "      <td>Deutsch-Lux. Hoheitsgebiet</td>\n",
       "      <td>kr_firm_loesch_m</td>\n",
       "      <td>0</td>\n",
       "    </tr>\n",
       "  </tbody>\n",
       "</table>\n",
       "<p>11256 rows × 6 columns</p>\n",
       "</div>"
      ],
      "text/plain": [
       "                     bundesland  ags2   ags5                       kreis  \\\n",
       "_id  date                                                                  \n",
       "9225 201901  Schleswig-Holstein     1   1001            Flensburg, Stadt   \n",
       "9226 201901  Schleswig-Holstein     1   1002      Kiel, Landeshauptstadt   \n",
       "9227 201901  Schleswig-Holstein     1   1003          Lübeck, Hansestadt   \n",
       "9228 201901  Schleswig-Holstein     1   1004           Neumünster, Stadt   \n",
       "9229 201901  Schleswig-Holstein     1   1051                Dithmarschen   \n",
       "...                         ...   ...    ...                         ...   \n",
       "9622 202104           Thüringen    16  16074        Saale-Holzland-Kreis   \n",
       "9623 202104           Thüringen    16  16075            Saale-Orla-Kreis   \n",
       "9624 202104           Thüringen    16  16076                       Greiz   \n",
       "9625 202104           Thüringen    16  16077            Altenburger Land   \n",
       "9626 202104     Rheinland-Pfalz     7   7000  Deutsch-Lux. Hoheitsgebiet   \n",
       "\n",
       "                     variable   d  \n",
       "_id  date                          \n",
       "9225 201901  kr_firm_loesch_m  15  \n",
       "9226 201901  kr_firm_loesch_m  12  \n",
       "9227 201901  kr_firm_loesch_m  15  \n",
       "9228 201901  kr_firm_loesch_m   6  \n",
       "9229 201901  kr_firm_loesch_m   6  \n",
       "...                       ...  ..  \n",
       "9622 202104  kr_firm_loesch_m   2  \n",
       "9623 202104  kr_firm_loesch_m   3  \n",
       "9624 202104  kr_firm_loesch_m   1  \n",
       "9625 202104  kr_firm_loesch_m   1  \n",
       "9626 202104  kr_firm_loesch_m   0  \n",
       "\n",
       "[11256 rows x 6 columns]"
      ]
     },
     "execution_count": 84,
     "metadata": {},
     "output_type": "execute_result"
    }
   ],
   "source": [
    "df_loesch = company_changes.loc[company_changes['variable'] == 'kr_firm_loesch_m']\n",
    "df_loesch = pd.wide_to_long(df_loesch, \"d\", i=\"_id\", j=\"date\")\n",
    "df_loesch"
   ]
  },
  {
   "cell_type": "code",
   "execution_count": 85,
   "metadata": {},
   "outputs": [
    {
     "data": {
      "text/html": [
       "<div>\n",
       "<style scoped>\n",
       "    .dataframe tbody tr th:only-of-type {\n",
       "        vertical-align: middle;\n",
       "    }\n",
       "\n",
       "    .dataframe tbody tr th {\n",
       "        vertical-align: top;\n",
       "    }\n",
       "\n",
       "    .dataframe thead th {\n",
       "        text-align: right;\n",
       "    }\n",
       "</style>\n",
       "<table border=\"1\" class=\"dataframe\">\n",
       "  <thead>\n",
       "    <tr style=\"text-align: right;\">\n",
       "      <th></th>\n",
       "      <th></th>\n",
       "      <th>bundesland</th>\n",
       "      <th>ags2</th>\n",
       "      <th>ags5</th>\n",
       "      <th>kreis</th>\n",
       "      <th>variable</th>\n",
       "      <th>d</th>\n",
       "      <th>date</th>\n",
       "    </tr>\n",
       "    <tr>\n",
       "      <th>_id</th>\n",
       "      <th>date</th>\n",
       "      <th></th>\n",
       "      <th></th>\n",
       "      <th></th>\n",
       "      <th></th>\n",
       "      <th></th>\n",
       "      <th></th>\n",
       "      <th></th>\n",
       "    </tr>\n",
       "  </thead>\n",
       "  <tbody>\n",
       "    <tr>\n",
       "      <th>9225</th>\n",
       "      <th>201901</th>\n",
       "      <td>Schleswig-Holstein</td>\n",
       "      <td>1</td>\n",
       "      <td>1001</td>\n",
       "      <td>Flensburg, Stadt</td>\n",
       "      <td>kr_firm_loesch_m</td>\n",
       "      <td>15</td>\n",
       "      <td>201901</td>\n",
       "    </tr>\n",
       "    <tr>\n",
       "      <th>9226</th>\n",
       "      <th>201901</th>\n",
       "      <td>Schleswig-Holstein</td>\n",
       "      <td>1</td>\n",
       "      <td>1002</td>\n",
       "      <td>Kiel, Landeshauptstadt</td>\n",
       "      <td>kr_firm_loesch_m</td>\n",
       "      <td>12</td>\n",
       "      <td>201901</td>\n",
       "    </tr>\n",
       "    <tr>\n",
       "      <th>9227</th>\n",
       "      <th>201901</th>\n",
       "      <td>Schleswig-Holstein</td>\n",
       "      <td>1</td>\n",
       "      <td>1003</td>\n",
       "      <td>Lübeck, Hansestadt</td>\n",
       "      <td>kr_firm_loesch_m</td>\n",
       "      <td>15</td>\n",
       "      <td>201901</td>\n",
       "    </tr>\n",
       "    <tr>\n",
       "      <th>9228</th>\n",
       "      <th>201901</th>\n",
       "      <td>Schleswig-Holstein</td>\n",
       "      <td>1</td>\n",
       "      <td>1004</td>\n",
       "      <td>Neumünster, Stadt</td>\n",
       "      <td>kr_firm_loesch_m</td>\n",
       "      <td>6</td>\n",
       "      <td>201901</td>\n",
       "    </tr>\n",
       "    <tr>\n",
       "      <th>9229</th>\n",
       "      <th>201901</th>\n",
       "      <td>Schleswig-Holstein</td>\n",
       "      <td>1</td>\n",
       "      <td>1051</td>\n",
       "      <td>Dithmarschen</td>\n",
       "      <td>kr_firm_loesch_m</td>\n",
       "      <td>6</td>\n",
       "      <td>201901</td>\n",
       "    </tr>\n",
       "    <tr>\n",
       "      <th>...</th>\n",
       "      <th>...</th>\n",
       "      <td>...</td>\n",
       "      <td>...</td>\n",
       "      <td>...</td>\n",
       "      <td>...</td>\n",
       "      <td>...</td>\n",
       "      <td>...</td>\n",
       "      <td>...</td>\n",
       "    </tr>\n",
       "    <tr>\n",
       "      <th>9622</th>\n",
       "      <th>202104</th>\n",
       "      <td>Thüringen</td>\n",
       "      <td>16</td>\n",
       "      <td>16074</td>\n",
       "      <td>Saale-Holzland-Kreis</td>\n",
       "      <td>kr_firm_loesch_m</td>\n",
       "      <td>2</td>\n",
       "      <td>202104</td>\n",
       "    </tr>\n",
       "    <tr>\n",
       "      <th>9623</th>\n",
       "      <th>202104</th>\n",
       "      <td>Thüringen</td>\n",
       "      <td>16</td>\n",
       "      <td>16075</td>\n",
       "      <td>Saale-Orla-Kreis</td>\n",
       "      <td>kr_firm_loesch_m</td>\n",
       "      <td>3</td>\n",
       "      <td>202104</td>\n",
       "    </tr>\n",
       "    <tr>\n",
       "      <th>9624</th>\n",
       "      <th>202104</th>\n",
       "      <td>Thüringen</td>\n",
       "      <td>16</td>\n",
       "      <td>16076</td>\n",
       "      <td>Greiz</td>\n",
       "      <td>kr_firm_loesch_m</td>\n",
       "      <td>1</td>\n",
       "      <td>202104</td>\n",
       "    </tr>\n",
       "    <tr>\n",
       "      <th>9625</th>\n",
       "      <th>202104</th>\n",
       "      <td>Thüringen</td>\n",
       "      <td>16</td>\n",
       "      <td>16077</td>\n",
       "      <td>Altenburger Land</td>\n",
       "      <td>kr_firm_loesch_m</td>\n",
       "      <td>1</td>\n",
       "      <td>202104</td>\n",
       "    </tr>\n",
       "    <tr>\n",
       "      <th>9626</th>\n",
       "      <th>202104</th>\n",
       "      <td>Rheinland-Pfalz</td>\n",
       "      <td>7</td>\n",
       "      <td>7000</td>\n",
       "      <td>Deutsch-Lux. Hoheitsgebiet</td>\n",
       "      <td>kr_firm_loesch_m</td>\n",
       "      <td>0</td>\n",
       "      <td>202104</td>\n",
       "    </tr>\n",
       "  </tbody>\n",
       "</table>\n",
       "<p>11256 rows × 7 columns</p>\n",
       "</div>"
      ],
      "text/plain": [
       "                     bundesland  ags2   ags5                       kreis  \\\n",
       "_id  date                                                                  \n",
       "9225 201901  Schleswig-Holstein     1   1001            Flensburg, Stadt   \n",
       "9226 201901  Schleswig-Holstein     1   1002      Kiel, Landeshauptstadt   \n",
       "9227 201901  Schleswig-Holstein     1   1003          Lübeck, Hansestadt   \n",
       "9228 201901  Schleswig-Holstein     1   1004           Neumünster, Stadt   \n",
       "9229 201901  Schleswig-Holstein     1   1051                Dithmarschen   \n",
       "...                         ...   ...    ...                         ...   \n",
       "9622 202104           Thüringen    16  16074        Saale-Holzland-Kreis   \n",
       "9623 202104           Thüringen    16  16075            Saale-Orla-Kreis   \n",
       "9624 202104           Thüringen    16  16076                       Greiz   \n",
       "9625 202104           Thüringen    16  16077            Altenburger Land   \n",
       "9626 202104     Rheinland-Pfalz     7   7000  Deutsch-Lux. Hoheitsgebiet   \n",
       "\n",
       "                     variable   d    date  \n",
       "_id  date                                  \n",
       "9225 201901  kr_firm_loesch_m  15  201901  \n",
       "9226 201901  kr_firm_loesch_m  12  201901  \n",
       "9227 201901  kr_firm_loesch_m  15  201901  \n",
       "9228 201901  kr_firm_loesch_m   6  201901  \n",
       "9229 201901  kr_firm_loesch_m   6  201901  \n",
       "...                       ...  ..     ...  \n",
       "9622 202104  kr_firm_loesch_m   2  202104  \n",
       "9623 202104  kr_firm_loesch_m   3  202104  \n",
       "9624 202104  kr_firm_loesch_m   1  202104  \n",
       "9625 202104  kr_firm_loesch_m   1  202104  \n",
       "9626 202104  kr_firm_loesch_m   0  202104  \n",
       "\n",
       "[11256 rows x 7 columns]"
      ]
     },
     "execution_count": 85,
     "metadata": {},
     "output_type": "execute_result"
    }
   ],
   "source": [
    "df_loesch['date'] = df_loesch.index.get_level_values('date')\n",
    "df_loesch"
   ]
  },
  {
   "cell_type": "code",
   "execution_count": 86,
   "metadata": {},
   "outputs": [
    {
     "data": {
      "text/html": [
       "<div>\n",
       "<style scoped>\n",
       "    .dataframe tbody tr th:only-of-type {\n",
       "        vertical-align: middle;\n",
       "    }\n",
       "\n",
       "    .dataframe tbody tr th {\n",
       "        vertical-align: top;\n",
       "    }\n",
       "\n",
       "    .dataframe thead th {\n",
       "        text-align: right;\n",
       "    }\n",
       "</style>\n",
       "<table border=\"1\" class=\"dataframe\">\n",
       "  <thead>\n",
       "    <tr style=\"text-align: right;\">\n",
       "      <th></th>\n",
       "      <th>d</th>\n",
       "    </tr>\n",
       "    <tr>\n",
       "      <th>year</th>\n",
       "      <th></th>\n",
       "    </tr>\n",
       "  </thead>\n",
       "  <tbody>\n",
       "    <tr>\n",
       "      <th>2019</th>\n",
       "      <td>65984</td>\n",
       "    </tr>\n",
       "    <tr>\n",
       "      <th>2020</th>\n",
       "      <td>63242</td>\n",
       "    </tr>\n",
       "    <tr>\n",
       "      <th>2021</th>\n",
       "      <td>21434</td>\n",
       "    </tr>\n",
       "  </tbody>\n",
       "</table>\n",
       "</div>"
      ],
      "text/plain": [
       "          d\n",
       "year       \n",
       "2019  65984\n",
       "2020  63242\n",
       "2021  21434"
      ]
     },
     "execution_count": 86,
     "metadata": {},
     "output_type": "execute_result"
    }
   ],
   "source": [
    "df_loesch['year'] = df_loesch['date'].astype(str).str[0:4]\n",
    "df_loesch.groupby('year').agg({'d': 'sum'})"
   ]
  },
  {
   "cell_type": "code",
   "execution_count": 87,
   "metadata": {},
   "outputs": [
    {
     "data": {
      "text/plain": [
       "Text(0.5, 1.0, 'companies closed')"
      ]
     },
     "execution_count": 87,
     "metadata": {},
     "output_type": "execute_result"
    },
    {
     "data": {
      "image/png": "[encoded data removed]",
      "text/plain": [
       "<Figure size 432x288 with 1 Axes>"
      ]
     },
     "metadata": {
      "needs_background": "light"
     },
     "output_type": "display_data"
    }
   ],
   "source": [
    "sns.histplot(data=df_loesch, x=\"d\", hue=\"year\").set_title(\"companies closed\")"
   ]
  },
  {
   "cell_type": "code",
   "execution_count": 88,
   "metadata": {},
   "outputs": [
    {
     "data": {
      "text/plain": [
       "{'kr_firm_br_99_m',\n",
       " 'kr_firm_br_a_m',\n",
       " 'kr_firm_br_b_m',\n",
       " 'kr_firm_br_c_m',\n",
       " 'kr_firm_br_d_m',\n",
       " 'kr_firm_br_e_m',\n",
       " 'kr_firm_br_f_m',\n",
       " 'kr_firm_br_g_m',\n",
       " 'kr_firm_br_h_m',\n",
       " 'kr_firm_br_i_m',\n",
       " 'kr_firm_br_j_m',\n",
       " 'kr_firm_br_k_m',\n",
       " 'kr_firm_br_l_m',\n",
       " 'kr_firm_br_m_m',\n",
       " 'kr_firm_br_n_m',\n",
       " 'kr_firm_br_o_m',\n",
       " 'kr_firm_br_p_m',\n",
       " 'kr_firm_br_q_m',\n",
       " 'kr_firm_br_r_m',\n",
       " 'kr_firm_br_s_m',\n",
       " 'kr_firm_br_t_m',\n",
       " 'kr_firm_br_u_m',\n",
       " 'kr_firm_liq_m',\n",
       " 'kr_firm_loesch_m',\n",
       " 'kr_firm_neug_m'}"
      ]
     },
     "execution_count": 88,
     "metadata": {},
     "output_type": "execute_result"
    }
   ],
   "source": [
    "set(company_changes['variable'])"
   ]
  },
  {
   "cell_type": "markdown",
   "metadata": {},
   "source": [
    "### Hospital data "
   ]
  },
  {
   "cell_type": "code",
   "execution_count": 89,
   "metadata": {},
   "outputs": [
    {
     "name": "stdout",
     "output_type": "stream",
     "text": [
      "     _id  ags2          bundesland   ags5                   kreis  kr_kh  \\\n",
      "0      1     1  Schleswig-Holstein   1001        Flensburg, Stadt      3   \n",
      "1      2     1  Schleswig-Holstein   1002  Kiel, Landeshauptstadt     16   \n",
      "2      3     1  Schleswig-Holstein   1003      Lübeck, Hansestadt     13   \n",
      "3      4     1  Schleswig-Holstein   1004       Neumünster, Stadt      5   \n",
      "4      5     1  Schleswig-Holstein   1051            Dithmarschen      3   \n",
      "..   ...   ...                 ...    ...                     ...    ...   \n",
      "396  397    16           Thüringen  16073     Saalfeld-Rudolstadt      3   \n",
      "397  398    16           Thüringen  16074    Saale-Holzland-Kreis      3   \n",
      "398  399    16           Thüringen  16075        Saale-Orla-Kreis      1   \n",
      "399  400    16           Thüringen  16076                   Greiz      2   \n",
      "400  401    16           Thüringen  16077        Altenburger Land      2   \n",
      "\n",
      "     kr_kh_bett  kr_kh_bett_ew  kr_kh_bett_fab1  kr_kh_bett_fab2  ...  \\\n",
      "0           860            9.6              -99              200  ...   \n",
      "1          2498           10.1               57              496  ...   \n",
      "2          1975            9.1               42              431  ...   \n",
      "3           693            8.7              -99              182  ...   \n",
      "4           656            4.9              -99              167  ...   \n",
      "..          ...            ...              ...              ...  ...   \n",
      "396         994            9.3              -99              243  ...   \n",
      "397         654            7.9              -99               20  ...   \n",
      "398         120            1.5              -99               33  ...   \n",
      "399         403            4.1              -99               40  ...   \n",
      "400         618            6.9              -99              133  ...   \n",
      "\n",
      "     kr_khp_dg10_50u55  kr_khp_dg10_55u60  kr_khp_dg10_60u65  \\\n",
      "0                   68                104                 88   \n",
      "1                  171                152                235   \n",
      "2                  132                199                243   \n",
      "3                   51                 55                 99   \n",
      "4                  100                111                121   \n",
      "..                 ...                ...                ...   \n",
      "396                 99                115                140   \n",
      "397                 43                 68                 98   \n",
      "398                 62                109                 97   \n",
      "399                 70                 79                147   \n",
      "400                 98                128                138   \n",
      "\n",
      "     kr_khp_dg10_65u70  kr_khp_dg10_70u75  kr_khp_dg10_75u80  \\\n",
      "0                  142                161                171   \n",
      "1                  237                288                296   \n",
      "2                  311                348                485   \n",
      "3                   82                161                184   \n",
      "4                  192                201                245   \n",
      "..                 ...                ...                ...   \n",
      "396                125                168                230   \n",
      "397                 89                126                164   \n",
      "398                 88                110                151   \n",
      "399                108                144                189   \n",
      "400                134                166                230   \n",
      "\n",
      "     kr_khp_dg10_80u85  kr_khp_dg10_85u90  kr_khp_dg10_90u95  kr_khp_dg10_95  \n",
      "0                  100                 51                 35               5  \n",
      "1                  274                165                 84              18  \n",
      "2                  335                275                158              41  \n",
      "3                  118                 75                 37              11  \n",
      "4                  181                120                 53              14  \n",
      "..                 ...                ...                ...             ...  \n",
      "396                214                147                 65               8  \n",
      "397                115                 86                 42              11  \n",
      "398                140                 80                 24               8  \n",
      "399                186                121                 71              12  \n",
      "400                156                126                 56               8  \n",
      "\n",
      "[401 rows x 67 columns]\n"
     ]
    }
   ],
   "source": [
    "hospital_data = pd.read_csv(r\"/Users/amitsasson/Downloads/krankenhausdaten.csv\")\n",
    "print(hospital_data) "
   ]
  },
  {
   "cell_type": "code",
   "execution_count": 90,
   "metadata": {},
   "outputs": [
    {
     "data": {
      "text/plain": [
       "Text(0.5, 1.0, 'number of hospitals')"
      ]
     },
     "execution_count": 90,
     "metadata": {},
     "output_type": "execute_result"
    },
    {
     "data": {
      "image/png": "[encoded data removed]",
      "text/plain": [
       "<Figure size 432x288 with 1 Axes>"
      ]
     },
     "metadata": {
      "needs_background": "light"
     },
     "output_type": "display_data"
    }
   ],
   "source": [
    "sns.histplot(data=hospital_data, x=\"kr_kh\").set_title(\"number of hospitals\")"
   ]
  },
  {
   "cell_type": "code",
   "execution_count": 91,
   "metadata": {
    "scrolled": true
   },
   "outputs": [
    {
     "data": {
      "text/plain": [
       "Text(0.5, 1.0, 'number of hospital beds per 1,000 inhabitants')"
      ]
     },
     "execution_count": 91,
     "metadata": {},
     "output_type": "execute_result"
    },
    {
     "data": {
      "image/png": "[encoded data removed]",
      "text/plain": [
       "<Figure size 432x288 with 1 Axes>"
      ]
     },
     "metadata": {
      "needs_background": "light"
     },
     "output_type": "display_data"
    }
   ],
   "source": [
    "sns.histplot(data=hospital_data, x=\"kr_kh_bett_ew\").set_title(\"number of hospital beds per 1,000 inhabitants\")"
   ]
  },
  {
   "cell_type": "markdown",
   "metadata": {},
   "source": [
    "### Hospital data "
   ]
  },
  {
   "cell_type": "code",
   "execution_count": 92,
   "metadata": {},
   "outputs": [
    {
     "name": "stdout",
     "output_type": "stream",
     "text": [
      "     _id  ags2          bundesland   ags5                   kreis  kr_ein_md  \\\n",
      "0      1     1  Schleswig-Holstein   1001        Flensburg, Stadt       2986   \n",
      "1      2     1  Schleswig-Holstein   1002  Kiel, Landeshauptstadt       3304   \n",
      "2      3     1  Schleswig-Holstein   1003      Lübeck, Hansestadt       3036   \n",
      "3      4     1  Schleswig-Holstein   1004       Neumünster, Stadt       2842   \n",
      "4      5     1  Schleswig-Holstein   1051            Dithmarschen       2914   \n",
      "..   ...   ...                 ...    ...                     ...        ...   \n",
      "396  397    16           Thüringen  16073     Saalfeld-Rudolstadt       2466   \n",
      "397  398    16           Thüringen  16074    Saale-Holzland-Kreis       2288   \n",
      "398  399    16           Thüringen  16075        Saale-Orla-Kreis       2253   \n",
      "399  400    16           Thüringen  16076                   Greiz       2233   \n",
      "400  401    16           Thüringen  16077        Altenburger Land       2218   \n",
      "\n",
      "     kr_schu_qu  kr_hh_eink_kl1  kr_hh_eink_kl2  kr_hh_eink_kl3  \\\n",
      "0          16.0           13209           12385           13092   \n",
      "1          12.1           22126           38523           39483   \n",
      "2          15.1           22881           30159           32571   \n",
      "3          17.9            7208           13291           10435   \n",
      "4          12.8           11806           11575           17816   \n",
      "..          ...             ...             ...             ...   \n",
      "396         8.3           12237           13267           19810   \n",
      "397         7.6            5131            9216           14445   \n",
      "398         7.6            7388            7994           17082   \n",
      "399         7.8           11098           10354           18760   \n",
      "400         9.0           10621            9561           20085   \n",
      "\n",
      "     kr_hh_eink_kl4  kr_hh_eink_kl5  kr_hh_eink_kl6  kr_kk_hh  kr_kk_ew  \n",
      "0              5441            3096            3497     34496     19556  \n",
      "1             18567           11162            7841     35246     19612  \n",
      "2             15805           10999            9039     37219     20820  \n",
      "3              3812            3201            2805     38141     19561  \n",
      "4              9873            7834            7676     46945     23486  \n",
      "..              ...             ...             ...       ...       ...  \n",
      "396            5653            3271            2547     39242     20959  \n",
      "397            5254            3446            2379     42956     20631  \n",
      "398            4532            2501            1632     40511     20610  \n",
      "399            5324            3370            2287     40784     21275  \n",
      "400            3862            2322            1607     38560     20571  \n",
      "\n",
      "[401 rows x 15 columns]\n"
     ]
    }
   ],
   "source": [
    "private_finance = pd.read_csv(r\"/Users/amitsasson/Downloads/private_finanzen.csv\")\n",
    "print(private_finance) "
   ]
  },
  {
   "cell_type": "code",
   "execution_count": 93,
   "metadata": {},
   "outputs": [
    {
     "data": {
      "text/plain": [
       "Text(0.5, 1.0, 'median income')"
      ]
     },
     "execution_count": 93,
     "metadata": {},
     "output_type": "execute_result"
    },
    {
     "data": {
      "image/png": "[encoded data removed]",
      "text/plain": [
       "<Figure size 432x288 with 1 Axes>"
      ]
     },
     "metadata": {
      "needs_background": "light"
     },
     "output_type": "display_data"
    }
   ],
   "source": [
    "sns.histplot(data=private_finance, x=\"kr_ein_md\").set_title(\"median income\")"
   ]
  },
  {
   "cell_type": "markdown",
   "metadata": {},
   "source": [
    "### National accounts "
   ]
  },
  {
   "cell_type": "code",
   "execution_count": 94,
   "metadata": {},
   "outputs": [
    {
     "name": "stdout",
     "output_type": "stream",
     "text": [
      "     _id   id  ags2          bundesland   ags5                   kreis  \\\n",
      "0      1    1     1  Schleswig-Holstein   1001        Flensburg, Stadt   \n",
      "1      2    2     1  Schleswig-Holstein   1002  Kiel, Landeshauptstadt   \n",
      "2      3    3     1  Schleswig-Holstein   1003      Lübeck, Hansestadt   \n",
      "3      4    4     1  Schleswig-Holstein   1004       Neumünster, Stadt   \n",
      "4      5    5     1  Schleswig-Holstein   1051            Dithmarschen   \n",
      "..   ...  ...   ...                 ...    ...                     ...   \n",
      "396  397  397    16           Thüringen  16073     Saalfeld-Rudolstadt   \n",
      "397  398  398    16           Thüringen  16074    Saale-Holzland-Kreis   \n",
      "398  399  399    16           Thüringen  16075        Saale-Orla-Kreis   \n",
      "399  400  400    16           Thüringen  16076                   Greiz   \n",
      "400  401  401    16           Thüringen  16077        Altenburger Land   \n",
      "\n",
      "     kr_bip_ew  kr_bip_et  kr_bws  kr_bws_bd  kr_bws_ld  kr_bws_ps_ant  \\\n",
      "0         42.5       62.7    56.5        1.1        4.0            0.0   \n",
      "1         47.0       67.1    60.5        3.6       12.5            0.0   \n",
      "2         40.6       68.4    61.6        2.7        9.4            0.1   \n",
      "3         40.6       62.2    56.1        1.0        3.4            0.5   \n",
      "4         32.9       72.3    65.1        1.3        4.7            4.3   \n",
      "..         ...        ...     ...        ...        ...            ...   \n",
      "396       26.9       60.1    54.1        0.9        4.7            1.3   \n",
      "397       23.2       55.5    50.1        0.6        3.1            2.3   \n",
      "398       28.5       59.2    53.4        0.7        3.7            3.6   \n",
      "399       23.6       58.8    53.0        0.7        3.8            2.7   \n",
      "400       22.4       56.6    51.1        0.6        3.3            1.8   \n",
      "\n",
      "     kr_bws_sk_ant  kr_bws_ts_ant  kr_bws_ps_et  kr_bws_ss_et  kr_bws_ts_et  \n",
      "0             20.6           79.4          17.5          88.0          51.7  \n",
      "1             16.9           83.1          19.6          86.3          57.1  \n",
      "2             23.8           76.1          35.8          79.0          57.8  \n",
      "3             23.4           76.1          33.7          72.5          52.7  \n",
      "4             38.5           57.2          48.7         115.9          51.3  \n",
      "..             ...            ...           ...           ...           ...  \n",
      "396           40.0           58.7          35.4          62.7          50.1  \n",
      "397           36.5           61.2          27.4          51.6          50.7  \n",
      "398           45.5           50.9          42.3          57.2          51.3  \n",
      "399           39.2           58.1          46.6          56.5          51.2  \n",
      "400           37.0           61.2          37.6          56.0          49.0  \n",
      "\n",
      "[401 rows x 17 columns]\n"
     ]
    }
   ],
   "source": [
    "national_accounts = pd.read_csv(r\"/Users/amitsasson/Downloads/volkswirtschaftliche_gesamtrechnung.csv\")\n",
    "print(national_accounts)  "
   ]
  },
  {
   "cell_type": "code",
   "execution_count": 95,
   "metadata": {},
   "outputs": [
    {
     "data": {
      "text/plain": [
       "Text(0.5, 1.0, 'Gross domestic product in € 1,000 per inhabitant')"
      ]
     },
     "execution_count": 95,
     "metadata": {},
     "output_type": "execute_result"
    },
    {
     "data": {
      "image/png": "[encoded data removed]",
      "text/plain": [
       "<Figure size 432x288 with 1 Axes>"
      ]
     },
     "metadata": {
      "needs_background": "light"
     },
     "output_type": "display_data"
    }
   ],
   "source": [
    "sns.histplot(data=national_accounts, x=\"kr_bip_ew\").set_title(\"Gross domestic product in € 1,000 per inhabitant\")"
   ]
  },
  {
   "cell_type": "code",
   "execution_count": null,
   "metadata": {},
   "outputs": [],
   "source": []
  },
  {
   "cell_type": "code",
   "execution_count": null,
   "metadata": {},
   "outputs": [],
   "source": []
  }
 ],
 "metadata": {
  "kernelspec": {
   "display_name": "Python 3",
   "language": "python",
   "name": "python3"
  },
  "language_info": {
   "codemirror_mode": {
    "name": "ipython",
    "version": 3
   },
   "file_extension": ".py",
   "mimetype": "text/x-python",
   "name": "python",
   "nbconvert_exporter": "python",
   "pygments_lexer": "ipython3",
   "version": "3.8.2"
  }
 },
 "nbformat": 4,
 "nbformat_minor": 1
}
