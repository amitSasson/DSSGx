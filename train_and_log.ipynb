{
 "cells": [
  {
   "cell_type": "markdown",
   "metadata": {},
   "source": [
    "# Installation\n",
    "Install mlflow simply by using `pip install mlflow`\n",
    "\n",
    "Try to import it by `import mlflow`\n",
    "## Potential issue:\n",
    "If you run into a ModuleNotFoundError: No module named 'google.protobuf.internal' run the following line in the terminal\n",
    "`conda install protobuf`"
   ]
  },
  {
   "cell_type": "markdown",
   "metadata": {},
   "source": [
    "### Below is a sample code to see how we can use MLflow Tracking\n",
    "\n",
    "We see that there is a function that takes in a set of parameters for a GradientBoostingRegressor and fits the regressor with the supplied parameters. \n",
    "Then it logs it to MLflow (`mlflow.log_params`) along with a couple of other intersting thins - metrics (here only the mse) and the model itself!\n",
    "\n",
    "Mlflow will create a folder in the working directory (i.e. where the code is executed from, use !pwd to see where the notebook's working directory is) called mlruns, which stores all of the tracked metadata"
   ]
  },
  {
   "cell_type": "code",
   "execution_count": 49,
   "metadata": {},
   "outputs": [],
   "source": [
    "def train(params):\n",
    "    import numpy as np\n",
    "    from sklearn import datasets, ensemble\n",
    "    from sklearn.metrics import mean_squared_error\n",
    "    from sklearn.model_selection import train_test_split\n",
    "\n",
    "    import mlflow\n",
    "    import mlflow.sklearn\n",
    "\n",
    "    diabetes = datasets.load_diabetes()\n",
    "    X, y = diabetes.data, diabetes.target\n",
    "    X_train, X_test, y_train, y_test = train_test_split(X, y, test_size=0.1, random_state=13)\n",
    "\n",
    "    with mlflow.start_run():\n",
    "\n",
    "        reg = ensemble.GradientBoostingRegressor(**params)\n",
    "        reg.fit(X_train, y_train)\n",
    "\n",
    "        mse = mean_squared_error(y_test, reg.predict(X_test))\n",
    "\n",
    "        print(f\"MSE: {mse}\")\n",
    "        \n",
    "        mlflow.log_params(params)\n",
    "        mlflow.log_metric(\"mse\", mse)\n",
    "\n",
    "        mlflow.sklearn.log_model(reg, \"model\")"
   ]
  },
  {
   "cell_type": "code",
   "execution_count": 50,
   "metadata": {},
   "outputs": [
    {
     "name": "stdout",
     "output_type": "stream",
     "text": [
      "MSE: 3034.2704768058793\n",
      "MSE: 3115.8133716365646\n",
      "MSE: 3678.989046022396\n"
     ]
    }
   ],
   "source": [
    "params_1 = {'n_estimators': 500,\n",
    "          'max_depth': 4,\n",
    "          'min_samples_split': 5,\n",
    "          'learning_rate': 0.01,\n",
    "          'loss': 'ls'}\n",
    "\n",
    "params_2 =    {'n_estimators': 100,\n",
    "          'max_depth': 2,\n",
    "          'min_samples_split': 5,\n",
    "          'learning_rate': 0.1,\n",
    "          'loss': 'ls'}       \n",
    "\n",
    "\n",
    "params_3 =    {'n_estimators': 1000,\n",
    "          'max_depth': 6,\n",
    "          'min_samples_split': 5,\n",
    "          'learning_rate': 0.05,\n",
    "          'loss': 'ls'}\n",
    "\n",
    "train(params_1)\n",
    "train(params_2)\n",
    "train(params_3)"
   ]
  },
  {
   "cell_type": "code",
   "execution_count": 43,
   "metadata": {},
   "outputs": [
    {
     "name": "stdout",
     "output_type": "stream",
     "text": [
      "0\n"
     ]
    }
   ],
   "source": [
    "! ls mlruns"
   ]
  },
  {
   "cell_type": "markdown",
   "metadata": {},
   "source": [
    "For example, here we can see the value of the max_depth parameter for one of the executed runs"
   ]
  },
  {
   "cell_type": "code",
   "execution_count": 48,
   "metadata": {},
   "outputs": [
    {
     "name": "stdout",
     "output_type": "stream",
     "text": [
      "2"
     ]
    }
   ],
   "source": [
    "cat mlruns/0/42d2f797f34f43ab8f3976ae497b5097/params/max_depth  "
   ]
  },
  {
   "cell_type": "markdown",
   "metadata": {},
   "source": [
    "# How to access the MLflow ui\n",
    "This metadata is supposed to be accessed from the mlflow ui, not directly\n",
    "Run the following command from the working directory (i.e. the directory in which mlruns folder resides): `mlflow ui`\n",
    "\n",
    "This will run a server at http://127.0.0.1:5000 . Paste the link in your webbrowser and you should see the MLflow UI."
   ]
  }
 ],
 "metadata": {
  "kernelspec": {
   "display_name": "Python 3",
   "language": "python",
   "name": "python3"
  },
  "language_info": {
   "codemirror_mode": {
    "name": "ipython",
    "version": 3
   },
   "file_extension": ".py",
   "mimetype": "text/x-python",
   "name": "python",
   "nbconvert_exporter": "python",
   "pygments_lexer": "ipython3",
   "version": "3.8.2"
  }
 },
 "nbformat": 4,
 "nbformat_minor": 2
}
