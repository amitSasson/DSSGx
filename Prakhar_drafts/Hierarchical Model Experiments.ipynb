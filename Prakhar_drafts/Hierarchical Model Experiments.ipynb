{
 "cells": [
  {
   "cell_type": "code",
   "execution_count": 110,
   "id": "8f5902d6",
   "metadata": {},
   "outputs": [],
   "source": [
    "# Import libraries \n",
    "import os\n",
    "import pandas as pd\n",
    "import numpy as np\n",
    "import json\n",
    "\n",
    "import mlflow\n",
    "\n",
    "import matplotlib.pyplot as plt\n",
    "import seaborn as sns; sns.set()\n",
    "\n",
    "from pathlib import Path\n",
    "from functools import reduce\n",
    "\n",
    "from datetime import datetime\n",
    "from hts import HTSRegressor\n",
    "import hts.functions\n",
    "import collections\n",
    "from hts.hierarchy import HierarchyTree\n",
    "from sklearn.metrics import mean_squared_error\n",
    "\n",
    "import warnings\n",
    "warnings.simplefilter(\"ignore\")\n",
    "\n",
    "# settings\n",
    "plt.style.use('seaborn')\n",
    "plt.rcParams[\"figure.figsize\"] = (20, 8)"
   ]
  },
  {
   "cell_type": "code",
   "execution_count": 123,
   "id": "7f5ea4b7",
   "metadata": {},
   "outputs": [
    {
     "data": {
      "text/plain": [
       "(48120, 3)"
      ]
     },
     "execution_count": 123,
     "metadata": {},
     "output_type": "execute_result"
    }
   ],
   "source": [
    "# Read the data\n",
    "df = pd.read_csv('data_from_2010_to_2019_unemployment_rate.csv', converters={'ags2': str, 'ags5': str})\n",
    "df.shape"
   ]
  },
  {
   "cell_type": "code",
   "execution_count": 79,
   "id": "1306da75",
   "metadata": {},
   "outputs": [
    {
     "data": {
      "text/html": [
       "<div>\n",
       "<style scoped>\n",
       "    .dataframe tbody tr th:only-of-type {\n",
       "        vertical-align: middle;\n",
       "    }\n",
       "\n",
       "    .dataframe tbody tr th {\n",
       "        vertical-align: top;\n",
       "    }\n",
       "\n",
       "    .dataframe thead th {\n",
       "        text-align: right;\n",
       "    }\n",
       "</style>\n",
       "<table border=\"1\" class=\"dataframe\">\n",
       "  <thead>\n",
       "    <tr style=\"text-align: right;\">\n",
       "      <th></th>\n",
       "      <th>ags5</th>\n",
       "      <th>date</th>\n",
       "      <th>unemployment_rate</th>\n",
       "    </tr>\n",
       "  </thead>\n",
       "  <tbody>\n",
       "    <tr>\n",
       "      <th>0</th>\n",
       "      <td>01001</td>\n",
       "      <td>2010-01-31</td>\n",
       "      <td>13.7</td>\n",
       "    </tr>\n",
       "    <tr>\n",
       "      <th>1</th>\n",
       "      <td>01001</td>\n",
       "      <td>2010-02-28</td>\n",
       "      <td>14.1</td>\n",
       "    </tr>\n",
       "    <tr>\n",
       "      <th>2</th>\n",
       "      <td>01001</td>\n",
       "      <td>2010-03-31</td>\n",
       "      <td>13.6</td>\n",
       "    </tr>\n",
       "    <tr>\n",
       "      <th>3</th>\n",
       "      <td>01001</td>\n",
       "      <td>2010-04-30</td>\n",
       "      <td>13.1</td>\n",
       "    </tr>\n",
       "    <tr>\n",
       "      <th>4</th>\n",
       "      <td>01001</td>\n",
       "      <td>2010-05-31</td>\n",
       "      <td>12.5</td>\n",
       "    </tr>\n",
       "  </tbody>\n",
       "</table>\n",
       "</div>"
      ],
      "text/plain": [
       "    ags5        date  unemployment_rate\n",
       "0  01001  2010-01-31               13.7\n",
       "1  01001  2010-02-28               14.1\n",
       "2  01001  2010-03-31               13.6\n",
       "3  01001  2010-04-30               13.1\n",
       "4  01001  2010-05-31               12.5"
      ]
     },
     "execution_count": 79,
     "metadata": {},
     "output_type": "execute_result"
    }
   ],
   "source": [
    "df.head()"
   ]
  },
  {
   "cell_type": "code",
   "execution_count": 133,
   "id": "43f15c1e",
   "metadata": {},
   "outputs": [
    {
     "data": {
      "text/html": [
       "<div>\n",
       "<style scoped>\n",
       "    .dataframe tbody tr th:only-of-type {\n",
       "        vertical-align: middle;\n",
       "    }\n",
       "\n",
       "    .dataframe tbody tr th {\n",
       "        vertical-align: top;\n",
       "    }\n",
       "\n",
       "    .dataframe thead th {\n",
       "        text-align: right;\n",
       "    }\n",
       "</style>\n",
       "<table border=\"1\" class=\"dataframe\">\n",
       "  <thead>\n",
       "    <tr style=\"text-align: right;\">\n",
       "      <th></th>\n",
       "      <th>ags5</th>\n",
       "      <th>date</th>\n",
       "      <th>unemployment_rate</th>\n",
       "      <th>ags2</th>\n",
       "    </tr>\n",
       "  </thead>\n",
       "  <tbody>\n",
       "    <tr>\n",
       "      <th>48115</th>\n",
       "      <td>16077</td>\n",
       "      <td>2019-08-31</td>\n",
       "      <td>7.0</td>\n",
       "      <td>16</td>\n",
       "    </tr>\n",
       "    <tr>\n",
       "      <th>48116</th>\n",
       "      <td>16077</td>\n",
       "      <td>2019-09-30</td>\n",
       "      <td>6.5</td>\n",
       "      <td>16</td>\n",
       "    </tr>\n",
       "    <tr>\n",
       "      <th>48117</th>\n",
       "      <td>16077</td>\n",
       "      <td>2019-10-31</td>\n",
       "      <td>6.5</td>\n",
       "      <td>16</td>\n",
       "    </tr>\n",
       "    <tr>\n",
       "      <th>48118</th>\n",
       "      <td>16077</td>\n",
       "      <td>2019-11-30</td>\n",
       "      <td>6.3</td>\n",
       "      <td>16</td>\n",
       "    </tr>\n",
       "    <tr>\n",
       "      <th>48119</th>\n",
       "      <td>16077</td>\n",
       "      <td>2019-12-31</td>\n",
       "      <td>6.5</td>\n",
       "      <td>16</td>\n",
       "    </tr>\n",
       "  </tbody>\n",
       "</table>\n",
       "</div>"
      ],
      "text/plain": [
       "        ags5        date  unemployment_rate ags2\n",
       "48115  16077  2019-08-31                7.0   16\n",
       "48116  16077  2019-09-30                6.5   16\n",
       "48117  16077  2019-10-31                6.5   16\n",
       "48118  16077  2019-11-30                6.3   16\n",
       "48119  16077  2019-12-31                6.5   16"
      ]
     },
     "execution_count": 133,
     "metadata": {},
     "output_type": "execute_result"
    }
   ],
   "source": [
    "df.tail()"
   ]
  },
  {
   "cell_type": "markdown",
   "id": "9167cc97",
   "metadata": {},
   "source": [
    "## Data Preparation"
   ]
  },
  {
   "cell_type": "code",
   "execution_count": 124,
   "id": "6f7836a1",
   "metadata": {},
   "outputs": [
    {
     "data": {
      "text/html": [
       "<div>\n",
       "<style scoped>\n",
       "    .dataframe tbody tr th:only-of-type {\n",
       "        vertical-align: middle;\n",
       "    }\n",
       "\n",
       "    .dataframe tbody tr th {\n",
       "        vertical-align: top;\n",
       "    }\n",
       "\n",
       "    .dataframe thead th {\n",
       "        text-align: right;\n",
       "    }\n",
       "</style>\n",
       "<table border=\"1\" class=\"dataframe\">\n",
       "  <thead>\n",
       "    <tr style=\"text-align: right;\">\n",
       "      <th></th>\n",
       "      <th>ags5</th>\n",
       "      <th>date</th>\n",
       "      <th>unemployment_rate</th>\n",
       "      <th>ags2</th>\n",
       "    </tr>\n",
       "  </thead>\n",
       "  <tbody>\n",
       "    <tr>\n",
       "      <th>0</th>\n",
       "      <td>01001</td>\n",
       "      <td>2010-01-31</td>\n",
       "      <td>13.7</td>\n",
       "      <td>01</td>\n",
       "    </tr>\n",
       "    <tr>\n",
       "      <th>1</th>\n",
       "      <td>01001</td>\n",
       "      <td>2010-02-28</td>\n",
       "      <td>14.1</td>\n",
       "      <td>01</td>\n",
       "    </tr>\n",
       "    <tr>\n",
       "      <th>2</th>\n",
       "      <td>01001</td>\n",
       "      <td>2010-03-31</td>\n",
       "      <td>13.6</td>\n",
       "      <td>01</td>\n",
       "    </tr>\n",
       "    <tr>\n",
       "      <th>3</th>\n",
       "      <td>01001</td>\n",
       "      <td>2010-04-30</td>\n",
       "      <td>13.1</td>\n",
       "      <td>01</td>\n",
       "    </tr>\n",
       "    <tr>\n",
       "      <th>4</th>\n",
       "      <td>01001</td>\n",
       "      <td>2010-05-31</td>\n",
       "      <td>12.5</td>\n",
       "      <td>01</td>\n",
       "    </tr>\n",
       "  </tbody>\n",
       "</table>\n",
       "</div>"
      ],
      "text/plain": [
       "    ags5        date  unemployment_rate ags2\n",
       "0  01001  2010-01-31               13.7   01\n",
       "1  01001  2010-02-28               14.1   01\n",
       "2  01001  2010-03-31               13.6   01\n",
       "3  01001  2010-04-30               13.1   01\n",
       "4  01001  2010-05-31               12.5   01"
      ]
     },
     "execution_count": 124,
     "metadata": {},
     "output_type": "execute_result"
    }
   ],
   "source": [
    "# Add AGS 2\n",
    "def get_ags2(x):\n",
    "    return x[0:2]\n",
    "\n",
    "df['ags2'] = data['ags5'].apply(get_ags2)\n",
    "df.head()"
   ]
  },
  {
   "cell_type": "markdown",
   "id": "4e72b195",
   "metadata": {},
   "source": [
    "## ML Flow Experiment Setup "
   ]
  },
  {
   "cell_type": "code",
   "execution_count": 201,
   "id": "2ead061a",
   "metadata": {},
   "outputs": [],
   "source": [
    "def train_heirarchical_cluster_model(data, agregate_col, params, cluster_type=\"ags2\"):\n",
    "    \n",
    "    ''' Generate a run name '''\n",
    "    run_name = 'hierarchical_' + '_'.join(list(params.values())[0:2])\n",
    "    \n",
    "    with mlflow.start_run(run_name=run_name):\n",
    "        \n",
    "        # Create a list of kreis\n",
    "        kreis_list = list(data['ags5'].unique())\n",
    "        \n",
    "        ''' Generate the dataset from the cluster with the ags and total summation '''\n",
    "        print(\"Generating the hierarchical dataset...\")\n",
    "    \n",
    "        # Filter Data by relevant columns \n",
    "        relevant_cols = ['ags5', 'unemployment_rate', 'date']\n",
    "        relevant_cols.append(agregate_col)\n",
    "        df = data[relevant_cols]\n",
    "    \n",
    "        # Get bottom level data - ags5\n",
    "        df_ags5 = df.pivot(index=\"date\", columns=\"ags5\", values=\"unemployment_rate\")\n",
    "        \n",
    "        # Get middle level data - aggregate_col\n",
    "        df_middle = df.groupby([\"date\", agregate_col]).sum().reset_index(drop=False).pivot(index=\"date\", \n",
    "                                                                           columns=agregate_col, \n",
    "                                                                           values=\"unemployment_rate\")\n",
    "        \n",
    "        # Get the top level data\n",
    "        df_total = df.groupby(\"date\")[\"unemployment_rate\"].sum().to_frame().rename(columns={\"unemployment_rate\": \"total\"})\n",
    "        \n",
    "        # Join the data frames\n",
    "        hdf = df_ags5.join(df_ags2).join(df_total)\n",
    "\n",
    "        # Set the index in datetime format\n",
    "        hdf.index = pd.to_datetime(hdf.index)\n",
    "        \n",
    "        print(\"The dataset size is\", hdf.shape)\n",
    "        \n",
    "        # Create the hierarchical cluster set \n",
    "        cluster_set = df.groupby(agregate_col)['ags5'].apply(lambda x: list(set(x))).to_dict()\n",
    "        \n",
    "        # Add total to the dictionary\n",
    "        cluster_set['total'] = list(cluster_set.keys())\n",
    "    \n",
    "        ''' Model Fitting '''\n",
    "        \n",
    "        # Get the params\n",
    "        model_type = params['model']\n",
    "        rev_type = params['revision_method']\n",
    "        time_steps = params['time_steps']\n",
    "        \n",
    "        # Divide the data into train and test sets\n",
    "        train_hdf = hdf.head(len(hdf) - time_steps)\n",
    "        test_hdf = hdf.tail(time_steps)\n",
    "        \n",
    "        print(f\"Fitting the model {model_type} with revision method {rev_type}.\")\n",
    "        \n",
    "        # Fit the model \n",
    "        hts_model = HTSRegressor(model=model_type, revision_method=rev_type, n_jobs=0)\n",
    "        hts_model.fit(train_hdf, cluster_set)\n",
    "        \n",
    "        print(f\"Predicting for the next {time_steps} time steps.\")\n",
    "        \n",
    "        # Get the predictions \n",
    "        preds = hts_model.predict(steps_ahead=time_steps)\n",
    "        \n",
    "        ''' Model Evaluation '''\n",
    "        \n",
    "        # Get the predicted vales \n",
    "        actual_preds = preds.tail(time_steps)\n",
    "        \n",
    "        # Check if there are negative values in the predictions \n",
    "        negative_pred = (actual_preds < 0).values.any()\n",
    "        if negative_pred:\n",
    "            print(\"There are negative values in the predictions.\")\n",
    "        else: \n",
    "            print(\"No negative values found in the predictions\")\n",
    "            \n",
    "        # Check if the prediction and test have the same size\n",
    "        assert actual_preds.shape[0] == test_hdf.shape[0]\n",
    "        \n",
    "        # Calculate the mse for each kreis\n",
    "        total_mse = 0\n",
    "        total_rmse = 0\n",
    "        for kreis in kreis_list: \n",
    "            total_mse  += mean_squared_error(y_pred=actual_preds[kreis].values, y_true=test_hdf[kreis].values, squared=True)\n",
    "            total_rmse += mean_squared_error(y_pred=actual_preds[kreis].values, y_true=test_hdf[kreis].values, squared=False)\n",
    "#             print(total_mse, total_rmse)\n",
    "        \n",
    "        # Calculate average mse \n",
    "        average_mse = total_mse/len(kreis_list)\n",
    "        average_rmse = total_rmse/len(kreis_list)\n",
    "        print(\"The average error is:\", average_mse)\n",
    "        \n",
    "        \n",
    "        ''' Log experiment details in ML Flow '''\n",
    "        # Log params\n",
    "        mlflow.log_params(params)\n",
    "        mlflow.log_param(\"Cluster Type\", cluster_type)\n",
    "        mlflow.log_param(\"Cluster Set\", cluster_set)\n",
    "        \n",
    "        # Log metrics\n",
    "        mlflow.log_metric(\"mse\", average_mse)\n",
    "        mlflow.log_metric(\"rmse\", average_rmse)\n",
    "        \n",
    "        negative_pred = 1 if negative_pred else 0 \n",
    "        mlflow.log_metric(\"negative_preds\", negative_pred)        \n",
    "        \n",
    "        return preds\n",
    "        \n",
    "        \n",
    "        "
   ]
  },
  {
   "cell_type": "markdown",
   "id": "1778f395",
   "metadata": {},
   "source": [
    "## Model Testing and Parameter tuning"
   ]
  },
  {
   "cell_type": "code",
   "execution_count": 202,
   "id": "bb576cef",
   "metadata": {
    "scrolled": true
   },
   "outputs": [
    {
     "name": "stdout",
     "output_type": "stream",
     "text": [
      "Generating the hierarchical dataset...\n",
      "The dataset size is (120, 418)\n",
      "Fitting the model sarimax with revision method BU.\n"
     ]
    },
    {
     "name": "stderr",
     "output_type": "stream",
     "text": [
      "Fitting models: 100%|████████████████████████████████████████████████████████████████| 418/418 [00:14<00:00, 28.39it/s]\n",
      "Fitting models:  17%|███████████                                                     | 72/418 [00:00<00:00, 356.27it/s]"
     ]
    },
    {
     "name": "stdout",
     "output_type": "stream",
     "text": [
      "Predicting for the next 12 time steps.\n"
     ]
    },
    {
     "name": "stderr",
     "output_type": "stream",
     "text": [
      "Fitting models: 100%|███████████████████████████████████████████████████████████████| 418/418 [00:01<00:00, 351.04it/s]\n"
     ]
    },
    {
     "name": "stdout",
     "output_type": "stream",
     "text": [
      "No negative values found in the predictions\n",
      "The average error is: 0.16016703958156228\n"
     ]
    }
   ],
   "source": [
    "# Set the params \n",
    "params = {\n",
    "    'model':'sarimax',\n",
    "    'revision_method':'BU',\n",
    "    'time_steps': 12\n",
    "}\n",
    "\n",
    "# Run the function \n",
    "predictions = train_heirarchical_cluster_model(data=df,\n",
    "                                 agregate_col='ags2', \n",
    "                                 params=params,\n",
    "                                 cluster_type=\"ags2\")"
   ]
  },
  {
   "cell_type": "markdown",
   "id": "5202ecbe",
   "metadata": {},
   "source": [
    "Revision types to the model.\n",
    "\n",
    "* **AHP** — average historical proportions (top-down approach),\n",
    "* **PHA** — proportions of historical averages (top-down approach),\n",
    "* **FP** — the forecasted proportions (top-down approach),\n",
    "* **OLS** — the optimal combination using OLS,\n",
    "* **WLSS** - optimal combination using structurally weighted OLS,\n",
    "* **WLSV** - optimal combination using variance-weighted OLS."
   ]
  },
  {
   "cell_type": "code",
   "execution_count": 196,
   "id": "1659e519",
   "metadata": {},
   "outputs": [],
   "source": [
    "# Run all combinations for models \n",
    "model_types = ['auto_arima', 'sarimax']\n",
    "revisions = ['BU', 'AHP', 'PHA', 'FP', 'OLS', 'WLSS', 'WLSV']"
   ]
  },
  {
   "cell_type": "code",
   "execution_count": 197,
   "id": "6c62b270",
   "metadata": {},
   "outputs": [
    {
     "name": "stdout",
     "output_type": "stream",
     "text": [
      "Model: auto_arima and Revision: BU\n",
      "Generating the hierarchical dataset...\n",
      "The dataset size is (120, 418)\n",
      "Fitting the model auto_arima with revision method BU.\n"
     ]
    },
    {
     "name": "stderr",
     "output_type": "stream",
     "text": [
      "Fitting models: 100%|████████████████████████████████████████████████████████████████| 418/418 [19:29<00:00,  2.80s/it]\n",
      "Fitting models:   3%|█▉                                                              | 13/418 [00:00<00:03, 124.47it/s]"
     ]
    },
    {
     "name": "stdout",
     "output_type": "stream",
     "text": [
      "Predicting for the next 12 time steps.\n"
     ]
    },
    {
     "name": "stderr",
     "output_type": "stream",
     "text": [
      "Fitting models: 100%|███████████████████████████████████████████████████████████████| 418/418 [00:02<00:00, 206.02it/s]\n"
     ]
    },
    {
     "name": "stdout",
     "output_type": "stream",
     "text": [
      "No negative values found in the predictions\n",
      "The average error is: 0.1707600377188778\n",
      "Model: auto_arima and Revision: AHP\n",
      "Generating the hierarchical dataset...\n",
      "The dataset size is (120, 418)\n",
      "Fitting the model auto_arima with revision method AHP.\n"
     ]
    },
    {
     "name": "stderr",
     "output_type": "stream",
     "text": [
      "Fitting models: 100%|████████████████████████████████████████████████████████████████| 418/418 [19:34<00:00,  2.81s/it]\n",
      "Fitting models:  11%|███████▏                                                        | 47/418 [00:00<00:01, 227.70it/s]"
     ]
    },
    {
     "name": "stdout",
     "output_type": "stream",
     "text": [
      "Predicting for the next 12 time steps.\n"
     ]
    },
    {
     "name": "stderr",
     "output_type": "stream",
     "text": [
      "Fitting models: 100%|███████████████████████████████████████████████████████████████| 418/418 [00:01<00:00, 245.72it/s]\n"
     ]
    },
    {
     "name": "stdout",
     "output_type": "stream",
     "text": [
      "No negative values found in the predictions\n",
      "The average error is: 0.41566813827985644\n",
      "Model: auto_arima and Revision: PHA\n",
      "Generating the hierarchical dataset...\n",
      "The dataset size is (120, 418)\n",
      "Fitting the model auto_arima with revision method PHA.\n"
     ]
    },
    {
     "name": "stderr",
     "output_type": "stream",
     "text": [
      "Fitting models: 100%|████████████████████████████████████████████████████████████████| 418/418 [19:16<00:00,  2.77s/it]\n",
      "Fitting models:   6%|███▉                                                            | 26/418 [00:00<00:01, 244.67it/s]"
     ]
    },
    {
     "name": "stdout",
     "output_type": "stream",
     "text": [
      "Predicting for the next 12 time steps.\n"
     ]
    },
    {
     "name": "stderr",
     "output_type": "stream",
     "text": [
      "Fitting models: 100%|███████████████████████████████████████████████████████████████| 418/418 [00:01<00:00, 245.27it/s]\n"
     ]
    },
    {
     "name": "stdout",
     "output_type": "stream",
     "text": [
      "No negative values found in the predictions\n",
      "The average error is: 0.45455251183218054\n",
      "Model: auto_arima and Revision: FP\n",
      "Generating the hierarchical dataset...\n",
      "The dataset size is (120, 418)\n",
      "Fitting the model auto_arima with revision method FP.\n"
     ]
    },
    {
     "name": "stderr",
     "output_type": "stream",
     "text": [
      "Fitting models: 100%|████████████████████████████████████████████████████████████████| 418/418 [23:20<00:00,  3.35s/it]\n",
      "Fitting models:   6%|███▊                                                            | 25/418 [00:00<00:01, 235.66it/s]"
     ]
    },
    {
     "name": "stdout",
     "output_type": "stream",
     "text": [
      "Predicting for the next 12 time steps.\n"
     ]
    },
    {
     "name": "stderr",
     "output_type": "stream",
     "text": [
      "Fitting models: 100%|███████████████████████████████████████████████████████████████| 418/418 [00:01<00:00, 228.76it/s]\n"
     ]
    },
    {
     "name": "stdout",
     "output_type": "stream",
     "text": [
      "(16, 120)\n",
      "There are negative values in the predictions.\n",
      "The average error is: 25.978983421447687\n",
      "Model: auto_arima and Revision: OLS\n",
      "Generating the hierarchical dataset...\n",
      "The dataset size is (120, 418)\n",
      "Fitting the model auto_arima with revision method OLS.\n"
     ]
    },
    {
     "name": "stderr",
     "output_type": "stream",
     "text": [
      "Fitting models: 100%|████████████████████████████████████████████████████████████████| 418/418 [21:34<00:00,  3.10s/it]\n",
      "Fitting models:   6%|███▉                                                            | 26/418 [00:00<00:01, 257.44it/s]"
     ]
    },
    {
     "name": "stdout",
     "output_type": "stream",
     "text": [
      "Predicting for the next 12 time steps.\n"
     ]
    },
    {
     "name": "stderr",
     "output_type": "stream",
     "text": [
      "Fitting models: 100%|███████████████████████████████████████████████████████████████| 418/418 [00:01<00:00, 281.09it/s]\n"
     ]
    },
    {
     "name": "stdout",
     "output_type": "stream",
     "text": [
      "There are negative values in the predictions.\n",
      "The average error is: 84.86883952201418\n",
      "Model: auto_arima and Revision: WLSS\n",
      "Generating the hierarchical dataset...\n",
      "The dataset size is (120, 418)\n",
      "Fitting the model auto_arima with revision method WLSS.\n"
     ]
    },
    {
     "name": "stderr",
     "output_type": "stream",
     "text": [
      "Fitting models: 100%|████████████████████████████████████████████████████████████████| 418/418 [23:42<00:00,  3.40s/it]\n",
      "Fitting models:   6%|███▋                                                            | 24/418 [00:00<00:01, 230.77it/s]"
     ]
    },
    {
     "name": "stdout",
     "output_type": "stream",
     "text": [
      "Predicting for the next 12 time steps.\n"
     ]
    },
    {
     "name": "stderr",
     "output_type": "stream",
     "text": [
      "Fitting models: 100%|███████████████████████████████████████████████████████████████| 418/418 [00:01<00:00, 234.43it/s]\n"
     ]
    },
    {
     "name": "stdout",
     "output_type": "stream",
     "text": [
      "There are negative values in the predictions.\n",
      "The average error is: 4.7193515930921786\n",
      "Model: auto_arima and Revision: WLSV\n",
      "Generating the hierarchical dataset...\n",
      "The dataset size is (120, 418)\n",
      "Fitting the model auto_arima with revision method WLSV.\n"
     ]
    },
    {
     "name": "stderr",
     "output_type": "stream",
     "text": [
      "Fitting models: 100%|████████████████████████████████████████████████████████████████| 418/418 [20:44<00:00,  2.98s/it]\n",
      "Fitting models:   7%|████▍                                                           | 29/418 [00:00<00:01, 267.31it/s]"
     ]
    },
    {
     "name": "stdout",
     "output_type": "stream",
     "text": [
      "Predicting for the next 12 time steps.\n"
     ]
    },
    {
     "name": "stderr",
     "output_type": "stream",
     "text": [
      "Fitting models: 100%|███████████████████████████████████████████████████████████████| 418/418 [00:01<00:00, 234.19it/s]\n"
     ]
    },
    {
     "name": "stdout",
     "output_type": "stream",
     "text": [
      "There are negative values in the predictions.\n",
      "The average error is: 100.80797780902124\n",
      "Model: sarimax and Revision: BU\n",
      "Generating the hierarchical dataset...\n",
      "The dataset size is (120, 418)\n",
      "Fitting the model sarimax with revision method BU.\n"
     ]
    },
    {
     "name": "stderr",
     "output_type": "stream",
     "text": [
      "Fitting models: 100%|████████████████████████████████████████████████████████████████| 418/418 [00:13<00:00, 31.23it/s]\n",
      "Fitting models:  21%|█████████████▏                                                  | 86/418 [00:00<00:00, 418.41it/s]"
     ]
    },
    {
     "name": "stdout",
     "output_type": "stream",
     "text": [
      "Predicting for the next 12 time steps.\n"
     ]
    },
    {
     "name": "stderr",
     "output_type": "stream",
     "text": [
      "Fitting models: 100%|███████████████████████████████████████████████████████████████| 418/418 [00:00<00:00, 434.47it/s]\n"
     ]
    },
    {
     "name": "stdout",
     "output_type": "stream",
     "text": [
      "No negative values found in the predictions\n",
      "The average error is: 0.16016703958156228\n",
      "Model: sarimax and Revision: AHP\n",
      "Generating the hierarchical dataset...\n",
      "The dataset size is (120, 418)\n"
     ]
    },
    {
     "name": "stderr",
     "output_type": "stream",
     "text": [
      "\r",
      "Fitting models:   0%|                                                                          | 0/418 [00:00<?, ?it/s]"
     ]
    },
    {
     "name": "stdout",
     "output_type": "stream",
     "text": [
      "Fitting the model sarimax with revision method AHP.\n"
     ]
    },
    {
     "name": "stderr",
     "output_type": "stream",
     "text": [
      "Fitting models: 100%|████████████████████████████████████████████████████████████████| 418/418 [00:16<00:00, 25.50it/s]\n",
      "Fitting models:  10%|██████                                                          | 40/418 [00:00<00:00, 390.43it/s]"
     ]
    },
    {
     "name": "stdout",
     "output_type": "stream",
     "text": [
      "Predicting for the next 12 time steps.\n"
     ]
    },
    {
     "name": "stderr",
     "output_type": "stream",
     "text": [
      "Fitting models: 100%|███████████████████████████████████████████████████████████████| 418/418 [00:01<00:00, 389.45it/s]\n"
     ]
    },
    {
     "name": "stdout",
     "output_type": "stream",
     "text": [
      "No negative values found in the predictions\n",
      "The average error is: 0.43353423050913853\n",
      "Model: sarimax and Revision: PHA\n",
      "Generating the hierarchical dataset...\n",
      "The dataset size is (120, 418)\n",
      "Fitting the model sarimax with revision method PHA.\n"
     ]
    },
    {
     "name": "stderr",
     "output_type": "stream",
     "text": [
      "Fitting models: 100%|████████████████████████████████████████████████████████████████| 418/418 [00:13<00:00, 30.80it/s]\n",
      "Fitting models:  10%|██████▍                                                         | 42/418 [00:00<00:00, 408.74it/s]"
     ]
    },
    {
     "name": "stdout",
     "output_type": "stream",
     "text": [
      "Predicting for the next 12 time steps.\n"
     ]
    },
    {
     "name": "stderr",
     "output_type": "stream",
     "text": [
      "Fitting models: 100%|███████████████████████████████████████████████████████████████| 418/418 [00:01<00:00, 401.55it/s]\n"
     ]
    },
    {
     "name": "stdout",
     "output_type": "stream",
     "text": [
      "No negative values found in the predictions\n",
      "The average error is: 0.47289509863730717\n",
      "Model: sarimax and Revision: FP\n",
      "Generating the hierarchical dataset...\n",
      "The dataset size is (120, 418)\n",
      "Fitting the model sarimax with revision method FP.\n"
     ]
    },
    {
     "name": "stderr",
     "output_type": "stream",
     "text": [
      "Fitting models: 100%|████████████████████████████████████████████████████████████████| 418/418 [00:13<00:00, 31.03it/s]\n",
      "Fitting models:  10%|██████                                                          | 40/418 [00:00<00:01, 372.36it/s]"
     ]
    },
    {
     "name": "stdout",
     "output_type": "stream",
     "text": [
      "Predicting for the next 12 time steps.\n"
     ]
    },
    {
     "name": "stderr",
     "output_type": "stream",
     "text": [
      "Fitting models: 100%|███████████████████████████████████████████████████████████████| 418/418 [00:01<00:00, 401.33it/s]\n"
     ]
    },
    {
     "name": "stdout",
     "output_type": "stream",
     "text": [
      "(16, 120)\n",
      "No negative values found in the predictions\n",
      "The average error is: 26.527558187863697\n",
      "Model: sarimax and Revision: OLS\n",
      "Generating the hierarchical dataset...\n",
      "The dataset size is (120, 418)\n",
      "Fitting the model sarimax with revision method OLS.\n"
     ]
    },
    {
     "name": "stderr",
     "output_type": "stream",
     "text": [
      "Fitting models: 100%|████████████████████████████████████████████████████████████████| 418/418 [00:13<00:00, 30.58it/s]\n",
      "Fitting models:  10%|██████▍                                                         | 42/418 [00:00<00:00, 390.16it/s]"
     ]
    },
    {
     "name": "stdout",
     "output_type": "stream",
     "text": [
      "Predicting for the next 12 time steps.\n"
     ]
    },
    {
     "name": "stderr",
     "output_type": "stream",
     "text": [
      "Fitting models: 100%|███████████████████████████████████████████████████████████████| 418/418 [00:01<00:00, 390.35it/s]\n"
     ]
    },
    {
     "name": "stdout",
     "output_type": "stream",
     "text": [
      "There are negative values in the predictions.\n",
      "The average error is: 86.52685123570778\n",
      "Model: sarimax and Revision: WLSS\n",
      "Generating the hierarchical dataset...\n",
      "The dataset size is (120, 418)\n",
      "Fitting the model sarimax with revision method WLSS.\n"
     ]
    },
    {
     "name": "stderr",
     "output_type": "stream",
     "text": [
      "Fitting models: 100%|████████████████████████████████████████████████████████████████| 418/418 [00:14<00:00, 29.33it/s]\n",
      "Fitting models:   7%|████▎                                                           | 28/418 [00:00<00:01, 279.01it/s]"
     ]
    },
    {
     "name": "stdout",
     "output_type": "stream",
     "text": [
      "Predicting for the next 12 time steps.\n"
     ]
    },
    {
     "name": "stderr",
     "output_type": "stream",
     "text": [
      "Fitting models: 100%|███████████████████████████████████████████████████████████████| 418/418 [00:01<00:00, 247.71it/s]\n"
     ]
    },
    {
     "name": "stdout",
     "output_type": "stream",
     "text": [
      "There are negative values in the predictions.\n",
      "The average error is: 4.790132076611419\n",
      "Model: sarimax and Revision: WLSV\n",
      "Generating the hierarchical dataset...\n",
      "The dataset size is (120, 418)\n",
      "Fitting the model sarimax with revision method WLSV.\n"
     ]
    },
    {
     "name": "stderr",
     "output_type": "stream",
     "text": [
      "Fitting models: 100%|████████████████████████████████████████████████████████████████| 418/418 [00:15<00:00, 26.35it/s]\n",
      "Fitting models:   9%|█████▋                                                          | 37/418 [00:00<00:01, 358.69it/s]"
     ]
    },
    {
     "name": "stdout",
     "output_type": "stream",
     "text": [
      "Predicting for the next 12 time steps.\n"
     ]
    },
    {
     "name": "stderr",
     "output_type": "stream",
     "text": [
      "Fitting models: 100%|███████████████████████████████████████████████████████████████| 418/418 [00:01<00:00, 265.39it/s]\n"
     ]
    },
    {
     "name": "stdout",
     "output_type": "stream",
     "text": [
      "There are negative values in the predictions.\n",
      "The average error is: 103.25736327264667\n"
     ]
    }
   ],
   "source": [
    "for m in model_types:\n",
    "    for r in revisions:\n",
    "        print(f\"Model: {m} and Revision: {r}\")\n",
    "        \n",
    "        # Change params \n",
    "        params['model'] = m\n",
    "        params['revision_method'] = r\n",
    "        \n",
    "        # Run the prediction model  \n",
    "        predictions = train_heirarchical_cluster_model(data=df,\n",
    "                                         agregate_col='ags2', \n",
    "                                         params=params)"
   ]
  },
  {
   "cell_type": "code",
   "execution_count": null,
   "id": "95b277d0",
   "metadata": {},
   "outputs": [],
   "source": []
  }
 ],
 "metadata": {
  "kernelspec": {
   "display_name": "Python 3",
   "language": "python",
   "name": "python3"
  },
  "language_info": {
   "codemirror_mode": {
    "name": "ipython",
    "version": 3
   },
   "file_extension": ".py",
   "mimetype": "text/x-python",
   "name": "python",
   "nbconvert_exporter": "python",
   "pygments_lexer": "ipython3",
   "version": "3.8.8"
  }
 },
 "nbformat": 4,
 "nbformat_minor": 5
}
