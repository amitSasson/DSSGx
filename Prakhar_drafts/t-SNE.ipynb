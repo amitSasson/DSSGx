{
 "cells": [
  {
   "cell_type": "markdown",
   "id": "829ef5fa",
   "metadata": {},
   "source": [
    "# t-SNE \n",
    "\n",
    "Using t-SNE for the dimensionality reduction in the big combined data."
   ]
  },
  {
   "cell_type": "code",
   "execution_count": 2,
   "id": "11b58c58",
   "metadata": {},
   "outputs": [],
   "source": [
    "# Import necessary libraries \n",
    "import pandas as pd\n",
    "\n",
    "# Machine Learning \n",
    "from sklearn.manifold import TSNE"
   ]
  },
  {
   "cell_type": "code",
   "execution_count": null,
   "id": "14c6181e",
   "metadata": {},
   "outputs": [],
   "source": []
  }
 ],
 "metadata": {
  "kernelspec": {
   "display_name": "Python 3",
   "language": "python",
   "name": "python3"
  },
  "language_info": {
   "codemirror_mode": {
    "name": "ipython",
    "version": 3
   },
   "file_extension": ".py",
   "mimetype": "text/x-python",
   "name": "python",
   "nbconvert_exporter": "python",
   "pygments_lexer": "ipython3",
   "version": "3.8.8"
  }
 },
 "nbformat": 4,
 "nbformat_minor": 5
}
