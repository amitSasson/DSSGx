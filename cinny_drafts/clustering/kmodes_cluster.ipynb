{
 "cells": [
  {
   "cell_type": "code",
   "execution_count": 1,
   "metadata": {},
   "outputs": [],
   "source": [
    "import numpy as np\n",
    "import pandas as pd\n",
    "from kmodes.kmodes import KModes"
   ]
  },
  {
   "cell_type": "code",
   "execution_count": null,
   "metadata": {},
   "outputs": [],
   "source": []
  },
  {
   "cell_type": "markdown",
   "metadata": {},
   "source": [
    "Q: How does k-protypes know which of my features are numerical and which are categorical?\n",
    "\n",
    "A: You tell it which column indices are categorical using the categorical argument. All others are assumed numerical. E.g., clusters = KPrototypes().fit_predict(X, categorical=[1, 2])"
   ]
  },
  {
   "cell_type": "code",
   "execution_count": null,
   "metadata": {},
   "outputs": [],
   "source": []
  },
  {
   "cell_type": "code",
   "execution_count": 2,
   "metadata": {},
   "outputs": [],
   "source": [
    "df = pd.read_csv('../../final_dfs/for_modeling/df_final_stationery.csv')\n",
    "# df2 = pd.read_csv('../../final_dfs/for_modeling/df_final_date_wide.csv')\n",
    "# df3 = pd.read_csv('../../final_dfs/for_modeling/df_final_date_long.csv')"
   ]
  },
  {
   "cell_type": "code",
   "execution_count": 3,
   "metadata": {},
   "outputs": [
    {
     "data": {
      "text/plain": [
       "(401, 179)"
      ]
     },
     "execution_count": 3,
     "metadata": {},
     "output_type": "execute_result"
    }
   ],
   "source": [
    "df.shape"
   ]
  },
  {
   "cell_type": "code",
   "execution_count": 4,
   "metadata": {},
   "outputs": [],
   "source": [
    "#list(df.columns)"
   ]
  },
  {
   "cell_type": "code",
   "execution_count": 5,
   "metadata": {},
   "outputs": [],
   "source": [
    "df1 = df.drop(columns=['cluster', 'kreis', 'ags5', 'ags2', 'Unnamed:_0', 'support_area_status'])"
   ]
  },
  {
   "cell_type": "code",
   "execution_count": 6,
   "metadata": {},
   "outputs": [
    {
     "name": "stdout",
     "output_type": "stream",
     "text": [
      "Init: initializing centroids\n",
      "Init: initializing clusters\n",
      "Starting iterations...\n",
      "Run 1, iteration: 1/100, moves: 54, cost: 60907.0\n",
      "Run 1, iteration: 2/100, moves: 21, cost: 60864.0\n",
      "Run 1, iteration: 3/100, moves: 4, cost: 60854.0\n",
      "Run 1, iteration: 4/100, moves: 1, cost: 60852.0\n",
      "Run 1, iteration: 5/100, moves: 0, cost: 60852.0\n",
      "Init: initializing centroids\n",
      "Init: initializing clusters\n",
      "Starting iterations...\n",
      "Run 2, iteration: 1/100, moves: 71, cost: 61001.0\n",
      "Run 2, iteration: 2/100, moves: 40, cost: 60919.0\n",
      "Run 2, iteration: 3/100, moves: 19, cost: 60873.0\n",
      "Run 2, iteration: 4/100, moves: 7, cost: 60864.0\n",
      "Run 2, iteration: 5/100, moves: 0, cost: 60864.0\n",
      "Init: initializing centroids\n",
      "Init: initializing clusters\n",
      "Starting iterations...\n",
      "Run 3, iteration: 1/100, moves: 41, cost: 60927.0\n",
      "Run 3, iteration: 2/100, moves: 12, cost: 60902.0\n",
      "Run 3, iteration: 3/100, moves: 2, cost: 60900.0\n",
      "Run 3, iteration: 4/100, moves: 0, cost: 60900.0\n",
      "Init: initializing centroids\n",
      "Init: initializing clusters\n",
      "Starting iterations...\n",
      "Run 4, iteration: 1/100, moves: 47, cost: 60915.0\n",
      "Run 4, iteration: 2/100, moves: 11, cost: 60892.0\n",
      "Run 4, iteration: 3/100, moves: 13, cost: 60863.0\n",
      "Run 4, iteration: 4/100, moves: 3, cost: 60859.0\n",
      "Run 4, iteration: 5/100, moves: 0, cost: 60859.0\n",
      "Init: initializing centroids\n",
      "Init: initializing clusters\n",
      "Starting iterations...\n",
      "Run 5, iteration: 1/100, moves: 79, cost: 61093.0\n",
      "Run 5, iteration: 2/100, moves: 16, cost: 61043.0\n",
      "Run 5, iteration: 3/100, moves: 7, cost: 61032.0\n",
      "Run 5, iteration: 4/100, moves: 2, cost: 61028.0\n",
      "Run 5, iteration: 5/100, moves: 1, cost: 61028.0\n",
      "Best run was number 1\n"
     ]
    }
   ],
   "source": [
    "km = KModes(n_clusters=4, init='Huang', n_init=5, verbose=1)\n",
    "clusters = km.fit_predict(df1)"
   ]
  },
  {
   "cell_type": "code",
   "execution_count": 7,
   "metadata": {},
   "outputs": [],
   "source": [
    "#km.cluster_centroids_"
   ]
  },
  {
   "cell_type": "code",
   "execution_count": 8,
   "metadata": {},
   "outputs": [],
   "source": [
    "#km.labels_"
   ]
  },
  {
   "cell_type": "code",
   "execution_count": null,
   "metadata": {},
   "outputs": [],
   "source": []
  },
  {
   "cell_type": "code",
   "execution_count": 9,
   "metadata": {},
   "outputs": [],
   "source": [
    "df['cluster'] = km.labels_"
   ]
  },
  {
   "cell_type": "code",
   "execution_count": 10,
   "metadata": {},
   "outputs": [],
   "source": [
    "df_plot = df[['kreis', 'ags5', 'cluster']]"
   ]
  },
  {
   "cell_type": "code",
   "execution_count": 11,
   "metadata": {},
   "outputs": [],
   "source": [
    "df_plot.to_csv('kmodes.csv')"
   ]
  },
  {
   "cell_type": "code",
   "execution_count": null,
   "metadata": {},
   "outputs": [],
   "source": []
  }
 ],
 "metadata": {
  "kernelspec": {
   "display_name": "Python 3",
   "language": "python",
   "name": "python3"
  },
  "language_info": {
   "codemirror_mode": {
    "name": "ipython",
    "version": 3
   },
   "file_extension": ".py",
   "mimetype": "text/x-python",
   "name": "python",
   "nbconvert_exporter": "python",
   "pygments_lexer": "ipython3",
   "version": "3.8.5"
  }
 },
 "nbformat": 4,
 "nbformat_minor": 4
}
