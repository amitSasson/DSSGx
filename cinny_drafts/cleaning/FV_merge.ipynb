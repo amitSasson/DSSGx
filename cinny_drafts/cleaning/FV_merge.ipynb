{
 "cells": [
  {
   "cell_type": "markdown",
   "metadata": {},
   "source": [
    "get long and wide format for company changes time-series data"
   ]
  },
  {
   "cell_type": "code",
   "execution_count": null,
   "metadata": {},
   "outputs": [],
   "source": []
  },
  {
   "cell_type": "code",
   "execution_count": 1,
   "metadata": {},
   "outputs": [],
   "source": [
    "import pandas as pd\n",
    "import datetime"
   ]
  },
  {
   "cell_type": "code",
   "execution_count": 2,
   "metadata": {},
   "outputs": [],
   "source": [
    "df = pd.read_csv('firmenveraenderungen_2007_2021.csv', delimiter=';', index_col='id')\n",
    "df.reset_index(drop=True, inplace=True)"
   ]
  },
  {
   "cell_type": "code",
   "execution_count": 3,
   "metadata": {},
   "outputs": [
    {
     "data": {
      "text/html": [
       "<div>\n",
       "<style scoped>\n",
       "    .dataframe tbody tr th:only-of-type {\n",
       "        vertical-align: middle;\n",
       "    }\n",
       "\n",
       "    .dataframe tbody tr th {\n",
       "        vertical-align: top;\n",
       "    }\n",
       "\n",
       "    .dataframe thead th {\n",
       "        text-align: right;\n",
       "    }\n",
       "</style>\n",
       "<table border=\"1\" class=\"dataframe\">\n",
       "  <thead>\n",
       "    <tr style=\"text-align: right;\">\n",
       "      <th></th>\n",
       "      <th>ags2</th>\n",
       "      <th>bundesland</th>\n",
       "      <th>ags5</th>\n",
       "      <th>kreis</th>\n",
       "      <th>variable</th>\n",
       "      <th>d200701</th>\n",
       "      <th>d200702</th>\n",
       "      <th>d200703</th>\n",
       "      <th>d200704</th>\n",
       "      <th>d200705</th>\n",
       "      <th>...</th>\n",
       "      <th>d202009</th>\n",
       "      <th>d202010</th>\n",
       "      <th>d202011</th>\n",
       "      <th>d202012</th>\n",
       "      <th>d202101</th>\n",
       "      <th>d202102</th>\n",
       "      <th>d202103</th>\n",
       "      <th>d202104</th>\n",
       "      <th>d202105</th>\n",
       "      <th>d202106</th>\n",
       "    </tr>\n",
       "  </thead>\n",
       "  <tbody>\n",
       "    <tr>\n",
       "      <th>0</th>\n",
       "      <td>1</td>\n",
       "      <td>Schleswig-Holstein</td>\n",
       "      <td>1001</td>\n",
       "      <td>Flensburg, Stadt</td>\n",
       "      <td>kr_firm_loesch_m</td>\n",
       "      <td>4</td>\n",
       "      <td>5</td>\n",
       "      <td>7</td>\n",
       "      <td>5</td>\n",
       "      <td>4</td>\n",
       "      <td>...</td>\n",
       "      <td>9</td>\n",
       "      <td>11</td>\n",
       "      <td>8</td>\n",
       "      <td>15</td>\n",
       "      <td>8</td>\n",
       "      <td>8</td>\n",
       "      <td>13</td>\n",
       "      <td>13</td>\n",
       "      <td>9</td>\n",
       "      <td>6</td>\n",
       "    </tr>\n",
       "    <tr>\n",
       "      <th>1</th>\n",
       "      <td>1</td>\n",
       "      <td>Schleswig-Holstein</td>\n",
       "      <td>1001</td>\n",
       "      <td>Flensburg, Stadt</td>\n",
       "      <td>kr_firm_neug_m</td>\n",
       "      <td>5</td>\n",
       "      <td>12</td>\n",
       "      <td>19</td>\n",
       "      <td>11</td>\n",
       "      <td>21</td>\n",
       "      <td>...</td>\n",
       "      <td>10</td>\n",
       "      <td>11</td>\n",
       "      <td>15</td>\n",
       "      <td>19</td>\n",
       "      <td>18</td>\n",
       "      <td>13</td>\n",
       "      <td>16</td>\n",
       "      <td>18</td>\n",
       "      <td>7</td>\n",
       "      <td>13</td>\n",
       "    </tr>\n",
       "  </tbody>\n",
       "</table>\n",
       "<p>2 rows × 179 columns</p>\n",
       "</div>"
      ],
      "text/plain": [
       "   ags2          bundesland  ags5             kreis          variable  \\\n",
       "0     1  Schleswig-Holstein  1001  Flensburg, Stadt  kr_firm_loesch_m   \n",
       "1     1  Schleswig-Holstein  1001  Flensburg, Stadt    kr_firm_neug_m   \n",
       "\n",
       "   d200701  d200702  d200703  d200704  d200705  ...  d202009  d202010  \\\n",
       "0        4        5        7        5        4  ...        9       11   \n",
       "1        5       12       19       11       21  ...       10       11   \n",
       "\n",
       "   d202011  d202012  d202101  d202102  d202103  d202104  d202105  d202106  \n",
       "0        8       15        8        8       13       13        9        6  \n",
       "1       15       19       18       13       16       18        7       13  \n",
       "\n",
       "[2 rows x 179 columns]"
      ]
     },
     "execution_count": 3,
     "metadata": {},
     "output_type": "execute_result"
    }
   ],
   "source": [
    "df.head(2)"
   ]
  },
  {
   "cell_type": "code",
   "execution_count": 4,
   "metadata": {},
   "outputs": [
    {
     "data": {
      "text/plain": [
       "(1203, 179)"
      ]
     },
     "execution_count": 4,
     "metadata": {},
     "output_type": "execute_result"
    }
   ],
   "source": [
    "df.shape"
   ]
  },
  {
   "cell_type": "code",
   "execution_count": null,
   "metadata": {},
   "outputs": [],
   "source": []
  },
  {
   "cell_type": "code",
   "execution_count": 5,
   "metadata": {},
   "outputs": [],
   "source": [
    "di = {\"kr_firm_br_99_m\":\"number_of_companies_unknown_sector\",\n",
    "    \"kr_firm_br_a_m\":\"number_of_companies_agriculture\",\n",
    "    \"kr_firm_br_b_m\":\"number_of_companies_mining\",\n",
    "    \"kr_firm_br_c_m\":\"number_of_companies_manufacturing\",\n",
    "    \"kr_firm_br_d_m\":\"number_of_companies_energy\",\n",
    "    \"kr_firm_br_e_m\":\"number_of_companies_water_and_sewage\",\n",
    "    \"kr_firm_br_f_m\":\"number_of_companies_construction\",\n",
    "    \"kr_firm_br_g_m\":\"number_of_companies_repair_motor_vehicles\",\n",
    "    \"kr_firm_br_h_m\":\"number_of_companies_transport\",\n",
    "    \"kr_firm_br_i_m\":\"number_of_companies_hospitality\",\n",
    "    \"kr_firm_br_j_m\":\"number_of_companies_communication\",\n",
    "    \"kr_firm_br_k_m\":\"number_of_companies_financial_and_insurance\",\n",
    "    \"kr_firm_br_l_m\":\"number_of_companies_real_estat\",\n",
    "    \"kr_firm_br_m_m\":\"number_of_companies_technical_services\",\n",
    "    \"kr_firm_br_n_m\":\"number_of_companies_economic_services\",\n",
    "    \"kr_firm_br_o_m\":\"number_of_companies_administration\",\n",
    "    \"kr_firm_br_p_m\":\"number_of_companies_education\",\n",
    "    \"kr_firm_br_q_m\":\"number_of_companies_health_and_social_services\",\n",
    "    \"kr_firm_br_r_m\":\"number_of_companies_arts_entertainment\",\n",
    "    \"kr_firm_br_s_m\":\"number_of_companies_rendering_other_services\",\n",
    "    \"kr_firm_br_t_m\":\"number_of_companies_domestic_staff\",\n",
    "    \"kr_firm_br_u_m\":\"number_of_companies_extraterritorial\",\n",
    "    \"kr_firm_liq_m\":\"number_of_company_liquidations\",\n",
    "    \"kr_firm_loesch_m\":\"number_of_company_deletions\",\n",
    "    \"kr_firm_neug_m\":\"number_of_start_ups\"}"
   ]
  },
  {
   "cell_type": "code",
   "execution_count": 6,
   "metadata": {},
   "outputs": [
    {
     "data": {
      "text/plain": [
       "{'kr_firm_liq_m', 'kr_firm_loesch_m', 'kr_firm_neug_m'}"
      ]
     },
     "execution_count": 6,
     "metadata": {},
     "output_type": "execute_result"
    }
   ],
   "source": [
    "set(df['variable'])"
   ]
  },
  {
   "cell_type": "code",
   "execution_count": null,
   "metadata": {},
   "outputs": [],
   "source": []
  },
  {
   "cell_type": "markdown",
   "metadata": {},
   "source": [
    "## format"
   ]
  },
  {
   "cell_type": "markdown",
   "metadata": {},
   "source": [
    "### long"
   ]
  },
  {
   "cell_type": "code",
   "execution_count": 7,
   "metadata": {},
   "outputs": [],
   "source": [
    "def long_format(df):\n",
    "    # drop columns\n",
    "    df = df.drop(columns=['kreis', 'bundesland'])\n",
    "    # convert to wide format\n",
    "    df = pd.wide_to_long(df, i=['ags2', 'ags5', 'variable'], stubnames='d', j='date')\n",
    "    # unifiied changes\n",
    "    df = df.reset_index(drop=False)\n",
    "    df = df.rename(columns = {\"d\":\"value\"})\n",
    "    df = df.replace({\"variable\": di})\n",
    "    # convert date\n",
    "    df['date'] = pd.to_datetime(df['date'], format = '%Y%m')\n",
    "    return df"
   ]
  },
  {
   "cell_type": "code",
   "execution_count": 8,
   "metadata": {},
   "outputs": [],
   "source": [
    "df_long = long_format(df)"
   ]
  },
  {
   "cell_type": "code",
   "execution_count": 9,
   "metadata": {},
   "outputs": [],
   "source": [
    "#df_long"
   ]
  },
  {
   "cell_type": "code",
   "execution_count": 10,
   "metadata": {},
   "outputs": [],
   "source": [
    "#df_long.to_csv('./final_dfs/company_changes_long.csv', index=False)"
   ]
  },
  {
   "cell_type": "markdown",
   "metadata": {},
   "source": [
    "### wide"
   ]
  },
  {
   "cell_type": "code",
   "execution_count": 11,
   "metadata": {},
   "outputs": [],
   "source": [
    "def wide_format(df):\n",
    "    # convert to long format\n",
    "    df = df.pivot(index=[\"ags2\",\"ags5\",\"date\"], columns=\"variable\", values=\"value\")\n",
    "    # unifiied changes\n",
    "    df = df.reset_index(drop=False)\n",
    "#     df = df.rename(columns = {\"d\":\"value\"})\n",
    "#     df = df.replace({\"variable\": di})\n",
    "    # convert date\n",
    "    df['date'] = pd.to_datetime(df['date'], format = '%Y%m')\n",
    "    return df"
   ]
  },
  {
   "cell_type": "code",
   "execution_count": 12,
   "metadata": {},
   "outputs": [],
   "source": [
    "df_wide = wide_format(df_long)"
   ]
  },
  {
   "cell_type": "code",
   "execution_count": 13,
   "metadata": {},
   "outputs": [],
   "source": [
    "#df_wide"
   ]
  },
  {
   "cell_type": "code",
   "execution_count": 14,
   "metadata": {},
   "outputs": [],
   "source": [
    "#df.to_csv('./final_dfs/company_changes_wide.csv', index = False)"
   ]
  },
  {
   "cell_type": "code",
   "execution_count": null,
   "metadata": {},
   "outputs": [],
   "source": []
  },
  {
   "cell_type": "markdown",
   "metadata": {},
   "source": [
    "## merge"
   ]
  },
  {
   "cell_type": "code",
   "execution_count": 15,
   "metadata": {},
   "outputs": [],
   "source": [
    "df_final_wide = pd.read_csv('../../final_dfs/for_modeling/df_final_date_wide.csv')\n",
    "df_final_long = pd.read_csv('../../final_dfs/for_modeling/df_final_date_long.csv')"
   ]
  },
  {
   "cell_type": "code",
   "execution_count": null,
   "metadata": {},
   "outputs": [],
   "source": []
  },
  {
   "cell_type": "markdown",
   "metadata": {},
   "source": [
    "### wide"
   ]
  },
  {
   "cell_type": "code",
   "execution_count": 16,
   "metadata": {},
   "outputs": [
    {
     "data": {
      "text/plain": [
       "(11228, 40)"
      ]
     },
     "execution_count": 16,
     "metadata": {},
     "output_type": "execute_result"
    }
   ],
   "source": [
    "df_final_wide.shape"
   ]
  },
  {
   "cell_type": "code",
   "execution_count": 17,
   "metadata": {},
   "outputs": [
    {
     "data": {
      "text/plain": [
       "(69774, 6)"
      ]
     },
     "execution_count": 17,
     "metadata": {},
     "output_type": "execute_result"
    }
   ],
   "source": [
    "df_wide.shape"
   ]
  },
  {
   "cell_type": "code",
   "execution_count": 18,
   "metadata": {},
   "outputs": [],
   "source": [
    "#df_final_wide"
   ]
  },
  {
   "cell_type": "code",
   "execution_count": 19,
   "metadata": {},
   "outputs": [],
   "source": [
    "#df_wide"
   ]
  },
  {
   "cell_type": "code",
   "execution_count": 20,
   "metadata": {},
   "outputs": [],
   "source": [
    "# filter these out to avoid duplicate when merging\n",
    "df_wide = df_wide[df_wide['date']<datetime.datetime(2019,1,1)]"
   ]
  },
  {
   "cell_type": "code",
   "execution_count": 21,
   "metadata": {},
   "outputs": [],
   "source": [
    "df_final_wide = pd.concat([df_wide, df_final_wide], ignore_index=True)"
   ]
  },
  {
   "cell_type": "code",
   "execution_count": 22,
   "metadata": {},
   "outputs": [],
   "source": [
    "#df_final_wide"
   ]
  },
  {
   "cell_type": "code",
   "execution_count": null,
   "metadata": {},
   "outputs": [],
   "source": []
  },
  {
   "cell_type": "markdown",
   "metadata": {},
   "source": [
    "### long"
   ]
  },
  {
   "cell_type": "code",
   "execution_count": 23,
   "metadata": {},
   "outputs": [
    {
     "data": {
      "text/plain": [
       "(370207, 5)"
      ]
     },
     "execution_count": 23,
     "metadata": {},
     "output_type": "execute_result"
    }
   ],
   "source": [
    "df_final_long.shape"
   ]
  },
  {
   "cell_type": "code",
   "execution_count": 24,
   "metadata": {},
   "outputs": [
    {
     "data": {
      "text/plain": [
       "(209322, 5)"
      ]
     },
     "execution_count": 24,
     "metadata": {},
     "output_type": "execute_result"
    }
   ],
   "source": [
    "df_long.shape"
   ]
  },
  {
   "cell_type": "code",
   "execution_count": 25,
   "metadata": {},
   "outputs": [],
   "source": [
    "#df_final_long"
   ]
  },
  {
   "cell_type": "code",
   "execution_count": 26,
   "metadata": {},
   "outputs": [],
   "source": [
    "#df_long"
   ]
  },
  {
   "cell_type": "code",
   "execution_count": 27,
   "metadata": {},
   "outputs": [],
   "source": [
    "# filter these out to avoid duplicate when merging\n",
    "df_long = df_long[df_long['date']<datetime.datetime(2019,1,1)]"
   ]
  },
  {
   "cell_type": "code",
   "execution_count": 28,
   "metadata": {},
   "outputs": [],
   "source": [
    "df_final_long = pd.concat([df_long, df_final_long], ignore_index=True)"
   ]
  },
  {
   "cell_type": "code",
   "execution_count": 29,
   "metadata": {},
   "outputs": [
    {
     "data": {
      "text/html": [
       "<div>\n",
       "<style scoped>\n",
       "    .dataframe tbody tr th:only-of-type {\n",
       "        vertical-align: middle;\n",
       "    }\n",
       "\n",
       "    .dataframe tbody tr th {\n",
       "        vertical-align: top;\n",
       "    }\n",
       "\n",
       "    .dataframe thead th {\n",
       "        text-align: right;\n",
       "    }\n",
       "</style>\n",
       "<table border=\"1\" class=\"dataframe\">\n",
       "  <thead>\n",
       "    <tr style=\"text-align: right;\">\n",
       "      <th></th>\n",
       "      <th>ags2</th>\n",
       "      <th>ags5</th>\n",
       "      <th>variable</th>\n",
       "      <th>date</th>\n",
       "      <th>value</th>\n",
       "    </tr>\n",
       "  </thead>\n",
       "  <tbody>\n",
       "    <tr>\n",
       "      <th>0</th>\n",
       "      <td>1</td>\n",
       "      <td>1001</td>\n",
       "      <td>number_of_company_deletions</td>\n",
       "      <td>2007-01-01 00:00:00</td>\n",
       "      <td>4.0</td>\n",
       "    </tr>\n",
       "    <tr>\n",
       "      <th>1</th>\n",
       "      <td>1</td>\n",
       "      <td>1001</td>\n",
       "      <td>number_of_company_deletions</td>\n",
       "      <td>2007-02-01 00:00:00</td>\n",
       "      <td>5.0</td>\n",
       "    </tr>\n",
       "    <tr>\n",
       "      <th>2</th>\n",
       "      <td>1</td>\n",
       "      <td>1001</td>\n",
       "      <td>number_of_company_deletions</td>\n",
       "      <td>2007-03-01 00:00:00</td>\n",
       "      <td>7.0</td>\n",
       "    </tr>\n",
       "    <tr>\n",
       "      <th>3</th>\n",
       "      <td>1</td>\n",
       "      <td>1001</td>\n",
       "      <td>number_of_company_deletions</td>\n",
       "      <td>2007-04-01 00:00:00</td>\n",
       "      <td>5.0</td>\n",
       "    </tr>\n",
       "    <tr>\n",
       "      <th>4</th>\n",
       "      <td>1</td>\n",
       "      <td>1001</td>\n",
       "      <td>number_of_company_deletions</td>\n",
       "      <td>2007-05-01 00:00:00</td>\n",
       "      <td>4.0</td>\n",
       "    </tr>\n",
       "    <tr>\n",
       "      <th>...</th>\n",
       "      <td>...</td>\n",
       "      <td>...</td>\n",
       "      <td>...</td>\n",
       "      <td>...</td>\n",
       "      <td>...</td>\n",
       "    </tr>\n",
       "    <tr>\n",
       "      <th>543434</th>\n",
       "      <td>7</td>\n",
       "      <td>7000</td>\n",
       "      <td>number_of_company_liquidations</td>\n",
       "      <td>2020-12-01</td>\n",
       "      <td>0.0</td>\n",
       "    </tr>\n",
       "    <tr>\n",
       "      <th>543435</th>\n",
       "      <td>7</td>\n",
       "      <td>7000</td>\n",
       "      <td>number_of_company_liquidations</td>\n",
       "      <td>2021-01-01</td>\n",
       "      <td>0.0</td>\n",
       "    </tr>\n",
       "    <tr>\n",
       "      <th>543436</th>\n",
       "      <td>7</td>\n",
       "      <td>7000</td>\n",
       "      <td>number_of_company_liquidations</td>\n",
       "      <td>2021-02-01</td>\n",
       "      <td>0.0</td>\n",
       "    </tr>\n",
       "    <tr>\n",
       "      <th>543437</th>\n",
       "      <td>7</td>\n",
       "      <td>7000</td>\n",
       "      <td>number_of_company_liquidations</td>\n",
       "      <td>2021-03-01</td>\n",
       "      <td>0.0</td>\n",
       "    </tr>\n",
       "    <tr>\n",
       "      <th>543438</th>\n",
       "      <td>7</td>\n",
       "      <td>7000</td>\n",
       "      <td>number_of_company_liquidations</td>\n",
       "      <td>2021-04-01</td>\n",
       "      <td>0.0</td>\n",
       "    </tr>\n",
       "  </tbody>\n",
       "</table>\n",
       "<p>543439 rows × 5 columns</p>\n",
       "</div>"
      ],
      "text/plain": [
       "        ags2  ags5                        variable                 date  value\n",
       "0          1  1001     number_of_company_deletions  2007-01-01 00:00:00    4.0\n",
       "1          1  1001     number_of_company_deletions  2007-02-01 00:00:00    5.0\n",
       "2          1  1001     number_of_company_deletions  2007-03-01 00:00:00    7.0\n",
       "3          1  1001     number_of_company_deletions  2007-04-01 00:00:00    5.0\n",
       "4          1  1001     number_of_company_deletions  2007-05-01 00:00:00    4.0\n",
       "...      ...   ...                             ...                  ...    ...\n",
       "543434     7  7000  number_of_company_liquidations           2020-12-01    0.0\n",
       "543435     7  7000  number_of_company_liquidations           2021-01-01    0.0\n",
       "543436     7  7000  number_of_company_liquidations           2021-02-01    0.0\n",
       "543437     7  7000  number_of_company_liquidations           2021-03-01    0.0\n",
       "543438     7  7000  number_of_company_liquidations           2021-04-01    0.0\n",
       "\n",
       "[543439 rows x 5 columns]"
      ]
     },
     "execution_count": 29,
     "metadata": {},
     "output_type": "execute_result"
    }
   ],
   "source": [
    "df_final_long"
   ]
  },
  {
   "cell_type": "code",
   "execution_count": null,
   "metadata": {},
   "outputs": [],
   "source": []
  },
  {
   "cell_type": "code",
   "execution_count": 30,
   "metadata": {},
   "outputs": [],
   "source": [
    "# df_final_wide.to_csv('../../final_dfs/for_modeling/df_final_date_wide_2017.csv')\n",
    "# df_final_long.to_csv('../../final_dfs/for_modeling/df_final_date_long_2017.csv')"
   ]
  },
  {
   "cell_type": "code",
   "execution_count": null,
   "metadata": {},
   "outputs": [],
   "source": []
  }
 ],
 "metadata": {
  "kernelspec": {
   "display_name": "Python 3",
   "language": "python",
   "name": "python3"
  },
  "language_info": {
   "codemirror_mode": {
    "name": "ipython",
    "version": 3
   },
   "file_extension": ".py",
   "mimetype": "text/x-python",
   "name": "python",
   "nbconvert_exporter": "python",
   "pygments_lexer": "ipython3",
   "version": "3.8.5"
  }
 },
 "nbformat": 4,
 "nbformat_minor": 4
}
