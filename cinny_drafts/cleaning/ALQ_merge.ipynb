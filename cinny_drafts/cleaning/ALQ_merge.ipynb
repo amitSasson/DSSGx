{
 "cells": [
  {
   "cell_type": "markdown",
   "metadata": {},
   "source": [
    "merge long and wide format of unemployment rate data to time-series data"
   ]
  },
  {
   "cell_type": "code",
   "execution_count": null,
   "metadata": {},
   "outputs": [],
   "source": []
  },
  {
   "cell_type": "code",
   "execution_count": 1,
   "metadata": {},
   "outputs": [],
   "source": [
    "import pandas as pd\n",
    "import datetime\n",
    "import re"
   ]
  },
  {
   "cell_type": "code",
   "execution_count": null,
   "metadata": {},
   "outputs": [],
   "source": []
  },
  {
   "cell_type": "code",
   "execution_count": 2,
   "metadata": {},
   "outputs": [],
   "source": [
    "df_wide = pd.read_csv('alq_wide.csv', index_col=0)\n",
    "df_long = pd.read_csv('alq_long.csv', index_col=0)"
   ]
  },
  {
   "cell_type": "code",
   "execution_count": 3,
   "metadata": {},
   "outputs": [
    {
     "data": {
      "text/plain": [
       "(401, 169)"
      ]
     },
     "execution_count": 3,
     "metadata": {},
     "output_type": "execute_result"
    }
   ],
   "source": [
    "df_wide.shape"
   ]
  },
  {
   "cell_type": "code",
   "execution_count": 4,
   "metadata": {},
   "outputs": [
    {
     "data": {
      "text/plain": [
       "(67769, 3)"
      ]
     },
     "execution_count": 4,
     "metadata": {},
     "output_type": "execute_result"
    }
   ],
   "source": [
    "df_long.shape"
   ]
  },
  {
   "cell_type": "code",
   "execution_count": 5,
   "metadata": {},
   "outputs": [
    {
     "data": {
      "text/plain": [
       "ags5            int64\n",
       "time_stamp     object\n",
       "value         float64\n",
       "dtype: object"
      ]
     },
     "execution_count": 5,
     "metadata": {},
     "output_type": "execute_result"
    }
   ],
   "source": [
    "df_long.dtypes"
   ]
  },
  {
   "cell_type": "code",
   "execution_count": null,
   "metadata": {},
   "outputs": [],
   "source": []
  },
  {
   "cell_type": "markdown",
   "metadata": {},
   "source": [
    "## merge"
   ]
  },
  {
   "cell_type": "code",
   "execution_count": 6,
   "metadata": {},
   "outputs": [],
   "source": [
    "df_final_wide = pd.read_csv('../../final_dfs/for_modeling/df_final_date_wide_2007.csv', index_col=0)\n",
    "df_final_long = pd.read_csv('../../final_dfs/for_modeling/df_final_date_long_2007.csv', index_col=0)"
   ]
  },
  {
   "cell_type": "code",
   "execution_count": 7,
   "metadata": {},
   "outputs": [
    {
     "data": {
      "text/plain": [
       "(68972, 40)"
      ]
     },
     "execution_count": 7,
     "metadata": {},
     "output_type": "execute_result"
    }
   ],
   "source": [
    "df_final_wide.shape"
   ]
  },
  {
   "cell_type": "code",
   "execution_count": 8,
   "metadata": {},
   "outputs": [
    {
     "data": {
      "text/plain": [
       "(543439, 5)"
      ]
     },
     "execution_count": 8,
     "metadata": {},
     "output_type": "execute_result"
    }
   ],
   "source": [
    "df_final_long.shape"
   ]
  },
  {
   "cell_type": "code",
   "execution_count": null,
   "metadata": {},
   "outputs": [],
   "source": []
  },
  {
   "cell_type": "code",
   "execution_count": 9,
   "metadata": {},
   "outputs": [],
   "source": [
    "# fix variable name\n",
    "df_final_wide.rename(\n",
    "    columns={\"employees_social_security_at_residenceemployees_social_security_at_work\": \n",
    "             \"employees_social_security_at_work\"}, inplace=True)"
   ]
  },
  {
   "cell_type": "code",
   "execution_count": 10,
   "metadata": {},
   "outputs": [],
   "source": [
    "def fix_variable(var):\n",
    "    if var=='employees_social_security_at_residenceemployees_social_security_at_work':\n",
    "        var = 'employees_social_security_at_work'\n",
    "        return var\n",
    "    else:\n",
    "        return var"
   ]
  },
  {
   "cell_type": "code",
   "execution_count": 11,
   "metadata": {},
   "outputs": [],
   "source": [
    "df_final_long['variable'] = df_final_long['variable'].apply(fix_variable)"
   ]
  },
  {
   "cell_type": "code",
   "execution_count": null,
   "metadata": {},
   "outputs": [],
   "source": []
  },
  {
   "cell_type": "code",
   "execution_count": 12,
   "metadata": {},
   "outputs": [],
   "source": [
    "# fix date to first day of the month to merge\n",
    "def fix_day(date):\n",
    "    return date.replace(day=1)"
   ]
  },
  {
   "cell_type": "code",
   "execution_count": null,
   "metadata": {},
   "outputs": [],
   "source": []
  },
  {
   "cell_type": "markdown",
   "metadata": {},
   "source": [
    "### wide"
   ]
  },
  {
   "cell_type": "code",
   "execution_count": 13,
   "metadata": {},
   "outputs": [
    {
     "data": {
      "text/plain": [
       "(68972, 40)"
      ]
     },
     "execution_count": 13,
     "metadata": {},
     "output_type": "execute_result"
    }
   ],
   "source": [
    "df_final_wide.shape"
   ]
  },
  {
   "cell_type": "code",
   "execution_count": 14,
   "metadata": {},
   "outputs": [
    {
     "data": {
      "text/plain": [
       "(401, 169)"
      ]
     },
     "execution_count": 14,
     "metadata": {},
     "output_type": "execute_result"
    }
   ],
   "source": [
    "df_wide.shape"
   ]
  },
  {
   "cell_type": "code",
   "execution_count": 15,
   "metadata": {},
   "outputs": [],
   "source": [
    "#df_final_wide"
   ]
  },
  {
   "cell_type": "code",
   "execution_count": 16,
   "metadata": {},
   "outputs": [],
   "source": [
    "df_long['datetime'] = pd.to_datetime(df_long['time_stamp'], format='%Y-%m-%d')"
   ]
  },
  {
   "cell_type": "code",
   "execution_count": 17,
   "metadata": {},
   "outputs": [],
   "source": [
    "# filter these out to avoid duplicate when merging\n",
    "#df_long = df_long[df_long['datetime']<datetime.datetime(2019,1,1)]"
   ]
  },
  {
   "cell_type": "code",
   "execution_count": 18,
   "metadata": {},
   "outputs": [],
   "source": [
    "df_long['date'] = df_long['datetime'].apply(fix_day)"
   ]
  },
  {
   "cell_type": "code",
   "execution_count": 19,
   "metadata": {},
   "outputs": [],
   "source": [
    "df_long = df_long[['ags5', 'date', 'value']]"
   ]
  },
  {
   "cell_type": "code",
   "execution_count": 20,
   "metadata": {},
   "outputs": [],
   "source": [
    "df_long.columns = ['ags5', 'date', 'unemployment_rate']"
   ]
  },
  {
   "cell_type": "code",
   "execution_count": 21,
   "metadata": {
    "collapsed": true
   },
   "outputs": [
    {
     "data": {
      "text/html": [
       "<div>\n",
       "<style scoped>\n",
       "    .dataframe tbody tr th:only-of-type {\n",
       "        vertical-align: middle;\n",
       "    }\n",
       "\n",
       "    .dataframe tbody tr th {\n",
       "        vertical-align: top;\n",
       "    }\n",
       "\n",
       "    .dataframe thead th {\n",
       "        text-align: right;\n",
       "    }\n",
       "</style>\n",
       "<table border=\"1\" class=\"dataframe\">\n",
       "  <thead>\n",
       "    <tr style=\"text-align: right;\">\n",
       "      <th></th>\n",
       "      <th>ags5</th>\n",
       "      <th>date</th>\n",
       "      <th>unemployment_rate</th>\n",
       "    </tr>\n",
       "  </thead>\n",
       "  <tbody>\n",
       "    <tr>\n",
       "      <th>0</th>\n",
       "      <td>1001</td>\n",
       "      <td>2007-05-01</td>\n",
       "      <td>12.7</td>\n",
       "    </tr>\n",
       "    <tr>\n",
       "      <th>1</th>\n",
       "      <td>1001</td>\n",
       "      <td>2007-06-01</td>\n",
       "      <td>12.2</td>\n",
       "    </tr>\n",
       "    <tr>\n",
       "      <th>2</th>\n",
       "      <td>1001</td>\n",
       "      <td>2007-07-01</td>\n",
       "      <td>12.5</td>\n",
       "    </tr>\n",
       "    <tr>\n",
       "      <th>3</th>\n",
       "      <td>1001</td>\n",
       "      <td>2007-08-01</td>\n",
       "      <td>12.3</td>\n",
       "    </tr>\n",
       "    <tr>\n",
       "      <th>4</th>\n",
       "      <td>1001</td>\n",
       "      <td>2007-09-01</td>\n",
       "      <td>11.7</td>\n",
       "    </tr>\n",
       "    <tr>\n",
       "      <th>...</th>\n",
       "      <td>...</td>\n",
       "      <td>...</td>\n",
       "      <td>...</td>\n",
       "    </tr>\n",
       "    <tr>\n",
       "      <th>67764</th>\n",
       "      <td>16077</td>\n",
       "      <td>2021-01-01</td>\n",
       "      <td>7.3</td>\n",
       "    </tr>\n",
       "    <tr>\n",
       "      <th>67765</th>\n",
       "      <td>16077</td>\n",
       "      <td>2021-02-01</td>\n",
       "      <td>7.3</td>\n",
       "    </tr>\n",
       "    <tr>\n",
       "      <th>67766</th>\n",
       "      <td>16077</td>\n",
       "      <td>2021-03-01</td>\n",
       "      <td>7.2</td>\n",
       "    </tr>\n",
       "    <tr>\n",
       "      <th>67767</th>\n",
       "      <td>16077</td>\n",
       "      <td>2021-04-01</td>\n",
       "      <td>6.9</td>\n",
       "    </tr>\n",
       "    <tr>\n",
       "      <th>67768</th>\n",
       "      <td>16077</td>\n",
       "      <td>2021-05-01</td>\n",
       "      <td>6.7</td>\n",
       "    </tr>\n",
       "  </tbody>\n",
       "</table>\n",
       "<p>67769 rows × 3 columns</p>\n",
       "</div>"
      ],
      "text/plain": [
       "        ags5       date  unemployment_rate\n",
       "0       1001 2007-05-01               12.7\n",
       "1       1001 2007-06-01               12.2\n",
       "2       1001 2007-07-01               12.5\n",
       "3       1001 2007-08-01               12.3\n",
       "4       1001 2007-09-01               11.7\n",
       "...      ...        ...                ...\n",
       "67764  16077 2021-01-01                7.3\n",
       "67765  16077 2021-02-01                7.3\n",
       "67766  16077 2021-03-01                7.2\n",
       "67767  16077 2021-04-01                6.9\n",
       "67768  16077 2021-05-01                6.7\n",
       "\n",
       "[67769 rows x 3 columns]"
      ]
     },
     "execution_count": 21,
     "metadata": {},
     "output_type": "execute_result"
    }
   ],
   "source": [
    "df_long"
   ]
  },
  {
   "cell_type": "code",
   "execution_count": 22,
   "metadata": {},
   "outputs": [],
   "source": [
    "df_final_wide['date'] = pd.to_datetime(df_final_wide['date'])"
   ]
  },
  {
   "cell_type": "code",
   "execution_count": 23,
   "metadata": {},
   "outputs": [],
   "source": [
    "# drop alq from original data and update directly from new data\n",
    "df_final_wide = df_final_wide.drop(columns=['unemployment_rate'])"
   ]
  },
  {
   "cell_type": "code",
   "execution_count": 40,
   "metadata": {},
   "outputs": [],
   "source": [
    "df_final_wide = pd.merge(df_final_wide, df_long, left_on=['ags5', 'date'], right_on=['ags5', 'date'])"
   ]
  },
  {
   "cell_type": "code",
   "execution_count": 41,
   "metadata": {
    "collapsed": true
   },
   "outputs": [
    {
     "data": {
      "text/html": [
       "<div>\n",
       "<style scoped>\n",
       "    .dataframe tbody tr th:only-of-type {\n",
       "        vertical-align: middle;\n",
       "    }\n",
       "\n",
       "    .dataframe tbody tr th {\n",
       "        vertical-align: top;\n",
       "    }\n",
       "\n",
       "    .dataframe thead th {\n",
       "        text-align: right;\n",
       "    }\n",
       "</style>\n",
       "<table border=\"1\" class=\"dataframe\">\n",
       "  <thead>\n",
       "    <tr style=\"text-align: right;\">\n",
       "      <th></th>\n",
       "      <th>ags2_x</th>\n",
       "      <th>ags5</th>\n",
       "      <th>date</th>\n",
       "      <th>number_of_company_deletions</th>\n",
       "      <th>number_of_company_liquidations</th>\n",
       "      <th>number_of_start_ups</th>\n",
       "      <th>number_of_companies_administration</th>\n",
       "      <th>number_of_companies_agriculture</th>\n",
       "      <th>number_of_companies_arts_entertainment</th>\n",
       "      <th>number_of_companies_communication</th>\n",
       "      <th>...</th>\n",
       "      <th>realized_short_time_work_companies</th>\n",
       "      <th>realized_short_time_work_people</th>\n",
       "      <th>registerd_jobs</th>\n",
       "      <th>underemployment_without_short_time _work</th>\n",
       "      <th>unemployed</th>\n",
       "      <th>unemployment_benefit_entitled</th>\n",
       "      <th>unemployment_benefit_recipients</th>\n",
       "      <th>ags2_y</th>\n",
       "      <th>variable</th>\n",
       "      <th>value</th>\n",
       "    </tr>\n",
       "  </thead>\n",
       "  <tbody>\n",
       "    <tr>\n",
       "      <th>0</th>\n",
       "      <td>1</td>\n",
       "      <td>1001</td>\n",
       "      <td>2007-05-01</td>\n",
       "      <td>4.0</td>\n",
       "      <td>2.0</td>\n",
       "      <td>21.0</td>\n",
       "      <td>NaN</td>\n",
       "      <td>NaN</td>\n",
       "      <td>NaN</td>\n",
       "      <td>NaN</td>\n",
       "      <td>...</td>\n",
       "      <td>NaN</td>\n",
       "      <td>NaN</td>\n",
       "      <td>NaN</td>\n",
       "      <td>NaN</td>\n",
       "      <td>NaN</td>\n",
       "      <td>NaN</td>\n",
       "      <td>NaN</td>\n",
       "      <td>1</td>\n",
       "      <td>unemployment_rate</td>\n",
       "      <td>12.7</td>\n",
       "    </tr>\n",
       "    <tr>\n",
       "      <th>1</th>\n",
       "      <td>1</td>\n",
       "      <td>1001</td>\n",
       "      <td>2007-06-01</td>\n",
       "      <td>8.0</td>\n",
       "      <td>6.0</td>\n",
       "      <td>18.0</td>\n",
       "      <td>NaN</td>\n",
       "      <td>NaN</td>\n",
       "      <td>NaN</td>\n",
       "      <td>NaN</td>\n",
       "      <td>...</td>\n",
       "      <td>NaN</td>\n",
       "      <td>NaN</td>\n",
       "      <td>NaN</td>\n",
       "      <td>NaN</td>\n",
       "      <td>NaN</td>\n",
       "      <td>NaN</td>\n",
       "      <td>NaN</td>\n",
       "      <td>1</td>\n",
       "      <td>unemployment_rate</td>\n",
       "      <td>12.2</td>\n",
       "    </tr>\n",
       "    <tr>\n",
       "      <th>2</th>\n",
       "      <td>1</td>\n",
       "      <td>1001</td>\n",
       "      <td>2007-07-01</td>\n",
       "      <td>9.0</td>\n",
       "      <td>0.0</td>\n",
       "      <td>18.0</td>\n",
       "      <td>NaN</td>\n",
       "      <td>NaN</td>\n",
       "      <td>NaN</td>\n",
       "      <td>NaN</td>\n",
       "      <td>...</td>\n",
       "      <td>NaN</td>\n",
       "      <td>NaN</td>\n",
       "      <td>NaN</td>\n",
       "      <td>NaN</td>\n",
       "      <td>NaN</td>\n",
       "      <td>NaN</td>\n",
       "      <td>NaN</td>\n",
       "      <td>1</td>\n",
       "      <td>unemployment_rate</td>\n",
       "      <td>12.5</td>\n",
       "    </tr>\n",
       "    <tr>\n",
       "      <th>3</th>\n",
       "      <td>1</td>\n",
       "      <td>1001</td>\n",
       "      <td>2007-08-01</td>\n",
       "      <td>6.0</td>\n",
       "      <td>4.0</td>\n",
       "      <td>10.0</td>\n",
       "      <td>NaN</td>\n",
       "      <td>NaN</td>\n",
       "      <td>NaN</td>\n",
       "      <td>NaN</td>\n",
       "      <td>...</td>\n",
       "      <td>NaN</td>\n",
       "      <td>NaN</td>\n",
       "      <td>NaN</td>\n",
       "      <td>NaN</td>\n",
       "      <td>NaN</td>\n",
       "      <td>NaN</td>\n",
       "      <td>NaN</td>\n",
       "      <td>1</td>\n",
       "      <td>unemployment_rate</td>\n",
       "      <td>12.3</td>\n",
       "    </tr>\n",
       "    <tr>\n",
       "      <th>4</th>\n",
       "      <td>1</td>\n",
       "      <td>1001</td>\n",
       "      <td>2007-09-01</td>\n",
       "      <td>11.0</td>\n",
       "      <td>4.0</td>\n",
       "      <td>6.0</td>\n",
       "      <td>NaN</td>\n",
       "      <td>NaN</td>\n",
       "      <td>NaN</td>\n",
       "      <td>NaN</td>\n",
       "      <td>...</td>\n",
       "      <td>NaN</td>\n",
       "      <td>NaN</td>\n",
       "      <td>NaN</td>\n",
       "      <td>NaN</td>\n",
       "      <td>NaN</td>\n",
       "      <td>NaN</td>\n",
       "      <td>NaN</td>\n",
       "      <td>1</td>\n",
       "      <td>unemployment_rate</td>\n",
       "      <td>11.7</td>\n",
       "    </tr>\n",
       "    <tr>\n",
       "      <th>...</th>\n",
       "      <td>...</td>\n",
       "      <td>...</td>\n",
       "      <td>...</td>\n",
       "      <td>...</td>\n",
       "      <td>...</td>\n",
       "      <td>...</td>\n",
       "      <td>...</td>\n",
       "      <td>...</td>\n",
       "      <td>...</td>\n",
       "      <td>...</td>\n",
       "      <td>...</td>\n",
       "      <td>...</td>\n",
       "      <td>...</td>\n",
       "      <td>...</td>\n",
       "      <td>...</td>\n",
       "      <td>...</td>\n",
       "      <td>...</td>\n",
       "      <td>...</td>\n",
       "      <td>...</td>\n",
       "      <td>...</td>\n",
       "      <td>...</td>\n",
       "    </tr>\n",
       "    <tr>\n",
       "      <th>67363</th>\n",
       "      <td>16</td>\n",
       "      <td>16077</td>\n",
       "      <td>2020-12-01</td>\n",
       "      <td>2.0</td>\n",
       "      <td>1.0</td>\n",
       "      <td>6.0</td>\n",
       "      <td>115.0</td>\n",
       "      <td>99.0</td>\n",
       "      <td>158.0</td>\n",
       "      <td>44.0</td>\n",
       "      <td>...</td>\n",
       "      <td>NaN</td>\n",
       "      <td>NaN</td>\n",
       "      <td>702.0</td>\n",
       "      <td>4147.0</td>\n",
       "      <td>3015.0</td>\n",
       "      <td>6196.000000</td>\n",
       "      <td>979.0</td>\n",
       "      <td>16</td>\n",
       "      <td>unemployment_rate</td>\n",
       "      <td>6.7</td>\n",
       "    </tr>\n",
       "    <tr>\n",
       "      <th>67364</th>\n",
       "      <td>16</td>\n",
       "      <td>16077</td>\n",
       "      <td>2021-01-01</td>\n",
       "      <td>0.0</td>\n",
       "      <td>3.0</td>\n",
       "      <td>2.0</td>\n",
       "      <td>115.0</td>\n",
       "      <td>99.0</td>\n",
       "      <td>158.0</td>\n",
       "      <td>44.0</td>\n",
       "      <td>...</td>\n",
       "      <td>NaN</td>\n",
       "      <td>NaN</td>\n",
       "      <td>681.0</td>\n",
       "      <td>NaN</td>\n",
       "      <td>3287.0</td>\n",
       "      <td>6236.000000</td>\n",
       "      <td>NaN</td>\n",
       "      <td>16</td>\n",
       "      <td>unemployment_rate</td>\n",
       "      <td>7.3</td>\n",
       "    </tr>\n",
       "    <tr>\n",
       "      <th>67365</th>\n",
       "      <td>16</td>\n",
       "      <td>16077</td>\n",
       "      <td>2021-02-01</td>\n",
       "      <td>0.0</td>\n",
       "      <td>0.0</td>\n",
       "      <td>5.0</td>\n",
       "      <td>115.0</td>\n",
       "      <td>99.0</td>\n",
       "      <td>158.0</td>\n",
       "      <td>43.0</td>\n",
       "      <td>...</td>\n",
       "      <td>NaN</td>\n",
       "      <td>NaN</td>\n",
       "      <td>680.0</td>\n",
       "      <td>NaN</td>\n",
       "      <td>3270.0</td>\n",
       "      <td>6248.782315</td>\n",
       "      <td>NaN</td>\n",
       "      <td>16</td>\n",
       "      <td>unemployment_rate</td>\n",
       "      <td>7.3</td>\n",
       "    </tr>\n",
       "    <tr>\n",
       "      <th>67366</th>\n",
       "      <td>16</td>\n",
       "      <td>16077</td>\n",
       "      <td>2021-03-01</td>\n",
       "      <td>4.0</td>\n",
       "      <td>0.0</td>\n",
       "      <td>4.0</td>\n",
       "      <td>114.0</td>\n",
       "      <td>100.0</td>\n",
       "      <td>158.0</td>\n",
       "      <td>42.0</td>\n",
       "      <td>...</td>\n",
       "      <td>NaN</td>\n",
       "      <td>NaN</td>\n",
       "      <td>749.0</td>\n",
       "      <td>NaN</td>\n",
       "      <td>3222.0</td>\n",
       "      <td>6219.427429</td>\n",
       "      <td>NaN</td>\n",
       "      <td>16</td>\n",
       "      <td>unemployment_rate</td>\n",
       "      <td>7.2</td>\n",
       "    </tr>\n",
       "    <tr>\n",
       "      <th>67367</th>\n",
       "      <td>16</td>\n",
       "      <td>16077</td>\n",
       "      <td>2021-04-01</td>\n",
       "      <td>1.0</td>\n",
       "      <td>1.0</td>\n",
       "      <td>4.0</td>\n",
       "      <td>110.0</td>\n",
       "      <td>100.0</td>\n",
       "      <td>158.0</td>\n",
       "      <td>46.0</td>\n",
       "      <td>...</td>\n",
       "      <td>NaN</td>\n",
       "      <td>NaN</td>\n",
       "      <td>769.0</td>\n",
       "      <td>NaN</td>\n",
       "      <td>3078.0</td>\n",
       "      <td>6228.279630</td>\n",
       "      <td>NaN</td>\n",
       "      <td>16</td>\n",
       "      <td>unemployment_rate</td>\n",
       "      <td>6.9</td>\n",
       "    </tr>\n",
       "  </tbody>\n",
       "</table>\n",
       "<p>67368 rows × 42 columns</p>\n",
       "</div>"
      ],
      "text/plain": [
       "       ags2_x   ags5       date  number_of_company_deletions  \\\n",
       "0           1   1001 2007-05-01                          4.0   \n",
       "1           1   1001 2007-06-01                          8.0   \n",
       "2           1   1001 2007-07-01                          9.0   \n",
       "3           1   1001 2007-08-01                          6.0   \n",
       "4           1   1001 2007-09-01                         11.0   \n",
       "...       ...    ...        ...                          ...   \n",
       "67363      16  16077 2020-12-01                          2.0   \n",
       "67364      16  16077 2021-01-01                          0.0   \n",
       "67365      16  16077 2021-02-01                          0.0   \n",
       "67366      16  16077 2021-03-01                          4.0   \n",
       "67367      16  16077 2021-04-01                          1.0   \n",
       "\n",
       "       number_of_company_liquidations  number_of_start_ups  \\\n",
       "0                                 2.0                 21.0   \n",
       "1                                 6.0                 18.0   \n",
       "2                                 0.0                 18.0   \n",
       "3                                 4.0                 10.0   \n",
       "4                                 4.0                  6.0   \n",
       "...                               ...                  ...   \n",
       "67363                             1.0                  6.0   \n",
       "67364                             3.0                  2.0   \n",
       "67365                             0.0                  5.0   \n",
       "67366                             0.0                  4.0   \n",
       "67367                             1.0                  4.0   \n",
       "\n",
       "       number_of_companies_administration  number_of_companies_agriculture  \\\n",
       "0                                     NaN                              NaN   \n",
       "1                                     NaN                              NaN   \n",
       "2                                     NaN                              NaN   \n",
       "3                                     NaN                              NaN   \n",
       "4                                     NaN                              NaN   \n",
       "...                                   ...                              ...   \n",
       "67363                               115.0                             99.0   \n",
       "67364                               115.0                             99.0   \n",
       "67365                               115.0                             99.0   \n",
       "67366                               114.0                            100.0   \n",
       "67367                               110.0                            100.0   \n",
       "\n",
       "       number_of_companies_arts_entertainment  \\\n",
       "0                                         NaN   \n",
       "1                                         NaN   \n",
       "2                                         NaN   \n",
       "3                                         NaN   \n",
       "4                                         NaN   \n",
       "...                                       ...   \n",
       "67363                                   158.0   \n",
       "67364                                   158.0   \n",
       "67365                                   158.0   \n",
       "67366                                   158.0   \n",
       "67367                                   158.0   \n",
       "\n",
       "       number_of_companies_communication  ...  \\\n",
       "0                                    NaN  ...   \n",
       "1                                    NaN  ...   \n",
       "2                                    NaN  ...   \n",
       "3                                    NaN  ...   \n",
       "4                                    NaN  ...   \n",
       "...                                  ...  ...   \n",
       "67363                               44.0  ...   \n",
       "67364                               44.0  ...   \n",
       "67365                               43.0  ...   \n",
       "67366                               42.0  ...   \n",
       "67367                               46.0  ...   \n",
       "\n",
       "       realized_short_time_work_companies  realized_short_time_work_people  \\\n",
       "0                                     NaN                              NaN   \n",
       "1                                     NaN                              NaN   \n",
       "2                                     NaN                              NaN   \n",
       "3                                     NaN                              NaN   \n",
       "4                                     NaN                              NaN   \n",
       "...                                   ...                              ...   \n",
       "67363                                 NaN                              NaN   \n",
       "67364                                 NaN                              NaN   \n",
       "67365                                 NaN                              NaN   \n",
       "67366                                 NaN                              NaN   \n",
       "67367                                 NaN                              NaN   \n",
       "\n",
       "       registerd_jobs  underemployment_without_short_time _work  unemployed  \\\n",
       "0                 NaN                                       NaN         NaN   \n",
       "1                 NaN                                       NaN         NaN   \n",
       "2                 NaN                                       NaN         NaN   \n",
       "3                 NaN                                       NaN         NaN   \n",
       "4                 NaN                                       NaN         NaN   \n",
       "...               ...                                       ...         ...   \n",
       "67363           702.0                                    4147.0      3015.0   \n",
       "67364           681.0                                       NaN      3287.0   \n",
       "67365           680.0                                       NaN      3270.0   \n",
       "67366           749.0                                       NaN      3222.0   \n",
       "67367           769.0                                       NaN      3078.0   \n",
       "\n",
       "       unemployment_benefit_entitled  unemployment_benefit_recipients  ags2_y  \\\n",
       "0                                NaN                              NaN       1   \n",
       "1                                NaN                              NaN       1   \n",
       "2                                NaN                              NaN       1   \n",
       "3                                NaN                              NaN       1   \n",
       "4                                NaN                              NaN       1   \n",
       "...                              ...                              ...     ...   \n",
       "67363                    6196.000000                            979.0      16   \n",
       "67364                    6236.000000                              NaN      16   \n",
       "67365                    6248.782315                              NaN      16   \n",
       "67366                    6219.427429                              NaN      16   \n",
       "67367                    6228.279630                              NaN      16   \n",
       "\n",
       "                variable  value  \n",
       "0      unemployment_rate   12.7  \n",
       "1      unemployment_rate   12.2  \n",
       "2      unemployment_rate   12.5  \n",
       "3      unemployment_rate   12.3  \n",
       "4      unemployment_rate   11.7  \n",
       "...                  ...    ...  \n",
       "67363  unemployment_rate    6.7  \n",
       "67364  unemployment_rate    7.3  \n",
       "67365  unemployment_rate    7.3  \n",
       "67366  unemployment_rate    7.2  \n",
       "67367  unemployment_rate    6.9  \n",
       "\n",
       "[67368 rows x 42 columns]"
      ]
     },
     "execution_count": 41,
     "metadata": {},
     "output_type": "execute_result"
    }
   ],
   "source": [
    "df_final_wide"
   ]
  },
  {
   "cell_type": "code",
   "execution_count": null,
   "metadata": {},
   "outputs": [],
   "source": []
  },
  {
   "cell_type": "markdown",
   "metadata": {},
   "source": [
    "### long"
   ]
  },
  {
   "cell_type": "code",
   "execution_count": 25,
   "metadata": {},
   "outputs": [
    {
     "data": {
      "text/plain": [
       "(543439, 5)"
      ]
     },
     "execution_count": 25,
     "metadata": {},
     "output_type": "execute_result"
    }
   ],
   "source": [
    "df_final_long.shape"
   ]
  },
  {
   "cell_type": "code",
   "execution_count": 26,
   "metadata": {},
   "outputs": [
    {
     "data": {
      "text/plain": [
       "(67769, 3)"
      ]
     },
     "execution_count": 26,
     "metadata": {},
     "output_type": "execute_result"
    }
   ],
   "source": [
    "df_long.shape"
   ]
  },
  {
   "cell_type": "code",
   "execution_count": 27,
   "metadata": {},
   "outputs": [],
   "source": [
    "df_final_long['date'] = pd.to_datetime(df_final_long['date'])"
   ]
  },
  {
   "cell_type": "code",
   "execution_count": 28,
   "metadata": {},
   "outputs": [],
   "source": [
    "# drop alq from original data\n",
    "df_final_long = df_final_long[df_final_long['variable']!='unemployment_rate']"
   ]
  },
  {
   "cell_type": "code",
   "execution_count": 29,
   "metadata": {},
   "outputs": [],
   "source": [
    "# # remove '-' and add 'd' for wide_to_long conversions\n",
    "# df_wide = df_wide.rename(columns=lambda x: re.sub('-', '', x))\n",
    "# df_wide = df_wide.rename(columns=lambda x: re.sub(r'([^\\s]+)', 'd\\\\1', x))"
   ]
  },
  {
   "cell_type": "code",
   "execution_count": 30,
   "metadata": {},
   "outputs": [],
   "source": [
    "# df_wide.reset_index(inplace=True)\n",
    "# df_wide.rename(columns={\"index\": \"ags5\"}, inplace=True)"
   ]
  },
  {
   "cell_type": "code",
   "execution_count": 31,
   "metadata": {},
   "outputs": [],
   "source": [
    "#df_wide"
   ]
  },
  {
   "cell_type": "code",
   "execution_count": 32,
   "metadata": {},
   "outputs": [],
   "source": [
    "# df_wide = pd.wide_to_long(df_wide, i=['ags5'], stubnames='d', j='date').reset_index()"
   ]
  },
  {
   "cell_type": "code",
   "execution_count": 33,
   "metadata": {},
   "outputs": [],
   "source": [
    "# df_wide.rename(columns={\"d\": \"ags5\"}, inplace=True)"
   ]
  },
  {
   "cell_type": "code",
   "execution_count": 34,
   "metadata": {},
   "outputs": [],
   "source": [
    "#df_final_long"
   ]
  },
  {
   "cell_type": "code",
   "execution_count": 35,
   "metadata": {},
   "outputs": [],
   "source": [
    "df_long['ags2'] = df_long['ags5'].astype(str).str[:-3]\n",
    "df_long.rename(columns={\"unemployment_rate\": \"value\"}, inplace=True)\n",
    "df_long['variable'] = 'unemployment_rate'"
   ]
  },
  {
   "cell_type": "code",
   "execution_count": 36,
   "metadata": {},
   "outputs": [],
   "source": [
    "df_long = df_long[['ags2', 'ags5', 'variable', 'date', 'value']]"
   ]
  },
  {
   "cell_type": "code",
   "execution_count": 37,
   "metadata": {},
   "outputs": [],
   "source": [
    "df_final_long = pd.concat([df_final_long, df_long], ignore_index=True)"
   ]
  },
  {
   "cell_type": "code",
   "execution_count": 38,
   "metadata": {},
   "outputs": [
    {
     "data": {
      "text/html": [
       "<div>\n",
       "<style scoped>\n",
       "    .dataframe tbody tr th:only-of-type {\n",
       "        vertical-align: middle;\n",
       "    }\n",
       "\n",
       "    .dataframe tbody tr th {\n",
       "        vertical-align: top;\n",
       "    }\n",
       "\n",
       "    .dataframe thead th {\n",
       "        text-align: right;\n",
       "    }\n",
       "</style>\n",
       "<table border=\"1\" class=\"dataframe\">\n",
       "  <thead>\n",
       "    <tr style=\"text-align: right;\">\n",
       "      <th></th>\n",
       "      <th>ags2</th>\n",
       "      <th>ags5</th>\n",
       "      <th>variable</th>\n",
       "      <th>date</th>\n",
       "      <th>value</th>\n",
       "    </tr>\n",
       "  </thead>\n",
       "  <tbody>\n",
       "    <tr>\n",
       "      <th>0</th>\n",
       "      <td>1</td>\n",
       "      <td>1001</td>\n",
       "      <td>number_of_company_deletions</td>\n",
       "      <td>2007-01-01</td>\n",
       "      <td>4.0</td>\n",
       "    </tr>\n",
       "    <tr>\n",
       "      <th>1</th>\n",
       "      <td>1</td>\n",
       "      <td>1001</td>\n",
       "      <td>number_of_company_deletions</td>\n",
       "      <td>2007-02-01</td>\n",
       "      <td>5.0</td>\n",
       "    </tr>\n",
       "    <tr>\n",
       "      <th>2</th>\n",
       "      <td>1</td>\n",
       "      <td>1001</td>\n",
       "      <td>number_of_company_deletions</td>\n",
       "      <td>2007-03-01</td>\n",
       "      <td>7.0</td>\n",
       "    </tr>\n",
       "    <tr>\n",
       "      <th>3</th>\n",
       "      <td>1</td>\n",
       "      <td>1001</td>\n",
       "      <td>number_of_company_deletions</td>\n",
       "      <td>2007-04-01</td>\n",
       "      <td>5.0</td>\n",
       "    </tr>\n",
       "    <tr>\n",
       "      <th>4</th>\n",
       "      <td>1</td>\n",
       "      <td>1001</td>\n",
       "      <td>number_of_company_deletions</td>\n",
       "      <td>2007-05-01</td>\n",
       "      <td>4.0</td>\n",
       "    </tr>\n",
       "    <tr>\n",
       "      <th>...</th>\n",
       "      <td>...</td>\n",
       "      <td>...</td>\n",
       "      <td>...</td>\n",
       "      <td>...</td>\n",
       "      <td>...</td>\n",
       "    </tr>\n",
       "    <tr>\n",
       "      <th>599975</th>\n",
       "      <td>16</td>\n",
       "      <td>16077</td>\n",
       "      <td>unemployment_rate</td>\n",
       "      <td>2021-01-01</td>\n",
       "      <td>7.3</td>\n",
       "    </tr>\n",
       "    <tr>\n",
       "      <th>599976</th>\n",
       "      <td>16</td>\n",
       "      <td>16077</td>\n",
       "      <td>unemployment_rate</td>\n",
       "      <td>2021-02-01</td>\n",
       "      <td>7.3</td>\n",
       "    </tr>\n",
       "    <tr>\n",
       "      <th>599977</th>\n",
       "      <td>16</td>\n",
       "      <td>16077</td>\n",
       "      <td>unemployment_rate</td>\n",
       "      <td>2021-03-01</td>\n",
       "      <td>7.2</td>\n",
       "    </tr>\n",
       "    <tr>\n",
       "      <th>599978</th>\n",
       "      <td>16</td>\n",
       "      <td>16077</td>\n",
       "      <td>unemployment_rate</td>\n",
       "      <td>2021-04-01</td>\n",
       "      <td>6.9</td>\n",
       "    </tr>\n",
       "    <tr>\n",
       "      <th>599979</th>\n",
       "      <td>16</td>\n",
       "      <td>16077</td>\n",
       "      <td>unemployment_rate</td>\n",
       "      <td>2021-05-01</td>\n",
       "      <td>6.7</td>\n",
       "    </tr>\n",
       "  </tbody>\n",
       "</table>\n",
       "<p>599980 rows × 5 columns</p>\n",
       "</div>"
      ],
      "text/plain": [
       "       ags2   ags5                     variable       date  value\n",
       "0         1   1001  number_of_company_deletions 2007-01-01    4.0\n",
       "1         1   1001  number_of_company_deletions 2007-02-01    5.0\n",
       "2         1   1001  number_of_company_deletions 2007-03-01    7.0\n",
       "3         1   1001  number_of_company_deletions 2007-04-01    5.0\n",
       "4         1   1001  number_of_company_deletions 2007-05-01    4.0\n",
       "...     ...    ...                          ...        ...    ...\n",
       "599975   16  16077            unemployment_rate 2021-01-01    7.3\n",
       "599976   16  16077            unemployment_rate 2021-02-01    7.3\n",
       "599977   16  16077            unemployment_rate 2021-03-01    7.2\n",
       "599978   16  16077            unemployment_rate 2021-04-01    6.9\n",
       "599979   16  16077            unemployment_rate 2021-05-01    6.7\n",
       "\n",
       "[599980 rows x 5 columns]"
      ]
     },
     "execution_count": 38,
     "metadata": {},
     "output_type": "execute_result"
    }
   ],
   "source": [
    "df_final_long"
   ]
  },
  {
   "cell_type": "code",
   "execution_count": 42,
   "metadata": {},
   "outputs": [],
   "source": [
    "# df_final_wide.to_csv('../../final_dfs/for_modeling/df_final_date_wide_2007.csv')\n",
    "# df_final_long.to_csv('../../final_dfs/for_modeling/df_final_date_long_2007.csv')"
   ]
  },
  {
   "cell_type": "code",
   "execution_count": null,
   "metadata": {},
   "outputs": [],
   "source": []
  }
 ],
 "metadata": {
  "kernelspec": {
   "display_name": "Python 3",
   "language": "python",
   "name": "python3"
  },
  "language_info": {
   "codemirror_mode": {
    "name": "ipython",
    "version": 3
   },
   "file_extension": ".py",
   "mimetype": "text/x-python",
   "name": "python",
   "nbconvert_exporter": "python",
   "pygments_lexer": "ipython3",
   "version": "3.8.5"
  }
 },
 "nbformat": 4,
 "nbformat_minor": 4
}
