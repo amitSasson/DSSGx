{
 "cells": [
  {
   "cell_type": "code",
   "execution_count": null,
   "metadata": {},
   "outputs": [],
   "source": []
  },
  {
   "cell_type": "code",
   "execution_count": 1,
   "metadata": {},
   "outputs": [],
   "source": [
    "import pandas as pd\n",
    "import datetime"
   ]
  },
  {
   "cell_type": "code",
   "execution_count": null,
   "metadata": {},
   "outputs": [],
   "source": []
  },
  {
   "cell_type": "code",
   "execution_count": 2,
   "metadata": {},
   "outputs": [],
   "source": [
    "Bestand_SteA_long = pd.read_csv('Bestand_SteA_long.csv', index_col=0)\n",
    "AST_long = pd.read_csv('AST_long.csv', index_col=0)\n",
    "SvB_AO_long = pd.read_csv('SvB_AO_long.csv', index_col=0)\n",
    "SvB_WO_long = pd.read_csv('SvB_WO_long.csv', index_col=0)"
   ]
  },
  {
   "cell_type": "code",
   "execution_count": null,
   "metadata": {},
   "outputs": [],
   "source": []
  },
  {
   "cell_type": "markdown",
   "metadata": {},
   "source": [
    "## merge"
   ]
  },
  {
   "cell_type": "code",
   "execution_count": 3,
   "metadata": {},
   "outputs": [],
   "source": [
    "df_final_wide = pd.read_csv('../../final_dfs/for_modeling/df_final_date_wide_2007.csv', index_col=0)\n",
    "df_final_long = pd.read_csv('../../final_dfs/for_modeling/df_final_date_long_2007.csv', index_col=0)"
   ]
  },
  {
   "cell_type": "code",
   "execution_count": 4,
   "metadata": {},
   "outputs": [],
   "source": [
    "#set(df_final_long['variable'])"
   ]
  },
  {
   "cell_type": "code",
   "execution_count": 5,
   "metadata": {},
   "outputs": [],
   "source": [
    "# fix date to first day of the month to merge\n",
    "def fix_day(date):\n",
    "    return date.replace(day=1)"
   ]
  },
  {
   "cell_type": "code",
   "execution_count": null,
   "metadata": {},
   "outputs": [],
   "source": []
  },
  {
   "cell_type": "markdown",
   "metadata": {},
   "source": [
    "### wide"
   ]
  },
  {
   "cell_type": "code",
   "execution_count": 6,
   "metadata": {},
   "outputs": [
    {
     "data": {
      "text/plain": [
       "(67368, 40)"
      ]
     },
     "execution_count": 6,
     "metadata": {},
     "output_type": "execute_result"
    }
   ],
   "source": [
    "df_final_wide.shape"
   ]
  },
  {
   "cell_type": "code",
   "execution_count": 7,
   "metadata": {},
   "outputs": [],
   "source": [
    "def wide_merge(df_wide, df_final_wide, varname):\n",
    "    df_wide['datetime'] = pd.to_datetime(df_wide['time_stamp'], format='%Y-%m-%d')\n",
    "    df_wide['date'] = df_wide['datetime'].apply(fix_day)\n",
    "    df_wide = df_wide[['ags5', 'date', 'value']]\n",
    "    df_wide.columns = ['ags5', 'date', f'{varname}']\n",
    "    df_final_wide['date'] = pd.to_datetime(df_final_wide['date'])\n",
    "    df_final_wide = df_final_wide.drop(columns=[f'{varname}'])\n",
    "    df_final_wide = pd.merge(df_final_wide, df_wide, on=['ags5', 'date'])\n",
    "    return df_final_wide"
   ]
  },
  {
   "cell_type": "code",
   "execution_count": 8,
   "metadata": {},
   "outputs": [],
   "source": [
    "df_final_wide = wide_merge(Bestand_SteA_long, df_final_wide, 'registerd_jobs')\n",
    "df_final_wide = wide_merge(AST_long, df_final_wide, 'unemployed')\n",
    "df_final_wide = wide_merge(SvB_AO_long, df_final_wide, 'employees_social_security_at_work')\n",
    "df_final_wide = wide_merge(SvB_WO_long, df_final_wide, 'employees_social_security_at_residence')"
   ]
  },
  {
   "cell_type": "code",
   "execution_count": 9,
   "metadata": {},
   "outputs": [
    {
     "data": {
      "text/plain": [
       "(65363, 40)"
      ]
     },
     "execution_count": 9,
     "metadata": {},
     "output_type": "execute_result"
    }
   ],
   "source": [
    "df_final_wide.shape"
   ]
  },
  {
   "cell_type": "code",
   "execution_count": null,
   "metadata": {},
   "outputs": [],
   "source": []
  },
  {
   "cell_type": "markdown",
   "metadata": {},
   "source": [
    "### long"
   ]
  },
  {
   "cell_type": "code",
   "execution_count": 10,
   "metadata": {},
   "outputs": [
    {
     "data": {
      "text/plain": [
       "(599980, 5)"
      ]
     },
     "execution_count": 10,
     "metadata": {},
     "output_type": "execute_result"
    }
   ],
   "source": [
    "df_final_long.shape"
   ]
  },
  {
   "cell_type": "code",
   "execution_count": 11,
   "metadata": {},
   "outputs": [],
   "source": [
    "def long_merge(df_long, df_final_long, varname):\n",
    "    df_final_long['date'] = pd.to_datetime(df_final_long['date'])\n",
    "    df_final_long = df_final_long[df_final_long['variable']!=varname]\n",
    "    df_long['ags2'] = df_long['ags5'].astype(str).str[:-3]\n",
    "    df_long.rename(columns={f'{varname}': \"value\"}, inplace=True)\n",
    "    df_long['variable'] = f'{varname}'\n",
    "    df_long = df_long[['ags2', 'ags5', 'variable', 'date', 'value']]\n",
    "    df_final_long = pd.concat([df_final_long, df_long], ignore_index=True)\n",
    "    return df_final_long"
   ]
  },
  {
   "cell_type": "code",
   "execution_count": 12,
   "metadata": {},
   "outputs": [],
   "source": [
    "df_final_long = long_merge(Bestand_SteA_long, df_final_long, 'registerd_jobs')\n",
    "df_final_long = long_merge(AST_long, df_final_long, 'unemployed')\n",
    "df_final_long = long_merge(SvB_AO_long, df_final_long, 'employees_social_security_at_work')\n",
    "df_final_long = long_merge(SvB_WO_long, df_final_long, 'employees_social_security_at_residence')"
   ]
  },
  {
   "cell_type": "code",
   "execution_count": 13,
   "metadata": {},
   "outputs": [
    {
     "data": {
      "text/plain": [
       "(855016, 5)"
      ]
     },
     "execution_count": 13,
     "metadata": {},
     "output_type": "execute_result"
    }
   ],
   "source": [
    "df_final_long.shape"
   ]
  },
  {
   "cell_type": "code",
   "execution_count": null,
   "metadata": {},
   "outputs": [],
   "source": []
  },
  {
   "cell_type": "code",
   "execution_count": 14,
   "metadata": {},
   "outputs": [],
   "source": [
    "# df_final_wide.to_csv('../../final_dfs/for_modeling/df_final_date_wide_2007.csv')\n",
    "# df_final_long.to_csv('../../final_dfs/for_modeling/df_final_date_long_2007.csv')"
   ]
  },
  {
   "cell_type": "code",
   "execution_count": null,
   "metadata": {},
   "outputs": [],
   "source": []
  }
 ],
 "metadata": {
  "kernelspec": {
   "display_name": "Python 3",
   "language": "python",
   "name": "python3"
  },
  "language_info": {
   "codemirror_mode": {
    "name": "ipython",
    "version": 3
   },
   "file_extension": ".py",
   "mimetype": "text/x-python",
   "name": "python",
   "nbconvert_exporter": "python",
   "pygments_lexer": "ipython3",
   "version": "3.8.5"
  }
 },
 "nbformat": 4,
 "nbformat_minor": 4
}
