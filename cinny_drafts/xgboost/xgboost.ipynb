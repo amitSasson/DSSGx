{
 "cells": [
  {
   "cell_type": "markdown",
   "metadata": {},
   "source": [
    "1. sort by time, split by time, but we have multiple rows for one single time\n",
    "2. integrate stationary data with time series model\n",
    "3. interpolate / backcast nan"
   ]
  },
  {
   "cell_type": "markdown",
   "metadata": {},
   "source": [
    "to see logging results, go to the directory of this folder and run `mlflow ui` in terminal. the server will be at http://127.0.0.1:5000."
   ]
  },
  {
   "cell_type": "code",
   "execution_count": 1,
   "metadata": {},
   "outputs": [],
   "source": [
    "# Import necessary libraries\n",
    "import os\n",
    "import pandas as pd\n",
    "import numpy as np\n",
    "\n",
    "# Mlflow\n",
    "import mlflow\n",
    "import mlflow.sklearn\n",
    "import mlflow.xgboost\n",
    "\n",
    "# Visualisation\n",
    "import seaborn as sns\n",
    "import matplotlib.pyplot as plt\n",
    "\n",
    "# Machine Learning\n",
    "import xgboost as xgb\n",
    "from xgboost import plot_importance, plot_tree\n",
    "\n",
    "# Model Evaluiation\n",
    "from sklearn.metrics import mean_squared_error, r2_score\n",
    "from sklearn.model_selection import train_test_split"
   ]
  },
  {
   "cell_type": "code",
   "execution_count": 2,
   "metadata": {},
   "outputs": [],
   "source": [
    "df1 = pd.read_csv('../../final_dfs/for_modeling/df_final_date_wide.csv')\n",
    "df2 = pd.read_csv('../../final_dfs/for_modeling/df_final_stationery.csv')"
   ]
  },
  {
   "cell_type": "code",
   "execution_count": 3,
   "metadata": {},
   "outputs": [
    {
     "data": {
      "text/plain": [
       "(11228, 40)"
      ]
     },
     "execution_count": 3,
     "metadata": {},
     "output_type": "execute_result"
    }
   ],
   "source": [
    "df1.shape"
   ]
  },
  {
   "cell_type": "code",
   "execution_count": 4,
   "metadata": {},
   "outputs": [
    {
     "data": {
      "text/plain": [
       "(401, 179)"
      ]
     },
     "execution_count": 4,
     "metadata": {},
     "output_type": "execute_result"
    }
   ],
   "source": [
    "df2.shape"
   ]
  },
  {
   "cell_type": "code",
   "execution_count": 5,
   "metadata": {},
   "outputs": [
    {
     "data": {
      "text/html": [
       "<div>\n",
       "<style scoped>\n",
       "    .dataframe tbody tr th:only-of-type {\n",
       "        vertical-align: middle;\n",
       "    }\n",
       "\n",
       "    .dataframe tbody tr th {\n",
       "        vertical-align: top;\n",
       "    }\n",
       "\n",
       "    .dataframe thead th {\n",
       "        text-align: right;\n",
       "    }\n",
       "</style>\n",
       "<table border=\"1\" class=\"dataframe\">\n",
       "  <thead>\n",
       "    <tr style=\"text-align: right;\">\n",
       "      <th></th>\n",
       "      <th>ags2</th>\n",
       "      <th>ags5</th>\n",
       "      <th>date</th>\n",
       "      <th>number_of_companies_administration</th>\n",
       "      <th>number_of_companies_agriculture</th>\n",
       "      <th>number_of_companies_arts_entertainment</th>\n",
       "      <th>number_of_companies_communication</th>\n",
       "      <th>number_of_companies_construction</th>\n",
       "      <th>number_of_companies_domestic_staff</th>\n",
       "      <th>number_of_companies_economic_services</th>\n",
       "      <th>...</th>\n",
       "      <th>employees_social_security_at_residence</th>\n",
       "      <th>employees_social_security_at_residenceemployees_social_security_at_work</th>\n",
       "      <th>realized_short_time_work_companies</th>\n",
       "      <th>realized_short_time_work_people</th>\n",
       "      <th>registerd_jobs</th>\n",
       "      <th>underemployment_without_short_time _work</th>\n",
       "      <th>unemployed</th>\n",
       "      <th>unemployment_benefit_entitled</th>\n",
       "      <th>unemployment_benefit_recipients</th>\n",
       "      <th>unemployment_rate</th>\n",
       "    </tr>\n",
       "  </thead>\n",
       "  <tbody>\n",
       "    <tr>\n",
       "      <th>0</th>\n",
       "      <td>1</td>\n",
       "      <td>1001</td>\n",
       "      <td>2019-01-01</td>\n",
       "      <td>34.0</td>\n",
       "      <td>14.0</td>\n",
       "      <td>108.0</td>\n",
       "      <td>131.0</td>\n",
       "      <td>264.0</td>\n",
       "      <td>0.0</td>\n",
       "      <td>130.0</td>\n",
       "      <td>...</td>\n",
       "      <td>NaN</td>\n",
       "      <td>NaN</td>\n",
       "      <td>NaN</td>\n",
       "      <td>NaN</td>\n",
       "      <td>819.0</td>\n",
       "      <td>6166.0</td>\n",
       "      <td>4275.0</td>\n",
       "      <td>11452.0</td>\n",
       "      <td>1155.0</td>\n",
       "      <td>8.2</td>\n",
       "    </tr>\n",
       "    <tr>\n",
       "      <th>1</th>\n",
       "      <td>1</td>\n",
       "      <td>1001</td>\n",
       "      <td>2019-02-01</td>\n",
       "      <td>-99.0</td>\n",
       "      <td>-99.0</td>\n",
       "      <td>-99.0</td>\n",
       "      <td>-99.0</td>\n",
       "      <td>-99.0</td>\n",
       "      <td>-99.0</td>\n",
       "      <td>-99.0</td>\n",
       "      <td>...</td>\n",
       "      <td>NaN</td>\n",
       "      <td>NaN</td>\n",
       "      <td>NaN</td>\n",
       "      <td>NaN</td>\n",
       "      <td>864.0</td>\n",
       "      <td>6054.0</td>\n",
       "      <td>4065.0</td>\n",
       "      <td>11506.0</td>\n",
       "      <td>1176.0</td>\n",
       "      <td>7.8</td>\n",
       "    </tr>\n",
       "  </tbody>\n",
       "</table>\n",
       "<p>2 rows × 40 columns</p>\n",
       "</div>"
      ],
      "text/plain": [
       "   ags2  ags5        date  number_of_companies_administration  \\\n",
       "0     1  1001  2019-01-01                                34.0   \n",
       "1     1  1001  2019-02-01                               -99.0   \n",
       "\n",
       "   number_of_companies_agriculture  number_of_companies_arts_entertainment  \\\n",
       "0                             14.0                                   108.0   \n",
       "1                            -99.0                                   -99.0   \n",
       "\n",
       "   number_of_companies_communication  number_of_companies_construction  \\\n",
       "0                              131.0                             264.0   \n",
       "1                              -99.0                             -99.0   \n",
       "\n",
       "   number_of_companies_domestic_staff  number_of_companies_economic_services  \\\n",
       "0                                 0.0                                  130.0   \n",
       "1                               -99.0                                  -99.0   \n",
       "\n",
       "   ...  employees_social_security_at_residence  \\\n",
       "0  ...                                     NaN   \n",
       "1  ...                                     NaN   \n",
       "\n",
       "   employees_social_security_at_residenceemployees_social_security_at_work  \\\n",
       "0                                                NaN                         \n",
       "1                                                NaN                         \n",
       "\n",
       "   realized_short_time_work_companies  realized_short_time_work_people  \\\n",
       "0                                 NaN                              NaN   \n",
       "1                                 NaN                              NaN   \n",
       "\n",
       "   registerd_jobs  underemployment_without_short_time _work  unemployed  \\\n",
       "0           819.0                                    6166.0      4275.0   \n",
       "1           864.0                                    6054.0      4065.0   \n",
       "\n",
       "   unemployment_benefit_entitled  unemployment_benefit_recipients  \\\n",
       "0                        11452.0                           1155.0   \n",
       "1                        11506.0                           1176.0   \n",
       "\n",
       "   unemployment_rate  \n",
       "0                8.2  \n",
       "1                7.8  \n",
       "\n",
       "[2 rows x 40 columns]"
      ]
     },
     "execution_count": 5,
     "metadata": {},
     "output_type": "execute_result"
    }
   ],
   "source": [
    "df1.head(2)"
   ]
  },
  {
   "cell_type": "code",
   "execution_count": null,
   "metadata": {},
   "outputs": [],
   "source": []
  },
  {
   "cell_type": "markdown",
   "metadata": {},
   "source": [
    "### prelim data cleaning"
   ]
  },
  {
   "cell_type": "code",
   "execution_count": 6,
   "metadata": {
    "collapsed": true
   },
   "outputs": [
    {
     "data": {
      "text/plain": [
       "ags2                                                                          0\n",
       "ags5                                                                          0\n",
       "date                                                                          0\n",
       "number_of_companies_administration                                            0\n",
       "number_of_companies_agriculture                                               0\n",
       "number_of_companies_arts_entertainment                                        0\n",
       "number_of_companies_communication                                             0\n",
       "number_of_companies_construction                                              0\n",
       "number_of_companies_domestic_staff                                            0\n",
       "number_of_companies_economic_services                                         0\n",
       "number_of_companies_education                                                 0\n",
       "number_of_companies_energy                                                    0\n",
       "number_of_companies_extraterritorial                                          0\n",
       "number_of_companies_financial_and_insurance                                   0\n",
       "number_of_companies_health_and_social_services                                0\n",
       "number_of_companies_hospitality                                               0\n",
       "number_of_companies_manufacturing                                             0\n",
       "number_of_companies_mining                                                    0\n",
       "number_of_companies_real_estat                                                0\n",
       "number_of_companies_rendering_other_services                                  0\n",
       "number_of_companies_repair_motor_vehicles                                     0\n",
       "number_of_companies_technical_services                                        0\n",
       "number_of_companies_transport                                                 0\n",
       "number_of_companies_unknown_sector                                            0\n",
       "number_of_companies_water_and_sewage                                          0\n",
       "number_of_company_deletions                                                   0\n",
       "number_of_company_liquidations                                                0\n",
       "number_of_start_ups                                                           0\n",
       "displayed_short_time_work_companies                                        4812\n",
       "displayed_short_time_work_people                                           4812\n",
       "employees_social_security_at_residence                                     8822\n",
       "employees_social_security_at_residenceemployees_social_security_at_work    8822\n",
       "realized_short_time_work_companies                                         7218\n",
       "realized_short_time_work_people                                            7218\n",
       "registerd_jobs                                                                0\n",
       "underemployment_without_short_time _work                                   1604\n",
       "unemployed                                                                    0\n",
       "unemployment_benefit_entitled                                               401\n",
       "unemployment_benefit_recipients                                            1604\n",
       "unemployment_rate                                                             0\n",
       "dtype: int64"
      ]
     },
     "execution_count": 6,
     "metadata": {},
     "output_type": "execute_result"
    }
   ],
   "source": [
    "df1.isna().sum()"
   ]
  },
  {
   "cell_type": "code",
   "execution_count": 7,
   "metadata": {},
   "outputs": [],
   "source": [
    "#df1 = df1.replace({'0':np.nan, 0:np.nan})"
   ]
  },
  {
   "cell_type": "code",
   "execution_count": null,
   "metadata": {},
   "outputs": [],
   "source": [
    "#df1.isna().sum()"
   ]
  },
  {
   "cell_type": "code",
   "execution_count": null,
   "metadata": {
    "scrolled": true
   },
   "outputs": [],
   "source": [
    "#df1.columns"
   ]
  },
  {
   "cell_type": "code",
   "execution_count": 8,
   "metadata": {},
   "outputs": [],
   "source": [
    "na_cols = ['displayed_short_time_work_companies',\n",
    "       'displayed_short_time_work_people',\n",
    "       'employees_social_security_at_residence',\n",
    "       'employees_social_security_at_residenceemployees_social_security_at_work',\n",
    "       'realized_short_time_work_companies', 'realized_short_time_work_people',\n",
    "       'underemployment_without_short_time _work',\n",
    "       'unemployment_benefit_entitled',\n",
    "       'unemployment_benefit_recipients']"
   ]
  },
  {
   "cell_type": "code",
   "execution_count": 9,
   "metadata": {},
   "outputs": [],
   "source": [
    "df1[na_cols] = df1[na_cols].replace({'0':np.nan, 0:np.nan})"
   ]
  },
  {
   "cell_type": "code",
   "execution_count": 10,
   "metadata": {
    "scrolled": true
   },
   "outputs": [
    {
     "data": {
      "text/plain": [
       "ags2                                                                          0\n",
       "ags5                                                                          0\n",
       "date                                                                          0\n",
       "number_of_companies_administration                                            0\n",
       "number_of_companies_agriculture                                               0\n",
       "number_of_companies_arts_entertainment                                        0\n",
       "number_of_companies_communication                                             0\n",
       "number_of_companies_construction                                              0\n",
       "number_of_companies_domestic_staff                                            0\n",
       "number_of_companies_economic_services                                         0\n",
       "number_of_companies_education                                                 0\n",
       "number_of_companies_energy                                                    0\n",
       "number_of_companies_extraterritorial                                          0\n",
       "number_of_companies_financial_and_insurance                                   0\n",
       "number_of_companies_health_and_social_services                                0\n",
       "number_of_companies_hospitality                                               0\n",
       "number_of_companies_manufacturing                                             0\n",
       "number_of_companies_mining                                                    0\n",
       "number_of_companies_real_estat                                                0\n",
       "number_of_companies_rendering_other_services                                  0\n",
       "number_of_companies_repair_motor_vehicles                                     0\n",
       "number_of_companies_technical_services                                        0\n",
       "number_of_companies_transport                                                 0\n",
       "number_of_companies_unknown_sector                                            0\n",
       "number_of_companies_water_and_sewage                                          0\n",
       "number_of_company_deletions                                                   0\n",
       "number_of_company_liquidations                                                0\n",
       "number_of_start_ups                                                           0\n",
       "displayed_short_time_work_companies                                        5365\n",
       "displayed_short_time_work_people                                           5365\n",
       "employees_social_security_at_residence                                     8822\n",
       "employees_social_security_at_residenceemployees_social_security_at_work    8822\n",
       "realized_short_time_work_companies                                         7328\n",
       "realized_short_time_work_people                                            7328\n",
       "registerd_jobs                                                                0\n",
       "underemployment_without_short_time _work                                   1604\n",
       "unemployed                                                                    0\n",
       "unemployment_benefit_entitled                                               401\n",
       "unemployment_benefit_recipients                                            1604\n",
       "unemployment_rate                                                             0\n",
       "dtype: int64"
      ]
     },
     "execution_count": 10,
     "metadata": {},
     "output_type": "execute_result"
    }
   ],
   "source": [
    "df1.isna().sum()"
   ]
  },
  {
   "cell_type": "code",
   "execution_count": null,
   "metadata": {},
   "outputs": [],
   "source": [
    "#df1 = df1.dropna()"
   ]
  },
  {
   "cell_type": "markdown",
   "metadata": {},
   "source": [
    "converting data to datetime and extracting time to fit in model"
   ]
  },
  {
   "cell_type": "code",
   "execution_count": 11,
   "metadata": {},
   "outputs": [
    {
     "data": {
      "text/plain": [
       "dtype('O')"
      ]
     },
     "execution_count": 11,
     "metadata": {},
     "output_type": "execute_result"
    }
   ],
   "source": [
    "df1.dtypes['date'] #object"
   ]
  },
  {
   "cell_type": "code",
   "execution_count": 12,
   "metadata": {},
   "outputs": [],
   "source": [
    "df1['date'] = pd.to_datetime(df1['date'], format='%Y-%m-%d', errors='ignore')"
   ]
  },
  {
   "cell_type": "code",
   "execution_count": 13,
   "metadata": {},
   "outputs": [
    {
     "data": {
      "text/plain": [
       "dtype('<M8[ns]')"
      ]
     },
     "execution_count": 13,
     "metadata": {},
     "output_type": "execute_result"
    }
   ],
   "source": [
    "df1.dtypes['date'] #datetime64[ns]"
   ]
  },
  {
   "cell_type": "code",
   "execution_count": 14,
   "metadata": {},
   "outputs": [],
   "source": [
    "# sort date to split by time\n",
    "df1 = df1.sort_values(by=['date', 'ags5'])"
   ]
  },
  {
   "cell_type": "code",
   "execution_count": 15,
   "metadata": {},
   "outputs": [],
   "source": [
    "df1 = df1.reset_index(drop=True)"
   ]
  },
  {
   "cell_type": "code",
   "execution_count": 16,
   "metadata": {},
   "outputs": [],
   "source": [
    "df1['year'] = df1['date'].dt.year\n",
    "df1['month'] = df1['date'].dt.month"
   ]
  },
  {
   "cell_type": "code",
   "execution_count": null,
   "metadata": {},
   "outputs": [],
   "source": [
    "#df1.dtypes"
   ]
  },
  {
   "cell_type": "code",
   "execution_count": null,
   "metadata": {},
   "outputs": [],
   "source": []
  },
  {
   "cell_type": "markdown",
   "metadata": {},
   "source": [
    "### training function"
   ]
  },
  {
   "cell_type": "code",
   "execution_count": 17,
   "metadata": {},
   "outputs": [],
   "source": [
    "def train_xgb(X_train, X_test, y_train, y_test, params, run_name='xgb_model_run'):\n",
    "    with mlflow.start_run(run_name=run_name):\n",
    "\n",
    "        reg = xgb.XGBRegressor(**params)\n",
    "        reg.fit(X_train, y_train)\n",
    "        y_pred = reg.predict(X_test)\n",
    "        \n",
    "        # evaluation metrics\n",
    "        mse = mean_squared_error(y_test, y_pred)\n",
    "        r2 = r2_score(y_test, y_pred)\n",
    "        \n",
    "        print(\"Model Run Statistics\")\n",
    "        print(f\"MSE: {mse}\")\n",
    "        print(f\"R2 Score: {r2}\")\n",
    "        \n",
    "        # parameters\n",
    "        mlflow.log_params(params)\n",
    "        mlflow.log_param('X_vars', str(list(X.columns)))\n",
    "        \n",
    "        # metrics\n",
    "        mlflow.log_metric(\"mse\", mse)\n",
    "        mlflow.log_metric(\"r2\", r2)\n",
    "        \n",
    "        # important features\n",
    "        imp_features = pd.DataFrame({\n",
    "            'features':X.columns, \n",
    "            'importance':reg.feature_importances_\n",
    "        })\n",
    "        imp_features.sort_values(by='importance', ascending=False, inplace=True)\n",
    "        print(imp_features.head(20))\n",
    "        \n",
    "        mlflow.log_param('imp_features', str(list(imp_features.head(20)['features'].values)))\n",
    "\n",
    "        mlflow.xgboost.log_model(reg, \"model\")\n",
    "        \n",
    "        # Return the model\n",
    "        return reg"
   ]
  },
  {
   "cell_type": "code",
   "execution_count": 18,
   "metadata": {},
   "outputs": [],
   "source": [
    "params_1 = {'n_estimators': 500,\n",
    "            'max_depth':4, \n",
    "            'min_samples_split':5,\n",
    "            'learning_rate': 0.01, \n",
    "            'loss':'ls', \n",
    "            'verbosity':1}"
   ]
  },
  {
   "cell_type": "code",
   "execution_count": 19,
   "metadata": {},
   "outputs": [],
   "source": [
    "params_2 = {'n_estimators': 1000,\n",
    "            'max_depth': 6, \n",
    "            'min_samples_split': 5,\n",
    "            'learning_rate': 0.01, \n",
    "            'loss':'ls', \n",
    "            'verbosity':1}"
   ]
  },
  {
   "cell_type": "markdown",
   "metadata": {},
   "source": [
    "### model v1"
   ]
  },
  {
   "cell_type": "code",
   "execution_count": 20,
   "metadata": {},
   "outputs": [],
   "source": [
    "# Create X and y \n",
    "X = df1.drop(na_cols, axis=1)\n",
    "X = df1.drop(['ags5', 'ags2', 'date', 'unemployment_rate'], axis=1) # do i need to drop \"unemployed\" as well\n",
    "y = df1['unemployment_rate']"
   ]
  },
  {
   "cell_type": "code",
   "execution_count": 21,
   "metadata": {},
   "outputs": [],
   "source": [
    "# split time-series data\n",
    "train_size = int(len(X)*0.5)\n",
    "X_train, X_test = X[0:train_size], X[train_size:len(X)]\n",
    "y_train, y_test = y[0:train_size], y[train_size:len(X)]"
   ]
  },
  {
   "cell_type": "code",
   "execution_count": 22,
   "metadata": {
    "collapsed": true
   },
   "outputs": [
    {
     "name": "stdout",
     "output_type": "stream",
     "text": [
      "[23:44:44] WARNING: /Users/travis/build/dmlc/xgboost/src/learner.cc:573: \n",
      "Parameters: { \"loss\", \"min_samples_split\" } might not be used.\n",
      "\n",
      "  This may not be accurate due to some parameters are only used in language bindings but\n",
      "  passed down to XGBoost core.  Or some parameters are not used but slip through this\n",
      "  verification. Please open an issue if you find above cases.\n",
      "\n",
      "\n",
      "Model Run Statistics\n",
      "MSE: 1.6286546485705409\n",
      "R2 Score: 0.6795852897821253\n",
      "                                          features  importance\n",
      "32        underemployment_without_short_time _work    0.141305\n",
      "10     number_of_companies_financial_and_insurance    0.112640\n",
      "1                  number_of_companies_agriculture    0.106464\n",
      "2           number_of_companies_arts_entertainment    0.096043\n",
      "34                   unemployment_benefit_entitled    0.081176\n",
      "24                             number_of_start_ups    0.052786\n",
      "13               number_of_companies_manufacturing    0.051311\n",
      "33                                      unemployed    0.044629\n",
      "3                number_of_companies_communication    0.043600\n",
      "17       number_of_companies_repair_motor_vehicles    0.041220\n",
      "4                 number_of_companies_construction    0.029026\n",
      "31                                  registerd_jobs    0.026335\n",
      "35                 unemployment_benefit_recipients    0.025684\n",
      "0               number_of_companies_administration    0.020793\n",
      "23                  number_of_company_liquidations    0.019092\n",
      "7                    number_of_companies_education    0.013155\n",
      "18          number_of_companies_technical_services    0.012918\n",
      "6            number_of_companies_economic_services    0.010895\n",
      "11  number_of_companies_health_and_social_services    0.010711\n",
      "19                   number_of_companies_transport    0.010296\n",
      "[23:44:46] WARNING: /Users/travis/build/dmlc/xgboost/src/learner.cc:573: \n",
      "Parameters: { \"loss\", \"min_samples_split\" } might not be used.\n",
      "\n",
      "  This may not be accurate due to some parameters are only used in language bindings but\n",
      "  passed down to XGBoost core.  Or some parameters are not used but slip through this\n",
      "  verification. Please open an issue if you find above cases.\n",
      "\n",
      "\n",
      "Model Run Statistics\n",
      "MSE: 1.3678354697051598\n",
      "R2 Score: 0.7308977651978092\n",
      "                                          features  importance\n",
      "10     number_of_companies_financial_and_insurance    0.169104\n",
      "34                   unemployment_benefit_entitled    0.144981\n",
      "32        underemployment_without_short_time _work    0.101090\n",
      "1                  number_of_companies_agriculture    0.094091\n",
      "24                             number_of_start_ups    0.069707\n",
      "33                                      unemployed    0.051155\n",
      "2           number_of_companies_arts_entertainment    0.049019\n",
      "3                number_of_companies_communication    0.043844\n",
      "13               number_of_companies_manufacturing    0.039260\n",
      "17       number_of_companies_repair_motor_vehicles    0.034746\n",
      "35                 unemployment_benefit_recipients    0.031342\n",
      "31                                  registerd_jobs    0.027831\n",
      "7                    number_of_companies_education    0.019149\n",
      "0               number_of_companies_administration    0.015114\n",
      "6            number_of_companies_economic_services    0.013806\n",
      "18          number_of_companies_technical_services    0.012252\n",
      "11  number_of_companies_health_and_social_services    0.010096\n",
      "23                  number_of_company_liquidations    0.006973\n",
      "4                 number_of_companies_construction    0.006760\n",
      "19                   number_of_companies_transport    0.006337\n"
     ]
    }
   ],
   "source": [
    "model1_1 = train_xgb(X_train, X_test, y_train, y_test, params_1, run_name='v1.1')\n",
    "model1_2 = train_xgb(X_train, X_test, y_train, y_test, params_2, run_name='v1.2')"
   ]
  },
  {
   "cell_type": "code",
   "execution_count": null,
   "metadata": {},
   "outputs": [],
   "source": []
  },
  {
   "cell_type": "markdown",
   "metadata": {},
   "source": [
    "### model v2\n",
    "how to backcast?\n",
    "\n",
    "interpolate data backwards: \n",
    "[pandas](https://pandas.pydata.org/pandas-docs/stable/reference/api/pandas.DataFrame.interpolate.html), \n",
    "[scipy](https://docs.scipy.org/doc/scipy/reference/interpolate.html), \n",
    "[other methods](https://www.machinelearningplus.com/time-series/time-series-analysis-python/#15howtotreatmissingvaluesinatimeseries)"
   ]
  },
  {
   "cell_type": "code",
   "execution_count": null,
   "metadata": {},
   "outputs": [],
   "source": [
    "ags5 = df1['ags5'].unique()"
   ]
  },
  {
   "cell_type": "code",
   "execution_count": 41,
   "metadata": {},
   "outputs": [],
   "source": [
    "def knn_mean(df, col):\n",
    "    n = (np.ceil(df.isna().sum()[col]/402)+1)*2\n",
    "    print(n)\n",
    "    ts = df[col].values\n",
    "    \n",
    "    out = np.copy(ts)\n",
    "    \n",
    "    # need to group by / filter with kreis\n",
    "    # need to backcast for each kreis each column\n",
    "    \n",
    "    for i, val in enumerate(ts):\n",
    "        if np.isnan(val):\n",
    "            n_by_2 = np.ceil(n/2)\n",
    "            lower = np.max([0, int(i-n_by_2)])\n",
    "            upper = np.min([len(ts)+1, int(i+n_by_2)])\n",
    "            ts_near = np.concatenate([ts[lower:i], ts[i:upper]])\n",
    "            out[i] = np.nanmean(ts_near)\n",
    "    return out"
   ]
  },
  {
   "cell_type": "code",
   "execution_count": null,
   "metadata": {},
   "outputs": [],
   "source": [
    "# Create X and y \n",
    "X = df1.drop(['ags5', 'ags2', 'date', 'unemployment_rate'], axis=1) # do i need to drop \"unemployed\" as well\n",
    "y = df1['unemployment_rate']"
   ]
  },
  {
   "cell_type": "code",
   "execution_count": 32,
   "metadata": {
    "collapsed": true
   },
   "outputs": [
    {
     "data": {
      "text/plain": [
       "ags2                                                                          0\n",
       "ags5                                                                          0\n",
       "date                                                                          0\n",
       "number_of_companies_administration                                            0\n",
       "number_of_companies_agriculture                                               0\n",
       "number_of_companies_arts_entertainment                                        0\n",
       "number_of_companies_communication                                             0\n",
       "number_of_companies_construction                                              0\n",
       "number_of_companies_domestic_staff                                            0\n",
       "number_of_companies_economic_services                                         0\n",
       "number_of_companies_education                                                 0\n",
       "number_of_companies_energy                                                    0\n",
       "number_of_companies_extraterritorial                                          0\n",
       "number_of_companies_financial_and_insurance                                   0\n",
       "number_of_companies_health_and_social_services                                0\n",
       "number_of_companies_hospitality                                               0\n",
       "number_of_companies_manufacturing                                             0\n",
       "number_of_companies_mining                                                    0\n",
       "number_of_companies_real_estat                                                0\n",
       "number_of_companies_rendering_other_services                                  0\n",
       "number_of_companies_repair_motor_vehicles                                     0\n",
       "number_of_companies_technical_services                                        0\n",
       "number_of_companies_transport                                                 0\n",
       "number_of_companies_unknown_sector                                            0\n",
       "number_of_companies_water_and_sewage                                          0\n",
       "number_of_company_deletions                                                   0\n",
       "number_of_company_liquidations                                                0\n",
       "number_of_start_ups                                                           0\n",
       "displayed_short_time_work_companies                                        5365\n",
       "displayed_short_time_work_people                                           5365\n",
       "employees_social_security_at_residence                                     8822\n",
       "employees_social_security_at_residenceemployees_social_security_at_work    8822\n",
       "realized_short_time_work_companies                                         7328\n",
       "realized_short_time_work_people                                            7328\n",
       "registerd_jobs                                                                0\n",
       "underemployment_without_short_time _work                                   1604\n",
       "unemployed                                                                    0\n",
       "unemployment_benefit_entitled                                               401\n",
       "unemployment_benefit_recipients                                            1604\n",
       "unemployment_rate                                                             0\n",
       "year                                                                          0\n",
       "month                                                                         0\n",
       "dtype: int64"
      ]
     },
     "execution_count": 32,
     "metadata": {},
     "output_type": "execute_result"
    }
   ],
   "source": [
    "df1.isna().sum()"
   ]
  },
  {
   "cell_type": "code",
   "execution_count": 42,
   "metadata": {},
   "outputs": [
    {
     "name": "stdout",
     "output_type": "stream",
     "text": [
      "32.0\n"
     ]
    },
    {
     "name": "stderr",
     "output_type": "stream",
     "text": [
      "<ipython-input-41-a6ee02122a82>:13: RuntimeWarning: Mean of empty slice\n",
      "  out[i] = np.nanmean(ts_near)\n"
     ]
    }
   ],
   "source": [
    "#X['dstwc_knn'] = \n",
    "knn_mean(df1, 'displayed_short_time_work_companies')"
   ]
  },
  {
   "cell_type": "code",
   "execution_count": null,
   "metadata": {},
   "outputs": [],
   "source": []
  },
  {
   "cell_type": "code",
   "execution_count": null,
   "metadata": {},
   "outputs": [],
   "source": []
  },
  {
   "cell_type": "code",
   "execution_count": null,
   "metadata": {},
   "outputs": [],
   "source": []
  },
  {
   "cell_type": "code",
   "execution_count": null,
   "metadata": {},
   "outputs": [],
   "source": []
  }
 ],
 "metadata": {
  "kernelspec": {
   "display_name": "Python 3",
   "language": "python",
   "name": "python3"
  },
  "language_info": {
   "codemirror_mode": {
    "name": "ipython",
    "version": 3
   },
   "file_extension": ".py",
   "mimetype": "text/x-python",
   "name": "python",
   "nbconvert_exporter": "python",
   "pygments_lexer": "ipython3",
   "version": "3.8.5"
  }
 },
 "nbformat": 4,
 "nbformat_minor": 4
}
